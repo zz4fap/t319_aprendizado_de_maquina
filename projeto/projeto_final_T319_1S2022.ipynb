{
 "cells": [
  {
   "cell_type": "markdown",
   "metadata": {
    "id": "Bpa_1m9niFLr"
   },
   "source": [
    "# Projeto Final - T319 (1S2022)\n",
    "\n",
    "### Instruções\n",
    "\n",
    "1. Quando você terminar os exercícios do projeto, vá até o menu do Jupyter ou Colab e selecione a opção para fazer download do notebook.\n",
    "    * Os notebooks tem extensão .ipynb. \n",
    "    * Este deve ser o arquivo que você irá entregar.\n",
    "    * No Jupyter vá até a opção **File** -> **Download as** -> **Notebook (.ipynb)**.\n",
    "    * No Colab vá até a opção **File** -> **Download .ipynb**.\n",
    "2. Após o download do notebook, vá até a aba de tarefas do MS Teams, localize a tarefa referente a este projeto e faça o upload do seu notebook. Veja que há uma opção de anexar arquivos à tarefa.\n",
    "3. Atente-se ao prazo de entrega definido na tarefa do MS Teams. Entregas fora do prazo não serão aceitas.\n",
    "4. **O projeto pode ser resolvido em grupos de no MÁXIMO 3 alunos**.\n",
    "5. Todas as questões têm o mesmo peso.\n",
    "6. Não se esqueça de colocar seu(s) nome(s) e número(s) de matrícula no campo abaixo. Substitua os nomes que já estão no campo abaixo.\n",
    "7. Você pode consultar todo o material de aula.\n",
    "8. A interpretação faz parte do projeto. Leia o enunciado de cada questão atentamente!\n",
    "9. Boa sorte!"
   ]
  },
  {
   "cell_type": "markdown",
   "metadata": {
    "id": "UVmRGH60iFLw"
   },
   "source": [
    "**Nomes e matrículas**:\n",
    "\n",
    "1. Nome do primeiro aluno - Matrícula do primeiro aluno\n",
    "2. Nome do segundo aluno - Matrícula do segundo aluno\n",
    "3. Nome do terceiro aluno - Matrícula do terceiro aluno"
   ]
  },
  {
   "cell_type": "markdown",
   "metadata": {
    "id": "cs_1NM9tiFLw"
   },
   "source": [
    "## Exercícios"
   ]
  },
  {
   "cell_type": "markdown",
   "metadata": {
    "id": "BUbtdl48iFLx"
   },
   "source": [
    "### 1) Regressão polinomial para previsão de temperatura.\n",
    "\n",
    "Neste exercício, você utilizará técnicas de **validação cruzada** para encontrar um modelo que prejeva a temperatura de uma cidade na Hungria com base em dados coletados sobre o clima da cidade no intervalo 2006 a 2016. As informações das **colunas** contidas no conjunto de dados seguem abaixo.\n",
    "\n",
    "|   |      Colunas     |\n",
    "|:-:|:----------------:|\n",
    "| 1 |  Formatted Date  |\n",
    "| 2 |    Summary       |\n",
    "| 3 |   Precip Type    |\n",
    "| 4 |  Temperature (C)  |\n",
    "| 5 |Apparent Temperature (C)|\n",
    "| 6 |     Humidity     |\n",
    "| 7 | Wind Speed (km/h)|\n",
    "| 8 |Wind Bearing (degress)|\n",
    "| 9 |  Visibility (km) |\n",
    "| 10 |   Loud Cover    |\n",
    "| 11 |Pressure (millibars)|\n",
    "| 12 |  Daily Summary  |\n",
    "\n",
    "\n",
    "Fonte dos dados: [Referência dados do Clima de Szeged](https://www.kaggle.com/budincsevity/szeged-weather?select=weatherHistory.csv)\n",
    "\n",
    "**A) Execute a célula abaixo para importar os dados e as bibliotecas necessárias**.\n",
    "\n",
    "**DICAS**\n",
    "\n",
    "+ Após a execução bem sucedida da célula abaixo, você visualizará as 5 primeiras linhas do arquivo."
   ]
  },
  {
   "cell_type": "code",
   "execution_count": 22,
   "metadata": {
    "colab": {
     "base_uri": "https://localhost:8080/",
     "height": 408
    },
    "id": "tTnDkNYFiFLx",
    "outputId": "2ac1acdc-657c-4ec2-d6b7-bd24900dc67b"
   },
   "outputs": [
    {
     "data": {
      "text/html": [
       "<div>\n",
       "<style scoped>\n",
       "    .dataframe tbody tr th:only-of-type {\n",
       "        vertical-align: middle;\n",
       "    }\n",
       "\n",
       "    .dataframe tbody tr th {\n",
       "        vertical-align: top;\n",
       "    }\n",
       "\n",
       "    .dataframe thead th {\n",
       "        text-align: right;\n",
       "    }\n",
       "</style>\n",
       "<table border=\"1\" class=\"dataframe\">\n",
       "  <thead>\n",
       "    <tr style=\"text-align: right;\">\n",
       "      <th></th>\n",
       "      <th>Formatted Date</th>\n",
       "      <th>Summary</th>\n",
       "      <th>Precip Type</th>\n",
       "      <th>Temperature (C)</th>\n",
       "      <th>Apparent Temperature (C)</th>\n",
       "      <th>Humidity</th>\n",
       "      <th>Wind Speed (km/h)</th>\n",
       "      <th>Wind Bearing (degrees)</th>\n",
       "      <th>Visibility (km)</th>\n",
       "      <th>Loud Cover</th>\n",
       "      <th>Pressure (millibars)</th>\n",
       "      <th>Daily Summary</th>\n",
       "    </tr>\n",
       "  </thead>\n",
       "  <tbody>\n",
       "    <tr>\n",
       "      <th>0</th>\n",
       "      <td>2006-04-01 00:00:00.000 +0200</td>\n",
       "      <td>Partly Cloudy</td>\n",
       "      <td>rain</td>\n",
       "      <td>9.472222</td>\n",
       "      <td>7.388889</td>\n",
       "      <td>0.89</td>\n",
       "      <td>14.1197</td>\n",
       "      <td>251.0</td>\n",
       "      <td>15.8263</td>\n",
       "      <td>0.0</td>\n",
       "      <td>1015.13</td>\n",
       "      <td>Partly cloudy throughout the day.</td>\n",
       "    </tr>\n",
       "    <tr>\n",
       "      <th>1</th>\n",
       "      <td>2006-04-01 01:00:00.000 +0200</td>\n",
       "      <td>Partly Cloudy</td>\n",
       "      <td>rain</td>\n",
       "      <td>9.355556</td>\n",
       "      <td>7.227778</td>\n",
       "      <td>0.86</td>\n",
       "      <td>14.2646</td>\n",
       "      <td>259.0</td>\n",
       "      <td>15.8263</td>\n",
       "      <td>0.0</td>\n",
       "      <td>1015.63</td>\n",
       "      <td>Partly cloudy throughout the day.</td>\n",
       "    </tr>\n",
       "    <tr>\n",
       "      <th>2</th>\n",
       "      <td>2006-04-01 02:00:00.000 +0200</td>\n",
       "      <td>Mostly Cloudy</td>\n",
       "      <td>rain</td>\n",
       "      <td>9.377778</td>\n",
       "      <td>9.377778</td>\n",
       "      <td>0.89</td>\n",
       "      <td>3.9284</td>\n",
       "      <td>204.0</td>\n",
       "      <td>14.9569</td>\n",
       "      <td>0.0</td>\n",
       "      <td>1015.94</td>\n",
       "      <td>Partly cloudy throughout the day.</td>\n",
       "    </tr>\n",
       "    <tr>\n",
       "      <th>3</th>\n",
       "      <td>2006-04-01 03:00:00.000 +0200</td>\n",
       "      <td>Partly Cloudy</td>\n",
       "      <td>rain</td>\n",
       "      <td>8.288889</td>\n",
       "      <td>5.944444</td>\n",
       "      <td>0.83</td>\n",
       "      <td>14.1036</td>\n",
       "      <td>269.0</td>\n",
       "      <td>15.8263</td>\n",
       "      <td>0.0</td>\n",
       "      <td>1016.41</td>\n",
       "      <td>Partly cloudy throughout the day.</td>\n",
       "    </tr>\n",
       "    <tr>\n",
       "      <th>4</th>\n",
       "      <td>2006-04-01 04:00:00.000 +0200</td>\n",
       "      <td>Mostly Cloudy</td>\n",
       "      <td>rain</td>\n",
       "      <td>8.755556</td>\n",
       "      <td>6.977778</td>\n",
       "      <td>0.83</td>\n",
       "      <td>11.0446</td>\n",
       "      <td>259.0</td>\n",
       "      <td>15.8263</td>\n",
       "      <td>0.0</td>\n",
       "      <td>1016.51</td>\n",
       "      <td>Partly cloudy throughout the day.</td>\n",
       "    </tr>\n",
       "  </tbody>\n",
       "</table>\n",
       "</div>"
      ],
      "text/plain": [
       "                  Formatted Date        Summary Precip Type  Temperature (C)  \\\n",
       "0  2006-04-01 00:00:00.000 +0200  Partly Cloudy        rain         9.472222   \n",
       "1  2006-04-01 01:00:00.000 +0200  Partly Cloudy        rain         9.355556   \n",
       "2  2006-04-01 02:00:00.000 +0200  Mostly Cloudy        rain         9.377778   \n",
       "3  2006-04-01 03:00:00.000 +0200  Partly Cloudy        rain         8.288889   \n",
       "4  2006-04-01 04:00:00.000 +0200  Mostly Cloudy        rain         8.755556   \n",
       "\n",
       "   Apparent Temperature (C)  Humidity  Wind Speed (km/h)  \\\n",
       "0                  7.388889      0.89            14.1197   \n",
       "1                  7.227778      0.86            14.2646   \n",
       "2                  9.377778      0.89             3.9284   \n",
       "3                  5.944444      0.83            14.1036   \n",
       "4                  6.977778      0.83            11.0446   \n",
       "\n",
       "   Wind Bearing (degrees)  Visibility (km)  Loud Cover  Pressure (millibars)  \\\n",
       "0                   251.0          15.8263         0.0               1015.13   \n",
       "1                   259.0          15.8263         0.0               1015.63   \n",
       "2                   204.0          14.9569         0.0               1015.94   \n",
       "3                   269.0          15.8263         0.0               1016.41   \n",
       "4                   259.0          15.8263         0.0               1016.51   \n",
       "\n",
       "                       Daily Summary  \n",
       "0  Partly cloudy throughout the day.  \n",
       "1  Partly cloudy throughout the day.  \n",
       "2  Partly cloudy throughout the day.  \n",
       "3  Partly cloudy throughout the day.  \n",
       "4  Partly cloudy throughout the day.  "
      ]
     },
     "execution_count": 22,
     "metadata": {},
     "output_type": "execute_result"
    }
   ],
   "source": [
    "import numpy as np\n",
    "import pandas as pd\n",
    "import matplotlib.pyplot as plt\n",
    "from sklearn.model_selection import train_test_split\n",
    "from sklearn.metrics import mean_squared_error\n",
    "from sklearn.linear_model import LinearRegression\n",
    "from sklearn.preprocessing import PolynomialFeatures, MinMaxScaler, StandardScaler\n",
    "from sklearn.pipeline import Pipeline\n",
    "from sklearn.metrics import mean_squared_error\n",
    "from sklearn.model_selection import train_test_split, cross_val_score, KFold\n",
    "\n",
    "# Importa os dados.\n",
    "df = pd.read_csv('https://raw.githubusercontent.com/zz4fap/t319_aprendizado_de_maquina/main/projeto/data_weather.csv')\n",
    "\n",
    "# Mostra uma tabela com os 5 primeiros exemplos.\n",
    "df.head()"
   ]
  },
  {
   "cell_type": "markdown",
   "metadata": {
    "id": "6lM1iAlgiFLz"
   },
   "source": [
    "**B) A célula abaixo cria a matriz de atributos e separa o rótulo dos atributos numéricos. Execute-a para realizar essa separação.**\n",
    "\n",
    "**DICAS**\n",
    "\n",
    "+ A função `drop` remove do conjunto atributos desnecessários à regressão.\n",
    "+ A célula imprimirá as dimensões da matriz de atributos e do vetor de rótulos."
   ]
  },
  {
   "cell_type": "code",
   "execution_count": 23,
   "metadata": {
    "colab": {
     "base_uri": "https://localhost:8080/"
    },
    "id": "jKBnuJlniFLz",
    "outputId": "7e872e76-41f7-4eef-88e6-7290f410a992"
   },
   "outputs": [
    {
     "name": "stdout",
     "output_type": "stream",
     "text": [
      "Dimensão da matriz de atributos: (43001, 5)\n",
      "Dimensão da matriz de rótulos: (43001,)\n"
     ]
    }
   ],
   "source": [
    "# Features/atributos\n",
    "X = df.drop(['Formatted Date', 'Summary', 'Precip Type', 'Daily Summary', 'Temperature (C)', 'Loud Cover', 'Apparent Temperature (C)'], axis=1)\n",
    "print('Dimensão da matriz de atributos:', X.shape)\n",
    "\n",
    "# Label/rótulo\n",
    "y = df['Temperature (C)'].copy()\n",
    "print('Dimensão da matriz de rótulos:',y.shape)"
   ]
  },
  {
   "cell_type": "markdown",
   "metadata": {
    "id": "-9cNMi3niFL0"
   },
   "source": [
    "**C) Com a matriz de atributos X e o vetor de rótulos y obtidos no item anterior, utilize a técnica de validação cruzada k-Fold para escolher a melhor ordem para o modelo. Para isso:**\n",
    "\n",
    " 1. Use o **k-Fold** com **k** igual a 10 e o parâmetro `random_state=0`.\n",
    " 2. Faça a análise de polinômios de ordem 1 até 6, **inclusive**.\n",
    " 3. Inclua o atributo de bias ao instanciar a classe `PolynomialFeatures` utilizando o parâmetro `include_bias=True`.\n",
    " 4. Use a classe `StandardScaler` para normalizar os dados.\n",
    " 5. Plote gráficos com a média e o desvio padrão do erro quadrático médio em função do grau do polinômio.\n",
    "\n",
    "**DICAS** \n",
    "\n",
    "+ O tempo de execução desse exercício é de aproximadamente 10 minutos, mas pode variar de computador para computador, portanto, pegue um café e tenha paciência."
   ]
  },
  {
   "cell_type": "code",
   "execution_count": 1,
   "metadata": {
    "colab": {
     "base_uri": "https://localhost:8080/",
     "height": 334
    },
    "id": "kqBFq4rpiFL1",
    "outputId": "3a88fec7-082a-43f5-c18a-bba70e6500e6"
   },
   "outputs": [],
   "source": [
    "# Digite o código do exercício aqui."
   ]
  },
  {
   "cell_type": "markdown",
   "metadata": {
    "id": "qFkYLPCDiFL2"
   },
   "source": [
    "**D) Após analisar os resultados do item anterior responda: Qual a melhor ordem do polinômio para esse problema? Justifique sua resposta.**"
   ]
  },
  {
   "cell_type": "markdown",
   "metadata": {
    "id": "UwIMYS2biFL2"
   },
   "source": [
    "<span style=\"color:blue\">Digite aqui a resposta do exercício.</span>\n",
    "\n",
    "**Resposta**"
   ]
  },
  {
   "cell_type": "markdown",
   "metadata": {
    "id": "uLrQ48EXiFL2"
   },
   "source": [
    "**E) De posse da melhor ordem, treine um novo modelo considerando esta ordem e no final imprima o valor do erro quadrático médio para os conjuntos de treinamento e de teste.**\n",
    "\n",
    "**DICAS**\n",
    "\n",
    "+ Separe 70% do conjunto de dados para o treinamento e 30% para o conjunto de validação com o parâmetro `random_state=0`.\n",
    "+ Inclua o bias ao instanciar a classe `PolynomialFeatures` utilizando o parâmetro `include_bias=True`.\n",
    "+ Use a classe `StandardScaler` para normalizar os dados."
   ]
  },
  {
   "cell_type": "code",
   "execution_count": 2,
   "metadata": {
    "colab": {
     "base_uri": "https://localhost:8080/"
    },
    "id": "p8I7Gxo9iFL3",
    "outputId": "7439de52-f733-481a-c52d-1a98b0c89c19"
   },
   "outputs": [],
   "source": [
    "# Digite o código do exercício aqui."
   ]
  },
  {
   "cell_type": "markdown",
   "metadata": {
    "id": "k-LHGda0iFL3"
   },
   "source": [
    "### 2) Prevendo a qualidade de vinhos.\n",
    "\n",
    "Neste exercício, você encontrará um modelo de regressão linear simples que, a partir das características fornecidas, determina a qualidade de um vinho dando uma nota de 0 a 10.\n",
    "\n",
    "O conjunto de dados é constituído por 1599 exemplos contendo 11 variáveis de entrada (*atributos*) e 1 variável de saída (*rótulos*). Todas essas variáveis estão descritas pela tabela abaixo.\n",
    "\n",
    "\n",
    "|   | Input variables (based on physicochemical tests) |\n",
    "|:-:|:------------------------------------------------:|\n",
    "| 1 |                  fixed acidity                   |\n",
    "| 2 |                volatile acidity                  |\n",
    "| 3 |                   citric acid                    |\n",
    "| 4 |                 residual sugar                   |\n",
    "| 5 |                    chlorides                     |\n",
    "| 6 |                free sulfur dioxide               |\n",
    "| 7 |                total sulfur dioxide              |\n",
    "| 8 |                     density                      |\n",
    "| 9 |                       pH                         |\n",
    "| 10 |                    sulphates                    |\n",
    "| 11 |                     alcohol                     |\n",
    "|    |    **Output variable (based on sensory data)**  |\n",
    "| 12 |          quality (score between 0 and 10)       |\n",
    "\n",
    "Fonte dos dados: [Referência dos dados sobre vinho](https://archive.ics.uci.edu/ml/datasets/wine+quality)\n",
    "\n",
    "\n",
    "**A) Execute a célula abaixo para importar os dados e as bibliotecas necessárias**.\n",
    "\n",
    "**DICAS**\n",
    "\n",
    "+ Após a execução bem sucedida da célula abaixo, você visualizará as 5 primeiras linhas do arquivo."
   ]
  },
  {
   "cell_type": "code",
   "execution_count": 72,
   "metadata": {
    "colab": {
     "base_uri": "https://localhost:8080/",
     "height": 204
    },
    "id": "HPr_UdChiFL3",
    "outputId": "f73d4777-7d2e-4e70-8407-99e616dd0529"
   },
   "outputs": [
    {
     "data": {
      "text/html": [
       "<div>\n",
       "<style scoped>\n",
       "    .dataframe tbody tr th:only-of-type {\n",
       "        vertical-align: middle;\n",
       "    }\n",
       "\n",
       "    .dataframe tbody tr th {\n",
       "        vertical-align: top;\n",
       "    }\n",
       "\n",
       "    .dataframe thead th {\n",
       "        text-align: right;\n",
       "    }\n",
       "</style>\n",
       "<table border=\"1\" class=\"dataframe\">\n",
       "  <thead>\n",
       "    <tr style=\"text-align: right;\">\n",
       "      <th></th>\n",
       "      <th>fixed acidity</th>\n",
       "      <th>volatile acidity</th>\n",
       "      <th>citric acid</th>\n",
       "      <th>residual sugar</th>\n",
       "      <th>chlorides</th>\n",
       "      <th>free sulfur dioxide</th>\n",
       "      <th>total sulfur dioxide</th>\n",
       "      <th>density</th>\n",
       "      <th>pH</th>\n",
       "      <th>sulphates</th>\n",
       "      <th>alcohol</th>\n",
       "      <th>quality</th>\n",
       "    </tr>\n",
       "  </thead>\n",
       "  <tbody>\n",
       "    <tr>\n",
       "      <th>0</th>\n",
       "      <td>7.4</td>\n",
       "      <td>0.70</td>\n",
       "      <td>0.00</td>\n",
       "      <td>1.9</td>\n",
       "      <td>0.076</td>\n",
       "      <td>11.0</td>\n",
       "      <td>34.0</td>\n",
       "      <td>0.9978</td>\n",
       "      <td>3.51</td>\n",
       "      <td>0.56</td>\n",
       "      <td>9.4</td>\n",
       "      <td>5</td>\n",
       "    </tr>\n",
       "    <tr>\n",
       "      <th>1</th>\n",
       "      <td>7.8</td>\n",
       "      <td>0.88</td>\n",
       "      <td>0.00</td>\n",
       "      <td>2.6</td>\n",
       "      <td>0.098</td>\n",
       "      <td>25.0</td>\n",
       "      <td>67.0</td>\n",
       "      <td>0.9968</td>\n",
       "      <td>3.20</td>\n",
       "      <td>0.68</td>\n",
       "      <td>9.8</td>\n",
       "      <td>5</td>\n",
       "    </tr>\n",
       "    <tr>\n",
       "      <th>2</th>\n",
       "      <td>7.8</td>\n",
       "      <td>0.76</td>\n",
       "      <td>0.04</td>\n",
       "      <td>2.3</td>\n",
       "      <td>0.092</td>\n",
       "      <td>15.0</td>\n",
       "      <td>54.0</td>\n",
       "      <td>0.9970</td>\n",
       "      <td>3.26</td>\n",
       "      <td>0.65</td>\n",
       "      <td>9.8</td>\n",
       "      <td>5</td>\n",
       "    </tr>\n",
       "    <tr>\n",
       "      <th>3</th>\n",
       "      <td>11.2</td>\n",
       "      <td>0.28</td>\n",
       "      <td>0.56</td>\n",
       "      <td>1.9</td>\n",
       "      <td>0.075</td>\n",
       "      <td>17.0</td>\n",
       "      <td>60.0</td>\n",
       "      <td>0.9980</td>\n",
       "      <td>3.16</td>\n",
       "      <td>0.58</td>\n",
       "      <td>9.8</td>\n",
       "      <td>6</td>\n",
       "    </tr>\n",
       "    <tr>\n",
       "      <th>4</th>\n",
       "      <td>7.4</td>\n",
       "      <td>0.70</td>\n",
       "      <td>0.00</td>\n",
       "      <td>1.9</td>\n",
       "      <td>0.076</td>\n",
       "      <td>11.0</td>\n",
       "      <td>34.0</td>\n",
       "      <td>0.9978</td>\n",
       "      <td>3.51</td>\n",
       "      <td>0.56</td>\n",
       "      <td>9.4</td>\n",
       "      <td>5</td>\n",
       "    </tr>\n",
       "  </tbody>\n",
       "</table>\n",
       "</div>"
      ],
      "text/plain": [
       "   fixed acidity  volatile acidity  citric acid  residual sugar  chlorides  \\\n",
       "0            7.4              0.70         0.00             1.9      0.076   \n",
       "1            7.8              0.88         0.00             2.6      0.098   \n",
       "2            7.8              0.76         0.04             2.3      0.092   \n",
       "3           11.2              0.28         0.56             1.9      0.075   \n",
       "4            7.4              0.70         0.00             1.9      0.076   \n",
       "\n",
       "   free sulfur dioxide  total sulfur dioxide  density    pH  sulphates  \\\n",
       "0                 11.0                  34.0   0.9978  3.51       0.56   \n",
       "1                 25.0                  67.0   0.9968  3.20       0.68   \n",
       "2                 15.0                  54.0   0.9970  3.26       0.65   \n",
       "3                 17.0                  60.0   0.9980  3.16       0.58   \n",
       "4                 11.0                  34.0   0.9978  3.51       0.56   \n",
       "\n",
       "   alcohol  quality  \n",
       "0      9.4        5  \n",
       "1      9.8        5  \n",
       "2      9.8        5  \n",
       "3      9.8        6  \n",
       "4      9.4        5  "
      ]
     },
     "execution_count": 72,
     "metadata": {},
     "output_type": "execute_result"
    }
   ],
   "source": [
    "import numpy as np\n",
    "import pandas as pd\n",
    "import matplotlib.pyplot as plt\n",
    "from sklearn.model_selection import train_test_split\n",
    "from sklearn.metrics import mean_squared_error\n",
    "from sklearn.linear_model import LinearRegression\n",
    "from sklearn.preprocessing import PolynomialFeatures, MinMaxScaler\n",
    "from sklearn.pipeline import Pipeline\n",
    "from sklearn.metrics import mean_squared_error\n",
    "from sklearn.model_selection import train_test_split\n",
    "\n",
    "# Importa os dados\n",
    "df = pd.read_csv('https://raw.githubusercontent.com/zz4fap/t319_aprendizado_de_maquina/main/projeto/winequality-red.csv', sep=';')\n",
    "\n",
    "# Mostra uma tabela com os 5 primeiros exemplos \n",
    "df.head()"
   ]
  },
  {
   "cell_type": "markdown",
   "metadata": {
    "id": "__oSg-70iFL4"
   },
   "source": [
    "**B) Com os dados importados, execute a próxima célula para separar os atributos e os rótulos**.\n",
    "\n",
    "**DICAS**\n",
    "\n",
    "+ A função `drop` remove do conjunto atributos desnecessários à regressão.\n",
    "+ A célula imprimirá as dimensões da matriz de atributos e do vetor de rótulos."
   ]
  },
  {
   "cell_type": "code",
   "execution_count": 73,
   "metadata": {
    "colab": {
     "base_uri": "https://localhost:8080/"
    },
    "id": "sPIGm4mriFL4",
    "outputId": "5c599d0b-c013-480b-98a9-95f8482c78bc"
   },
   "outputs": [
    {
     "name": "stdout",
     "output_type": "stream",
     "text": [
      "Dimensão da matriz de atributos: (1599, 11)\n",
      "Dimensão da matriz de rótulos: (1599,)\n"
     ]
    }
   ],
   "source": [
    "# Features/Atributos\n",
    "X = df.drop('quality', axis=1)\n",
    "print('Dimensão da matriz de atributos:', X.shape)\n",
    "\n",
    "# Label/Rótulo\n",
    "y = df['quality'].copy()\n",
    "print('Dimensão da matriz de rótulos:',y.shape)"
   ]
  },
  {
   "cell_type": "markdown",
   "metadata": {
    "id": "qRf5md57iFL4"
   },
   "source": [
    "**C) Separe 80% do conjunto de dados para o treinamento e 20% para a validação**.\n",
    "\n",
    "**DICAS**:\n",
    "\n",
    "+ Use a função `train_test_split` da biblioteca SciKit-Learn.\n",
    "+ Configure o parâmetro `random_state` da função `train_test_split` com o valor 42."
   ]
  },
  {
   "cell_type": "code",
   "execution_count": 3,
   "metadata": {
    "id": "n9C5Jq5piFL4"
   },
   "outputs": [],
   "source": [
    "# Digite o código do exercício aqui."
   ]
  },
  {
   "cell_type": "markdown",
   "metadata": {
    "id": "2fi2wIcjiFL7"
   },
   "source": [
    "**D) Neste item utilizaremos regressão polinomial para a aproximação. Utilize a técnica de validação cruzada do holdout para verificar polinômios de ordem 1 a 3, inclusive. Plote o gráfico dos erros de treinamento e validação em função da ordem do polinômio**.\n",
    "\n",
    "**DICAS**\n",
    "\n",
    "+ Use um objeto da classe `StandardScaler` para fazer a normalização dos dados.\n",
    "+ Juntamente com objetos das classes `PolynomialFeatures` e `LinearRegression`, crie um pipeline de ações para o modelo."
   ]
  },
  {
   "cell_type": "code",
   "execution_count": 4,
   "metadata": {
    "colab": {
     "base_uri": "https://localhost:8080/",
     "height": 280
    },
    "id": "-Hwq5xfTiFL7",
    "outputId": "192b90b9-0647-4cf4-a6e3-64874f364a11"
   },
   "outputs": [],
   "source": [
    "# Digite o código do exercício aqui."
   ]
  },
  {
   "cell_type": "markdown",
   "metadata": {
    "id": "2yrjUVA9iFL8"
   },
   "source": [
    "**E) Com base no gráfico apresentado no item anterior com o erro versus o grau do polinômio, qual seria a melhor ordem para o polinômio aproximador? Justifique sua resposta.**"
   ]
  },
  {
   "cell_type": "markdown",
   "metadata": {
    "id": "KnRB4MxjiFL8"
   },
   "source": [
    "<span style=\"color:blue\">Digite aqui a resposta do exercício.</span>\n",
    "\n",
    "**Resposta**"
   ]
  },
  {
   "cell_type": "markdown",
   "metadata": {
    "id": "3onJT4ariFL8"
   },
   "source": [
    "### 3) Comparando o desempenho de modelos de regressão.\n",
    "\n",
    "Nesse exercício, você fará o treinamento de dois modelos de regressão e ao final, comparará seus desempenhos.\n",
    "\n",
    "**A) Execute a célula abaixo para importar os dados e as bibliotecas necessárias**."
   ]
  },
  {
   "cell_type": "code",
   "execution_count": 149,
   "metadata": {
    "colab": {
     "base_uri": "https://localhost:8080/",
     "height": 300
    },
    "id": "Vz4s9xUTiFL8",
    "outputId": "f8dbbc08-477b-4c70-e10b-0b3523a382e7"
   },
   "outputs": [
    {
     "data": {
      "image/png": "[encoded data removed]",
      "text/plain": [
       "<Figure size 432x288 with 1 Axes>"
      ]
     },
     "metadata": {
      "needs_background": "light"
     },
     "output_type": "display_data"
    }
   ],
   "source": [
    "import numpy as np\n",
    "import pandas as pd\n",
    "import matplotlib.pyplot as plt\n",
    "from sklearn.model_selection import train_test_split\n",
    "from sklearn.metrics import mean_squared_error\n",
    "from sklearn.linear_model import LinearRegression, Ridge\n",
    "from sklearn.linear_model import RidgeCV\n",
    "from sklearn.metrics import mean_squared_error\n",
    "from sklearn.preprocessing import PolynomialFeatures, StandardScaler\n",
    "from sklearn.pipeline import Pipeline\n",
    "\n",
    "# Reset PN sequence generator.\n",
    "seed = 42\n",
    "np.random.seed(seed)\n",
    "\n",
    "# Números de amostras.\n",
    "N = 100\n",
    "\n",
    "# Dados.\n",
    "x = np.linspace(-0.5, 0.5, N).reshape(N, 1)\n",
    "w = 0.1*np.random.randn(N, 1)\n",
    "y = 2*x**7 - 4*x**3 + 3.2*x**2 + 1\n",
    "y_noisy = y + w\n",
    "\n",
    "# Visualização dos dados\n",
    "plt.plot(x.ravel(), y.ravel(), label='Função original')\n",
    "plt.plot(x.ravel(), y_noisy.ravel(), 'x', label='Função ruidosa')\n",
    "plt.xlabel('x', fontsize=14) \n",
    "plt.ylabel('y', fontsize=14)\n",
    "plt.title('Dados', fontsize=14)\n",
    "plt.grid()\n",
    "plt.legend()\n",
    "plt.show()"
   ]
  },
  {
   "cell_type": "markdown",
   "metadata": {
    "id": "Fy3zjob9iFL9"
   },
   "source": [
    "**B) Após analisar o gráfico do item anterior, responda. Uma reta teria capacidade/flexibilidade suficiente para gerar um modelo que se aproxime bem dos dados originais? Se sim, justifique. Caso sua resposta seja não, apresente uma possível alternativa.**"
   ]
  },
  {
   "cell_type": "markdown",
   "metadata": {
    "id": "uKtkjAo6iFL9"
   },
   "source": [
    "<span style=\"color:blue\">Digite aqui a resposta do exercício.</span>\n",
    "\n",
    "**Resposta**"
   ]
  },
  {
   "cell_type": "markdown",
   "metadata": {
    "id": "R3z5U8HRiFL9"
   },
   "source": [
    "**C) Sabe-se que o modelo ideal para esses dados é obtido por meio da regressão linear com polinômio de ordem igual a 7. Suponha que você não saiba da informação anterior e tenha escolhido um polinômio de ordem igual a 40 para treinar o modelo. Qual problema você encontraria? Seu modelo iria sobreajustar ou subajustar? Como esse problema poderia ser mitigado? (Justifique todas as respostas)**"
   ]
  },
  {
   "cell_type": "markdown",
   "metadata": {
    "id": "bNrpgZVViFL9"
   },
   "source": [
    "<span style=\"color:blue\">Digite aqui a resposta do exercício.</span>\n",
    "\n",
    "**Resposta**"
   ]
  },
  {
   "cell_type": "markdown",
   "metadata": {
    "id": "tAlHAPuDiFL9"
   },
   "source": [
    "**D) Com base em sua resposta do item anterior, treine três modelos:**\n",
    "\n",
    "1. Treine um primeiro modelo de regressão polinomial com ordem igual a 7, calcule o erro quadrático médio e compare as funções original, ruidosa e aproximada:\n",
    " - Inclua o bias ao instanciar a classe `PolynomialFeatures` utilizando o parâmetro `include_bias=True`.\n",
    " - Padronize os dados com o uso da classe `StandardScaler`.\n",
    " - Como sempre, use um **pipeline** para sequencializar a aplicação das ações. Use um objeto da classe `Pipeline`.\n",
    " - Imprima o erro quadrático médio. O erro deve ser calculado com o **conjunto total de amostras**.\n",
    " - Ao final, plote uma figura que compare as funções original, ruidosa e aproximada.\n",
    " - Observe que o modelo treinado se aproxima bastante da função original."
   ]
  },
  {
   "cell_type": "code",
   "execution_count": 5,
   "metadata": {
    "colab": {
     "base_uri": "https://localhost:8080/",
     "height": 300
    },
    "id": "e5d-Wm-4iFL9",
    "outputId": "0883e9d3-4301-41c6-b177-9211fd379111"
   },
   "outputs": [],
   "source": [
    "# Digite o código do exercício aqui. (Modelo 1)."
   ]
  },
  {
   "cell_type": "markdown",
   "metadata": {
    "id": "V6ACxJJ5iFL-"
   },
   "source": [
    "2. Treine um segundo modelo de regressão polinomial com ordem igual a 70, calcule o erro quadrático médio e compare as funções original, ruidosa e aproximada:\n",
    " - Inclua o bias ao instanciar a classe `PolynomialFeatures` utilizando o parâmetro `include_bias=True`.\n",
    " - Padronize os dados com o uso da classe `StandardScaler`.\n",
    " - Como sempre, use um **pipeline** para sequencializar a aplicação das ações. Use um objeto da classe `Pipeline`.\n",
    " - Imprima o erro quadrático médio. O erro deve ser calculado com o **conjunto total de amostras**.\n",
    " - Ao final, plote uma figura que compare as funções original, ruidosa e aproximada.\n",
    " - Verifique que está ocorrendo o fenômeno mencionado por você no item C deste exercício."
   ]
  },
  {
   "cell_type": "code",
   "execution_count": 6,
   "metadata": {
    "colab": {
     "base_uri": "https://localhost:8080/",
     "height": 300
    },
    "id": "y4mIzXEriFL-",
    "outputId": "3dc47642-a6f2-4a16-f664-f83fc05b3f3a"
   },
   "outputs": [],
   "source": [
    "# Digite o código do exercício aqui. (Modelo 2)."
   ]
  },
  {
   "cell_type": "markdown",
   "metadata": {
    "id": "0iGnwheViFL-"
   },
   "source": [
    "3. Encontre o valor ótimo do **fator de regularização**, $\\lambda$, para um modelo de regressão polinomial com regularização L2, ou seja, **regressão Ridge**, com ordem igual a 70. Ao final, imprima o valor ótimo encontrado para o **fator de regularização**.\n",
    "\n",
    "**DICAS**\n",
    "\n",
    "+ Você precisará encontrar o valor ótimo do **fator de regularização**, $\\lambda$.\n",
    "+ Para isso, use um objeto da classe `RidgeCV` passando para o parâmetro de entrada `alphas` (que aqui é o fator de regularização) um sequência de 100000 valores retirados de um intervalo linear entre 0.1 e 2. Veja o exemplo abaixo:\n",
    "```python\n",
    "M = 100000\n",
    "np.linspace(0.1,2,M)\n",
    "```\n",
    "+ Para mais informações sobre a classe `RidgeCV`, acesse sua documentação através do seguinte link: [Documentação RidgeCV](https://scikit-learn.org/stable/modules/generated/sklearn.linear_model.RidgeCV.html?highlight=ridgecv#sklearn.linear_model.RidgeCV).\n",
    "+ Inclua o atributo de bias ao instanciar a classe `PolynomialFeatures` utilizando o parâmetro `include_bias=True`.\n",
    "+ Padronize os dados com o uso da classe `StandardScaler`.\n",
    "+ Como sempre, use um pipeline para sequencializar a aplicação das ações. Use um objeto da classe `Pipeline`.\n",
    "+ Após o treinamento do objeto da classe `RidgeCV`, o valor ótimo do **fator de regularização** pode ser acessado como mostrado abaixo. No exemplo abaixo, o objeto da classe `Pipeline` se chama `clf` e o nome dado ao objeto da classe `RidgeCV` é `reg`.\n",
    "```python\n",
    "clf['reg'].alpha_\n",
    "```"
   ]
  },
  {
   "cell_type": "code",
   "execution_count": 7,
   "metadata": {
    "colab": {
     "base_uri": "https://localhost:8080/"
    },
    "id": "PY3Mt4cmiFL_",
    "outputId": "18afd211-bf5a-462a-e9d3-513e4e693e62"
   },
   "outputs": [],
   "source": [
    "# Digite o código do exercício aqui."
   ]
  },
  {
   "cell_type": "markdown",
   "metadata": {
    "id": "YNfRgwDkiFL_"
   },
   "source": [
    "4. De posse do valor ótimo do **fator de regularização**, treine um terceiro modelo de regressão polinomial com ordem igual a 70 e:\n",
    "\n",
    " - Utilize regularização L2 (use a classe `Ridge`) para aproximar o modelo 1.\n",
    " - Instancie um objeto da classe `Ridge` com o valor ótimo do **fator de regularização** encontrado no item anterior.\n",
    " - Inclua o atributo de bias ao instanciar a classe `PolynomialFeatures` utilizando o parâmetro `include_bias=True`.\n",
    " - Padronize os dados com o uso da classe `StandardScaler`.\n",
    " - Como sempre, use um pipeline para sequencializar a aplicação das ações. Use um objeto da classe `Pipeline`.\n",
    " - Imprima o erro quadrático médio. O erro deve ser calculado com o conjunto total de amostras.\n",
    " - Ao final, plote uma figura que compare as funções original, ruidosa e aproximada.\n",
    " - Analise o resultado mostrado na figura."
   ]
  },
  {
   "cell_type": "code",
   "execution_count": 8,
   "metadata": {
    "colab": {
     "base_uri": "https://localhost:8080/",
     "height": 300
    },
    "id": "xmJDaQTjiFL_",
    "outputId": "e32144c9-739b-459b-c5eb-0e90744ea12d"
   },
   "outputs": [],
   "source": [
    "# Digite o código do exercício aqui. (Modelo 3)."
   ]
  },
  {
   "cell_type": "markdown",
   "metadata": {
    "id": "06uoTcGGiFL_"
   },
   "source": [
    "**E) Plote as funções original, ruidosa e as aproximações obtidas com os modelos 1, 2 e 3.**\n",
    "\n",
    "**DICAS**\n",
    "\n",
    "+ Use cores diferentes para cada função."
   ]
  },
  {
   "cell_type": "code",
   "execution_count": 9,
   "metadata": {
    "colab": {
     "base_uri": "https://localhost:8080/",
     "height": 283
    },
    "id": "_D-0ntsiiFL_",
    "outputId": "9c5cbd45-fb74-4cca-8a09-370a809c11a0"
   },
   "outputs": [],
   "source": [
    "# Digite o código do exercício aqui. "
   ]
  },
  {
   "cell_type": "markdown",
   "metadata": {
    "id": "_33SAMnNiFL_"
   },
   "source": [
    "**F) Após analisar a figura do item anterior, responda:** \n",
    "\n",
    "1. O modelo 3 (modelo utilizando regressão Ridge) se aproximou do modelo ideal (modelo com a mesma complexidade da função original), ou seja, do modelo 1? (Justifique sua resposta).\n",
    "2. O que você pode concluir a respeito do uso da regularização para modelos com ordem desconhecida?"
   ]
  },
  {
   "cell_type": "markdown",
   "metadata": {
    "id": "U22EnS3KiFMA"
   },
   "source": [
    "<span style=\"color:blue\">Digite aqui a resposta do exercício.</span>\n",
    "\n",
    "**Resposta**"
   ]
  },
  {
   "cell_type": "markdown",
   "metadata": {
    "id": "LRiUgM4-iFMA"
   },
   "source": [
    "### 4) Escolha do passo de aprendizagem.\n",
    "\n",
    "A biblioteca SciKit-Learn disponibiliza alguns conjuntos de dados que podemos usar para o treinamento de modelos. Um desses conjuntos é o [Iris flower data set](https://scikit-learn.org/stable/datasets/toy_dataset.html) que contém informações sobre 3 tipos de flores, são elas Iris-Setosa, Iris-Versicolour e Iris-Virginica. Existem 50 exemplos de cada tipo de flor em que temos identificado o comprimento e a largura da sépala, o comprimento e a largura da pétala. Suponha que seja necessário prever a largura da pétala com o uso de um modelo de regressão linear a partir das medidas da sépala, ou seja, comprimento e largura. Encontre um modelo através da equação normal e outro através do algoritmo do **gradiente descendente estocástico** e ao final compare os resultados.\n",
    "\n",
    "**A) Execute a célula abaixo para definir algumas funções necessárias para o treinamento.**\n",
    "\n",
    "**DICAS**\n",
    "\n",
    "+ Veja que a função `gradientDescent` utiliza **decaimento temporal** do passo de aprendizagem para tornar o aprendizado do algoritmo mais comportado."
   ]
  },
  {
   "cell_type": "code",
   "execution_count": 248,
   "metadata": {
    "id": "hT9wuckGiFMA"
   },
   "outputs": [],
   "source": [
    "import random\n",
    "import math\n",
    "import numpy as np\n",
    "\n",
    "seed = 2\n",
    "np.random.seed(seed)\n",
    "random.seed(seed)\n",
    "\n",
    "# learning schedule: Temporal decay.\n",
    "def timeBasedDecay(alpha_init, k, t):\n",
    "    '''Temporal decay.'''\n",
    "    return alpha_init / (1.0 + k*t)\n",
    "\n",
    "# learning schedule: Exponential decay.\n",
    "def exponentialDecay(alpha_init, k, t):\n",
    "    '''Exponential decay.'''\n",
    "    return alpha_init * np.exp(-k*t)\n",
    "\n",
    "# learning schedule: Gradual decay.\n",
    "def stepDecay(alpha_init, t, epochs_drop=8.0):\n",
    "    '''Gradual decay.'''\n",
    "    drop = 0.5\n",
    "    alpha = alpha_init * math.pow(drop, math.floor((1+t)/epochs_drop))\n",
    "    return alpha\n",
    "\n",
    "def learning_schedule(typels, alpha_init, k, t):\n",
    "    '''Funtion used to choose among some learning schedules'''\n",
    "    if(typels=='exp'):\n",
    "        alpha = exponentialDecay(alpha_init, k, t)\n",
    "    elif(typels=='time'):\n",
    "        alpha = timeBasedDecay(alpha_init, k, t)\n",
    "    elif(typels=='step'):\n",
    "        alpha = stepDecay(alpha_init, t)\n",
    "    else:\n",
    "        alpha = alpha_init\n",
    "    return alpha\n",
    "\n",
    "def gradientDescent(X, y_noisy, n_epochs, alpha_init, k):\n",
    "    '''\n",
    "    Function implementing the stochastic version of the gradient descent.\n",
    "    Os parâmetros de entrada da função são:\n",
    "    * X          - Matriz de atributos\n",
    "    * y          - vetor de rótulos\n",
    "    * n_epochs   - número de épocas\n",
    "    * alpha_init - valor inicial do passo de aprendizagem\n",
    "    * k          - taxa de decaimento\n",
    "    '''\n",
    "\n",
    "    # Number of examples.\n",
    "    N = len(y_noisy)\n",
    "    \n",
    "    # Reshape y to be a column vector.\n",
    "    y_noisy = y_noisy.reshape(N,1)\n",
    "    \n",
    "    # Initialization of parameters.\n",
    "    a = np.array([-10.0, -10.0, -10.0]).reshape(3, 1)\n",
    "\n",
    "    # Create vector for parameter history.\n",
    "    a_hist = np.zeros((3, n_epochs*N+1))\n",
    "    # Initialize history vector.\n",
    "    a_hist[:, 0] = a.reshape(3,)\n",
    "\n",
    "    # Create vector to store eta history.\n",
    "    alpha_hist = np.zeros((n_epochs*N))\n",
    "\n",
    "    update_prev = np.zeros((3, 1))\n",
    "\n",
    "    # Create array for storing error values.\n",
    "    Jgd = np.zeros(n_epochs*N+1)\n",
    "\n",
    "    Jgd[0] = (1.0/N)*sum(np.power(y_noisy - X.dot(a), 2))\n",
    "\n",
    "    update_hist = np.zeros((3, n_epochs*N))\n",
    "\n",
    "    gradient_hist = np.zeros((3, n_epochs*N))\n",
    "\n",
    "    # Stocastic gradient-descent loop.\n",
    "    iteration = 0\n",
    "    for epoch in range(n_epochs):\n",
    "\n",
    "        # Shuffle the whole dataset before every epoch.\n",
    "        shuffled_data_set_indexes = random.sample(range(0, N), N)    \n",
    "\n",
    "        for i in range(N):\n",
    "            random_index = shuffled_data_set_indexes[i]\n",
    "            xi = X[random_index:random_index+1]\n",
    "            yi = y_noisy[random_index:random_index+1]\n",
    "\n",
    "            # Decaimento temporal do passo de aprendizagem.\n",
    "            alpha = learning_schedule('time', alpha_init, k, epoch*N + i)\n",
    "\n",
    "            gradient = -2.0*xi.T.dot(yi - xi.dot(a))\n",
    "            update = alpha*gradient\n",
    "            a = a - update\n",
    "\n",
    "            a_hist[:, epoch*N+i+1] = a.reshape(3,)\n",
    "            alpha_hist[epoch*N+i] = alpha\n",
    "            update_hist[:, epoch*N+i] = update.reshape(3,)\n",
    "            gradient_hist[:, epoch*N+i] = gradient.reshape(3,)\n",
    "\n",
    "            Jgd[epoch*N+i+1] = (1.0/N)*sum(np.power((y_noisy - X.dot(a)), 2))\n",
    "            \n",
    "            iteration = epoch*N+i\n",
    "            \n",
    "    return a, Jgd, a_hist, alpha_hist, update_hist, gradient_hist, iteration"
   ]
  },
  {
   "cell_type": "markdown",
   "metadata": {
    "id": "9mky0xdmiFMA"
   },
   "source": [
    "**B) Execute a célula abaixo para importar os dados do conjunto e as bibliotecas necessárias**\n",
    "\n",
    "**DICAS**\n",
    "\n",
    "+ A célula imprimirá as dimensões da matriz de atributos e do vetor de rótulos."
   ]
  },
  {
   "cell_type": "code",
   "execution_count": 249,
   "metadata": {
    "colab": {
     "base_uri": "https://localhost:8080/"
    },
    "id": "F8pPIfBiiFMA",
    "outputId": "e1cd992c-6e6f-4d83-8bb2-f29f4e564047"
   },
   "outputs": [
    {
     "name": "stdout",
     "output_type": "stream",
     "text": [
      "Dimensão da matriz de atributos: (150, 3)\n",
      "Dimensão do vetor de rótulos: (150,)\n"
     ]
    }
   ],
   "source": [
    "import numpy as np\n",
    "import pandas as pd\n",
    "import matplotlib.pyplot as plt\n",
    "from sklearn.metrics import mean_squared_error\n",
    "from sklearn.linear_model import LinearRegression\n",
    "from sklearn.metrics import mean_squared_error\n",
    "from sklearn.datasets import load_iris\n",
    "\n",
    "# Importando os dados.\n",
    "x = load_iris()['data']\n",
    "\n",
    "# Features/atributos.\n",
    "X = np.c_[x[:, 0], x[:, 1], x[:, 2]]\n",
    "# Labels/rótulos.\n",
    "y = x[:, 3]\n",
    "\n",
    "# Imprimindo as dimensões dos dados.\n",
    "print('Dimensão da matriz de atributos:', X.shape)\n",
    "print('Dimensão do vetor de rótulos:', y.shape)"
   ]
  },
  {
   "cell_type": "markdown",
   "metadata": {
    "id": "u5mVOZICiFMA"
   },
   "source": [
    "**C) Treine um modelo por meio da equação normal. Ao final, imprima o erro quadrático médio obtido pelo modelo para todo o conjunto de exemplos.**\n",
    "\n",
    "**DICAS**\n",
    "\n",
    "+ Você pode utilizar a classe `LinearRegression` da biblioteca SciKit-Learn para resolver este item ou implementar a equação normal manualmente.\n",
    "+ Use a função `mean_squared_error` da biblioteca SciKit-Learn para calcular o erro quadrático médio.\n",
    "+ O erro quadrático médio deve ser calculado para todo o conjunto de exemplos, ou seja, para as 150 amostras."
   ]
  },
  {
   "cell_type": "code",
   "execution_count": 10,
   "metadata": {
    "colab": {
     "base_uri": "https://localhost:8080/"
    },
    "id": "3FbCl31DiFMB",
    "outputId": "1d24b2a3-efbe-4957-c596-8c4c9de2f2b7"
   },
   "outputs": [],
   "source": [
    "# Digite o código do exercício aqui. "
   ]
  },
  {
   "cell_type": "markdown",
   "metadata": {
    "id": "n-L3lvfmiFMB"
   },
   "source": [
    "**D) Treine o modelo com o uso da técnica do gradiente descendente estocástico com decaimento temporal do passo de aprendizagem. Siga os seguintes passos:**\n",
    "\n",
    "1. Normalize os atributos com o uso da classe `StandardScaler`.\n",
    "2. Treine o modelo usando a função `gradientDescent` para os seguintes valores de **passo de aprendizagem**: 0.1, 0.03, 0.01, 0.003, e 0.001.\n",
    "3. Para cada valor do **passo de aprendizagem** armazene o vetor de erros ao longo das iterações, `Jgd`, o qual é retornado pela função `gradientDescent`.\n",
    "4. Após o treinamento do modelo para cada valor do **passo de aprendizagem**, plote uma **única figura** que mostre os valores de erro, `Jgd`, ao longo das iterações, para cada um dos 5 valores do **passo de aprendizagem**.\n",
    "\n",
    "**DICAS**\n",
    "\n",
    "+ Os atributos são padronizados com o método `fit_transform` da classe `StandardScaler`.\n",
    "+ Os parâmetros de entrada da função `gradientDescent` são descritos em seu cabeçalho. Veja a definição da função.\n",
    "+ Configure a **taxa de decaimento**, `k` com o valor `0.001`.\n",
    "+ Configure o **número de épocas**, `n_epochs`, com o valor `2`, ou seja, cada modelo será treinado por 2 épocas.\n",
    "+ Use escala logarítmica para eixo y da figura. Para isso, use o comando abaixo.\n",
    "```python\n",
    "plt.yscale('log')\n",
    "```"
   ]
  },
  {
   "cell_type": "code",
   "execution_count": 11,
   "metadata": {
    "colab": {
     "base_uri": "https://localhost:8080/",
     "height": 279
    },
    "id": "QGkLVfmniFMB",
    "outputId": "d67d0c72-4b58-4546-cf55-3088e66a10be"
   },
   "outputs": [],
   "source": [
    "# Digite o código do exercício aqui."
   ]
  },
  {
   "cell_type": "markdown",
   "metadata": {},
   "source": [
    "**E) Analise a figura acima e escolha o passo de aprendizagem ideal. Qual foi o valor do passo de aprendizagem escolhido? Justifique sua resposta.**"
   ]
  },
  {
   "cell_type": "markdown",
   "metadata": {},
   "source": [
    "<span style=\"color:blue\">Digite aqui a resposta do exercício.</span>\n",
    "\n",
    "**Resposta**"
   ]
  },
  {
   "cell_type": "markdown",
   "metadata": {
    "id": "XsIXZUFbiFMB"
   },
   "source": [
    "**F) De posse do passo de aprendizagem ideal escolhido no item anterior, treine novamente o modelo com este valor e imprima o erro quadrático médio obtido.**\n",
    "\n",
    "**DICAS**\n",
    "\n",
    "+ Os atributos devem ser padronizados com o método `fit_transform` da classe `StandardScaler`.\n",
    "+ Os parâmetros de entrada da função `gradientDescent` são descritos em seu cabeçalho. Veja a definição da função.\n",
    "+ Configure a **taxa de decaimento**, `k` com o valor `0.001`.\n",
    "+ Configure o **número de épocas**, `n_epochs`, com o valor `2`, ou seja, cada modelo será treinado por 2 épocas."
   ]
  },
  {
   "cell_type": "code",
   "execution_count": 12,
   "metadata": {
    "colab": {
     "base_uri": "https://localhost:8080/"
    },
    "id": "78herNBFiFMB",
    "outputId": "19a543df-9fee-49f9-8dc3-5793357bfa98"
   },
   "outputs": [],
   "source": [
    "# Digite o código do exercício aqui."
   ]
  },
  {
   "cell_type": "markdown",
   "metadata": {
    "id": "4iLzwy-FiFMC"
   },
   "source": [
    "**G) Compare o desempenho final do modelo utilizando a equação normal e com o gradiente descendente estocástico com o melhor valor para o passo de aprendizagem. Se houve diferença, explique quais foram e as justifique.**\n",
    "\n",
    "**DICAS**\n",
    "\n",
    "+ Compare os valores do erro quadrático médio obtido por cada um dos modelos."
   ]
  },
  {
   "cell_type": "markdown",
   "metadata": {
    "id": "JxdWdxl3iFMC"
   },
   "source": [
    "<span style=\"color:blue\">Digite aqui a resposta do exercício.</span>\n",
    "\n",
    "**Resposta**"
   ]
  }
 ],
 "metadata": {
  "colab": {
   "collapsed_sections": [],
   "name": "projeto_final_T319_1S2022.ipynb",
   "provenance": []
  },
  "kernelspec": {
   "display_name": "Python 3 (ipykernel)",
   "language": "python",
   "name": "python3"
  },
  "language_info": {
   "codemirror_mode": {
    "name": "ipython",
    "version": 3
   },
   "file_extension": ".py",
   "mimetype": "text/x-python",
   "name": "python",
   "nbconvert_exporter": "python",
   "pygments_lexer": "ipython3",
   "version": "3.9.7"
  }
 },
 "nbformat": 4,
 "nbformat_minor": 1
}
