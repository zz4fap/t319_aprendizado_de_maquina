{
 "cells": [
  {
   "cell_type": "markdown",
   "id": "abc884f1",
   "metadata": {},
   "source": [
    "# Projeto Final - T319 (2S2022)\n",
    "\n",
    "### Instruções\n",
    "\n",
    "1. Quando você terminar os exercícios do projeto, vá até o menu do Jupyter ou Colab e selecione a opção para fazer download do notebook.\n",
    "    * Os notebooks tem extensão .ipynb. \n",
    "    * Este deve ser o arquivo que você irá entregar.\n",
    "    * No Jupyter vá até a opção **File** -> **Download as** -> **Notebook (.ipynb)**.\n",
    "    * No Colab vá até a opção **File** -> **Download .ipynb**.\n",
    "2. Após o download do notebook, vá até a aba de tarefas do MS Teams, localize a tarefa referente a este projeto e faça o upload do seu notebook. Veja que há uma opção de anexar arquivos à tarefa.\n",
    "3. Atente-se ao prazo de entrega definido na tarefa do MS Teams. Entregas fora do prazo não serão aceitas.\n",
    "4. **O projeto pode ser resolvido em grupos de no MÁXIMO 3 alunos**.\n",
    "5. Todas as questões têm o mesmo peso.\n",
    "6. Não se esqueça de colocar seu(s) nome(s) e número(s) de matrícula no campo abaixo. Coloque os nomes dos integrantes do grupo no campo de texto abaixo.\n",
    "7. Você pode consultar todo o material de aula.\n",
    "8. A interpretação faz parte do projeto. Leia o enunciado de cada questão atentamente!\n",
    "9. Boa sorte!"
   ]
  },
  {
   "cell_type": "markdown",
   "id": "9a4387bb",
   "metadata": {},
   "source": [
    "**Nomes e matrículas**:\n",
    "\n",
    "1. Nome do primeiro aluno - Matrícula do primeiro aluno\n",
    "2. Nome do segundo aluno - Matrícula do segundo aluno\n",
    "3. Nome do terceiro aluno - Matrícula do terceiro aluno"
   ]
  },
  {
   "cell_type": "markdown",
   "id": "a4ea1ac0",
   "metadata": {},
   "source": [
    "### 1) Exercício sobre gradiente descendente estocástico\n",
    "\n",
    "Neste exercício, você irá utilizar uma técnica de pré-processamento para escalonar os conjuntos de dados de treinamento e validação e um esquema de redução do passo de aprendizagem para melhorar o desempenho do gradiente descendente estocástico.\n",
    "\n",
    "A função objetivo é dada por\n",
    "\n",
    "$$y = 0.125x_1 + x_2,$$\n",
    "\n",
    "onde $x_1$ e $x_2$ são atributos retirados de distribuições Gaussianas com médias iguais a zero e desvios padrão iguais a 8 e 1, respectivamente e $a_1 = 0.125$ e $a_2 = 1.0$.\n",
    "\n",
    "A função observável (i.e., ruidosa) é dada por\n",
    "\n",
    "$$y_{noisy} = y + w,$$\n",
    "\n",
    "onde $w$ é o ruído Gaussiano branco (i.e., média zero e variância unitária) adicionado às amostras da função objetivo.\n",
    "\n",
    "A função hipotese que será utilizada neste exercício é dada por\n",
    "\n",
    "$$\\hat{y}=h(x)=\\hat{a}_1 x_1 + \\hat{a}_2 x_2.$$\n",
    "\n",
    "1. Execute a célula de código abaixo para definir algumas funções que serão úteis ao longo da resolução deste exercício."
   ]
  },
  {
   "cell_type": "code",
   "execution_count": 1,
   "id": "c1579760",
   "metadata": {},
   "outputs": [],
   "source": [
    "def calculateErrorSurface(X, y, a1_min=-12.0, a1_max=14.0, a2_min=-12.0, a2_max=14.0):\n",
    "    '''Generate data points for plotting the error surface.'''\n",
    "    \n",
    "    # Retrieve attribute vectors.\n",
    "    x1 = X[:,0].reshape(X.shape[0],1)\n",
    "    x2 = X[:,1].reshape(X.shape[0],1)\n",
    "\n",
    "    # Generate values for parameter space.\n",
    "    M = 200\n",
    "    a1 = np.linspace(a1_min, a1_max, M)\n",
    "    a2 = np.linspace(a2_min, a2_max, M)\n",
    "\n",
    "    A1, A2 = np.meshgrid(a1, a2)\n",
    "\n",
    "    # Generate points for plotting the cost-function surface.\n",
    "    J = np.zeros((M,M))\n",
    "    for iter1 in range(0, M):\n",
    "        for iter2 in range(0, M):\n",
    "            yhat = A1[iter1, iter2]*x1 + A2[iter1, iter2]*x2\n",
    "            J[iter1, iter2] = (1.0/len(y))*np.sum(np.square(y - yhat))           \n",
    "            \n",
    "    return J, A1, A2\n",
    "\n",
    "def stepDecay(alpha_init, beta, t, drop=0.5):\n",
    "    '''Gradual decay.'''\n",
    "    return alpha_init * math.pow(drop, math.floor((1+t)/beta))\n",
    "\n",
    "def exponentialDecay(alpha_init, beta, t):\n",
    "    '''Exponential decay.'''\n",
    "    return alpha_init * np.exp(-beta*t)\n",
    "\n",
    "def timeBasedDecay(alpha_init, beta, t):\n",
    "    '''Temporal decay.'''\n",
    "    return alpha_init / (1.0 + beta*t)\n",
    "\n",
    "def learningSchedule(typels, alpha_init, beta, t):\n",
    "    '''Choose among some learning schedule implementations.'''\n",
    "    if(typels=='exp'):\n",
    "        alpha = exponentialDecay(alpha_init, beta, t)\n",
    "    elif(typels=='time'):\n",
    "        alpha = timeBasedDecay(alpha_init, beta, t)\n",
    "    elif(typels=='step'):\n",
    "        alpha = stepDecay(alpha_init, beta, t)\n",
    "    else:\n",
    "        alpha = alpha_init\n",
    "    return alpha\n",
    "\n",
    "# Gradiente descendente estocástico.\n",
    "def stochasticGradientDescent(X_train, y_train, X_test, y_test, n_epochs, alpha_init, beta=1.0, lrschedule='None', seed=42):\n",
    "    '''Function implementing the stochastic version of the gradient descent with learning rate schedule.'''\n",
    "\n",
    "    # Reset the PN sequence generator.\n",
    "    random.seed(seed)\n",
    "    \n",
    "    # Number of training samples.\n",
    "    N_train = X_train.shape[0]\n",
    "    \n",
    "    # Number of test samples.\n",
    "    N_test = X_test.shape[0]\n",
    "    \n",
    "    # Number of attributes.\n",
    "    N_att = X_train.shape[1]\n",
    "    \n",
    "    # Initialization of weights.\n",
    "    a = np.array([-10.0, -10.0]).reshape(N_att, 1)\n",
    "\n",
    "    # Create vector for parameter history.\n",
    "    a_hist = np.zeros((N_att, n_epochs*N_train+1))\n",
    "    # Initialize history vector.\n",
    "    a_hist[:, 0] = a.reshape(N_att,)\n",
    "\n",
    "    # Create vector to store eta history.\n",
    "    alpha_hist = np.zeros((n_epochs*N_train))\n",
    "\n",
    "    # Create arrays for storing error values.\n",
    "    J_train = np.zeros(n_epochs*N_train+1)\n",
    "    J_test = np.zeros(n_epochs*N_train+1)\n",
    "\n",
    "    # Calculate initial errors.\n",
    "    J_train[0] = (1.0/N_train)*sum(np.power(y_train - X_train.dot(a), 2))\n",
    "    J_test[0] = (1.0/N_test)*sum(np.power(y_test - X_test.dot(a), 2))\n",
    "\n",
    "    # Initialization of history vectors.\n",
    "    update_hist = np.zeros((N_att, n_epochs*N_train))\n",
    "    gradient_hist = np.zeros((N_att, n_epochs*N_train))\n",
    "\n",
    "    # Stocastic gradient-descent loop.\n",
    "    iteration = 0\n",
    "    for epoch in range(n_epochs):\n",
    "\n",
    "        # Shuffle the whole dataset before every epoch.\n",
    "        shuffled_data_set_indexes = random.sample(range(0, N_train), N_train)    \n",
    "\n",
    "        for i in range(N_train):\n",
    "            # Select ONE pair sample/label from the dataset.\n",
    "            random_index = shuffled_data_set_indexes[i]\n",
    "            xi = X_train[random_index:random_index+1]\n",
    "            yi = y_train[random_index:random_index+1]\n",
    "\n",
    "            # Select the learning rate.\n",
    "            alpha = learningSchedule(lrschedule, alpha_init, beta, epoch*N_train + i)\n",
    "\n",
    "            # Update the weights.\n",
    "            gradient = -2.0*xi.T.dot(yi - xi.dot(a))\n",
    "            update = alpha*gradient\n",
    "            a = a - update\n",
    "\n",
    "            # Store current values.\n",
    "            a_hist[:, epoch*N_train+i+1] = a.reshape(N_att,)\n",
    "            alpha_hist[epoch*N_train+i] = alpha\n",
    "            update_hist[:, epoch*N_train+i] = update.reshape(N_att,)\n",
    "            gradient_hist[:, epoch*N_train+i] = gradient.reshape(N_att,)\n",
    "\n",
    "            # Calculate errors for current iteration.\n",
    "            J_train[epoch*N_train+i+1] = (1.0/N_train)*sum(np.power((y_train - X_train.dot(a)), 2))\n",
    "            J_test[epoch*N_train+i+1] = (1.0/N_test)*sum(np.power((y_test - X_test.dot(a)), 2))\n",
    "            \n",
    "            # Increment the iteration number.\n",
    "            iteration = epoch*N_train+i\n",
    "            \n",
    "    return a, J_train, J_test, a_hist, alpha_hist, update_hist, gradient_hist, iteration"
   ]
  },
  {
   "cell_type": "markdown",
   "id": "5defa414",
   "metadata": {},
   "source": [
    "2. Execute a célula de código abaixo para gerar os conjuntos de dados de treinamento e validação.\n",
    "\n",
    "**DICAS**\n",
    "\n",
    "+ Veja que 70% dos dados formam o conjunto de treinamento e os 30% restantes formam o conjunto de validação.\n",
    "+ Perceba que a matriz de atributos, $X$, já é criada na célula de código abaixo. Portanto, não é necessário que você a recrie em nenhum item deste exercício."
   ]
  },
  {
   "cell_type": "code",
   "execution_count": 2,
   "id": "b8bd6588",
   "metadata": {},
   "outputs": [
    {
     "name": "stdout",
     "output_type": "stream",
     "text": [
      "Tamanho do conjunto de treinamento: 1400\n",
      "Tamanho do conjunto de validação: 600\n"
     ]
    }
   ],
   "source": [
    "# Import all the necessary libraries.\n",
    "import numpy as np\n",
    "import matplotlib.pyplot as plt\n",
    "from matplotlib import cm\n",
    "import math\n",
    "import random\n",
    "from sklearn.model_selection import train_test_split\n",
    "from sklearn.preprocessing import StandardScaler\n",
    "from sklearn.metrics import mean_squared_error\n",
    "from sklearn.model_selection import cross_val_score\n",
    "from sklearn.model_selection import KFold\n",
    "\n",
    "# Always reset the pseudo random number generator to the same number.\n",
    "seed = 42\n",
    "np.random.seed(seed)\n",
    "random.seed(seed)\n",
    "\n",
    "# Define the number of examples.\n",
    "N = 2000\n",
    "\n",
    "# Features.\n",
    "x1 = 8.0*np.random.randn(N, 1)\n",
    "x2 = np.random.randn(N, 1)\n",
    "\n",
    "# Noise.\n",
    "w = np.random.randn(N, 1)\n",
    "\n",
    "# Generate the target function.\n",
    "y = 0.125*x1 + x2\n",
    "\n",
    "# Generate the observable function.\n",
    "y_noisy = y + w\n",
    "\n",
    "# Concatenate both column vectors, x1 and x2.\n",
    "X = np.c_[x1, x2]\n",
    "\n",
    "# Split the dataset into training and validation sets.\n",
    "X_train, X_test, y_train, y_test = train_test_split(X, y_noisy, test_size=0.3, random_state=seed)\n",
    "\n",
    "print('Tamanho do conjunto de treinamento:', len(y_train))\n",
    "print('Tamanho do conjunto de validação:', len(y_test))"
   ]
  },
  {
   "cell_type": "markdown",
   "id": "7094675e",
   "metadata": {},
   "source": [
    "3. Usando a equação normal, encontre a solução ótima para este problema de regressão, ou seja, encontre os valores de $\\hat{a}_1$ e $\\hat{a}_2$ da função hipótese. Na sequência, imprima os valores dos pesos, calcule e imprima o erro quadrático médio (MSE) com os conjuntos de treinamento e validação.\n",
    "\n",
    "**DICAS**\n",
    "\n",
    "+ Para que o restante dos itens deste exercício não deem erro, nomeie a variável com os pesos ótimos de `a_opt`.\n",
    "+ Para resolver este item, se baseie no seguinte exemplo: [error_surface_example2.ipynb](https://colab.research.google.com/github/zz4fap/t319_aprendizado_de_maquina/blob/main/notebooks/regression/error_surface_example2.ipynb).\n",
    "+ **Atenção, não basta apenas copiar o código do exemplo dado, você precisa alterá-lo.**"
   ]
  },
  {
   "cell_type": "code",
   "execution_count": 3,
   "id": "ec496390",
   "metadata": {},
   "outputs": [],
   "source": [
    "# Digite o código do exercício aqui."
   ]
  },
  {
   "cell_type": "markdown",
   "id": "511bdace",
   "metadata": {},
   "source": [
    "4. Execute a célula de código abaixo e analise as duas figuras geradas. A figura da esquerda mostra a superfície de erro e a da direita a superfície de contorno, com a estrela vermelha marcando o ponto da solução ótima."
   ]
  },
  {
   "cell_type": "code",
   "execution_count": 1,
   "id": "911d12a3",
   "metadata": {},
   "outputs": [
    {
     "ename": "NameError",
     "evalue": "name 'calculateErrorSurface' is not defined",
     "output_type": "error",
     "traceback": [
      "\u001b[1;31m---------------------------------------------------------------------------\u001b[0m",
      "\u001b[1;31mNameError\u001b[0m                                 Traceback (most recent call last)",
      "\u001b[1;32mC:\\Users\\FELIPE~1.FIG\\AppData\\Local\\Temp/ipykernel_17500/870774614.py\u001b[0m in \u001b[0;36m<module>\u001b[1;34m\u001b[0m\n\u001b[0;32m      1\u001b[0m \u001b[1;31m# Calculate the values for plotting the error surface.\u001b[0m\u001b[1;33m\u001b[0m\u001b[1;33m\u001b[0m\u001b[0m\n\u001b[1;32m----> 2\u001b[1;33m \u001b[0mJ\u001b[0m\u001b[1;33m,\u001b[0m \u001b[0mA1\u001b[0m\u001b[1;33m,\u001b[0m \u001b[0mA2\u001b[0m \u001b[1;33m=\u001b[0m \u001b[0mcalculateErrorSurface\u001b[0m\u001b[1;33m(\u001b[0m\u001b[0mX_train\u001b[0m\u001b[1;33m,\u001b[0m \u001b[0my_train\u001b[0m\u001b[1;33m)\u001b[0m\u001b[1;33m\u001b[0m\u001b[1;33m\u001b[0m\u001b[0m\n\u001b[0m\u001b[0;32m      3\u001b[0m \u001b[1;33m\u001b[0m\u001b[0m\n\u001b[0;32m      4\u001b[0m \u001b[1;31m# Plot cost-function surface.\u001b[0m\u001b[1;33m\u001b[0m\u001b[1;33m\u001b[0m\u001b[0m\n\u001b[0;32m      5\u001b[0m \u001b[0mfig\u001b[0m \u001b[1;33m=\u001b[0m \u001b[0mplt\u001b[0m\u001b[1;33m.\u001b[0m\u001b[0mfigure\u001b[0m\u001b[1;33m(\u001b[0m\u001b[0mfigsize\u001b[0m\u001b[1;33m=\u001b[0m\u001b[1;33m(\u001b[0m\u001b[1;36m15\u001b[0m\u001b[1;33m,\u001b[0m\u001b[1;36m5\u001b[0m\u001b[1;33m)\u001b[0m\u001b[1;33m)\u001b[0m\u001b[1;33m\u001b[0m\u001b[1;33m\u001b[0m\u001b[0m\n",
      "\u001b[1;31mNameError\u001b[0m: name 'calculateErrorSurface' is not defined"
     ]
    }
   ],
   "source": [
    "# Calculate the values for plotting the error surface.\n",
    "J, A1, A2 = calculateErrorSurface(X_train, y_train)\n",
    "\n",
    "# Plot cost-function surface.\n",
    "fig = plt.figure(figsize=(15,5))\n",
    "\n",
    "plt.subplot(1, 2, 1, projection='3d')\n",
    "ax = fig.gca()\n",
    "surf = ax.plot_surface(A1, A2, J, cmap=cm.coolwarm, linewidth=0, antialiased=False)\n",
    "ax.set_xlabel('$\\hat{a}_1$', fontsize=14)\n",
    "ax.set_ylabel('$\\hat{a}_2$', fontsize=14)\n",
    "ax.set_zlabel('$J_e$', fontsize=14)\n",
    "plt.title('Cost-function\\'s Surface')\n",
    "\n",
    "plt.subplot(1, 2, 2)\n",
    "cp = plt.contour(A1, A2, J)\n",
    "plt.clabel(cp, inline=1, fontsize=10)\n",
    "plt.xlabel('$\\hat{a}_1$', fontsize=14)\n",
    "plt.ylabel('$\\hat{a}_2$', fontsize=14)\n",
    "plt.title('Cost-function\\'s Contour')\n",
    "plt.plot(a_opt[0], a_opt[1], c='r', marker='*')\n",
    "plt.xticks(np.arange(-10, 14, step=2.0))\n",
    "plt.yticks(np.arange(-10, 14, step=2.0))\n",
    "\n",
    "#Show the plot.\n",
    "plt.show()"
   ]
  },
  {
   "cell_type": "markdown",
   "id": "25fb0629",
   "metadata": {},
   "source": [
    "5. Após observar as figuras das superfícies de erro e de contorno mostradas acima, responda as seguintes perguntas:\n",
    "\n",
    "+ Em qual direção (i.e., eixo dos pesos) o erro varia mais rapidamente?\n",
    "+ Em qual direção o erro varia mais lentamente?\n",
    "+ Por que isso acontece?\n",
    "+ Em qual das duas direções (i.e., eixos dos pesos $\\hat{a}_1$ e $\\hat{a}_2$) o algoritmo do gradiente descendente se moveria mais rapidamente? \n",
    "+ Em qual direção ele se moveria mais lentamente? (**Justifique suas respostas.**)"
   ]
  },
  {
   "cell_type": "markdown",
   "id": "ca363d03",
   "metadata": {},
   "source": [
    "<span style=\"color:blue\">Digite aqui a resposta do exercício.</span>\n",
    "\n",
    "**Resposta**"
   ]
  },
  {
   "cell_type": "markdown",
   "id": "e19d5075",
   "metadata": {},
   "source": [
    "6. Neste item, você irá usar o algoritmo do gradiente descendente em sua versão estocástica (GDE), ou seja, a versão que utiliza apenas uma única amostra para realizar a atualização dos pesos do modelo, para resolver o problema de regressão proposto neste exercício. **Neste item, o algoritmo do gradiente descendente estocástico utiliza um passo de aprendizagem fixo, ou seja, ele é constante ao longo de todas as iterações de treinamento.** \n",
    "\n",
    "Execute a célula de código abaixo e analise as três figuras geradas. A figura da esquerda mostra a superfície de contorno com o histórico de atualizações dos pesos (onde a estrela vermelha identifica a posição do ponto de mínimo global da superfície), a figura do meio mostra a evolução dos erros obtidos com os conjuntos de treinamento e validação ao longo das iterações de treinamento do modelo e a figura da direita mostra a evolução do termo de atualização dos pesos $\\hat{a}_1$ e $\\hat{a}_2$ em função das iterações de treinamento do modelo.\n",
    "\n",
    "**OBS**.: A figura da direita mostra a evolução do termo de atualização dos pesos $\\hat{a}_1$ e $\\hat{a}_2$, ou seja, a figura mostra $ \\alpha \\times \\nabla_{J_e} $, o passo de aprendizagem $\\alpha$ vezes o vetor gradiente, $\\nabla_{J_e}$."
   ]
  },
  {
   "cell_type": "code",
   "execution_count": 5,
   "id": "02ea4766",
   "metadata": {},
   "outputs": [
    {
     "ename": "NameError",
     "evalue": "name 'a_opt' is not defined",
     "output_type": "error",
     "traceback": [
      "\u001b[1;31m---------------------------------------------------------------------------\u001b[0m",
      "\u001b[1;31mNameError\u001b[0m                                 Traceback (most recent call last)",
      "\u001b[1;32mC:\\Users\\FELIPE~1.FIG\\AppData\\Local\\Temp/ipykernel_20372/2819823661.py\u001b[0m in \u001b[0;36m<module>\u001b[1;34m\u001b[0m\n\u001b[0;32m     18\u001b[0m \u001b[0mplt\u001b[0m\u001b[1;33m.\u001b[0m\u001b[0mtitle\u001b[0m\u001b[1;33m(\u001b[0m\u001b[1;34m'Cost-function\\'s Contour'\u001b[0m\u001b[1;33m)\u001b[0m\u001b[1;33m\u001b[0m\u001b[1;33m\u001b[0m\u001b[0m\n\u001b[0;32m     19\u001b[0m \u001b[0mplt\u001b[0m\u001b[1;33m.\u001b[0m\u001b[0mplot\u001b[0m\u001b[1;33m(\u001b[0m\u001b[0ma_hist\u001b[0m\u001b[1;33m[\u001b[0m\u001b[1;36m0\u001b[0m\u001b[1;33m,\u001b[0m \u001b[1;33m:\u001b[0m\u001b[1;33m]\u001b[0m\u001b[1;33m,\u001b[0m \u001b[0ma_hist\u001b[0m\u001b[1;33m[\u001b[0m\u001b[1;36m1\u001b[0m\u001b[1;33m,\u001b[0m \u001b[1;33m:\u001b[0m\u001b[1;33m]\u001b[0m\u001b[1;33m,\u001b[0m \u001b[1;34m'kx--'\u001b[0m\u001b[1;33m)\u001b[0m\u001b[1;33m\u001b[0m\u001b[1;33m\u001b[0m\u001b[0m\n\u001b[1;32m---> 20\u001b[1;33m \u001b[0mplt\u001b[0m\u001b[1;33m.\u001b[0m\u001b[0mplot\u001b[0m\u001b[1;33m(\u001b[0m\u001b[0ma_opt\u001b[0m\u001b[1;33m[\u001b[0m\u001b[1;36m0\u001b[0m\u001b[1;33m]\u001b[0m\u001b[1;33m,\u001b[0m \u001b[0ma_opt\u001b[0m\u001b[1;33m[\u001b[0m\u001b[1;36m1\u001b[0m\u001b[1;33m]\u001b[0m\u001b[1;33m,\u001b[0m \u001b[0mc\u001b[0m\u001b[1;33m=\u001b[0m\u001b[1;34m'r'\u001b[0m\u001b[1;33m,\u001b[0m \u001b[0mmarker\u001b[0m\u001b[1;33m=\u001b[0m\u001b[1;34m'*'\u001b[0m\u001b[1;33m)\u001b[0m\u001b[1;33m\u001b[0m\u001b[1;33m\u001b[0m\u001b[0m\n\u001b[0m\u001b[0;32m     21\u001b[0m \u001b[0mplt\u001b[0m\u001b[1;33m.\u001b[0m\u001b[0mxticks\u001b[0m\u001b[1;33m(\u001b[0m\u001b[0mnp\u001b[0m\u001b[1;33m.\u001b[0m\u001b[0marange\u001b[0m\u001b[1;33m(\u001b[0m\u001b[1;33m-\u001b[0m\u001b[1;36m10\u001b[0m\u001b[1;33m,\u001b[0m \u001b[1;36m14\u001b[0m\u001b[1;33m,\u001b[0m \u001b[0mstep\u001b[0m\u001b[1;33m=\u001b[0m\u001b[1;36m2.0\u001b[0m\u001b[1;33m)\u001b[0m\u001b[1;33m)\u001b[0m\u001b[1;33m\u001b[0m\u001b[1;33m\u001b[0m\u001b[0m\n\u001b[0;32m     22\u001b[0m \u001b[0mplt\u001b[0m\u001b[1;33m.\u001b[0m\u001b[0myticks\u001b[0m\u001b[1;33m(\u001b[0m\u001b[0mnp\u001b[0m\u001b[1;33m.\u001b[0m\u001b[0marange\u001b[0m\u001b[1;33m(\u001b[0m\u001b[1;33m-\u001b[0m\u001b[1;36m10\u001b[0m\u001b[1;33m,\u001b[0m \u001b[1;36m14\u001b[0m\u001b[1;33m,\u001b[0m \u001b[0mstep\u001b[0m\u001b[1;33m=\u001b[0m\u001b[1;36m2.0\u001b[0m\u001b[1;33m)\u001b[0m\u001b[1;33m)\u001b[0m\u001b[1;33m\u001b[0m\u001b[1;33m\u001b[0m\u001b[0m\n",
      "\u001b[1;31mNameError\u001b[0m: name 'a_opt' is not defined"
     ]
    },
    {
     "data": {
      "image/png": "[encoded data removed]",
      "text/plain": [
       "<Figure size 1440x360 with 1 Axes>"
      ]
     },
     "metadata": {
      "needs_background": "light"
     },
     "output_type": "display_data"
    }
   ],
   "source": [
    "# Number of epochs.\n",
    "n_epochs = 1\n",
    "\n",
    "# Constant learning rate.\n",
    "alpha_init = 0.003\n",
    "\n",
    "# Gradient-descent solution.\n",
    "a, J_train, J_test, a_hist, alpha_hist, update_hist, gradient_hist, iteration = stochasticGradientDescent(X_train, y_train, X_test, y_test, n_epochs, alpha_init)\n",
    "\n",
    "# Plot figures.        \n",
    "fig = plt.figure(figsize=(20,5))\n",
    "\n",
    "plt.subplot(1, 3, 1)\n",
    "cp = plt.contour(A1, A2, J)\n",
    "plt.clabel(cp, inline=1, fontsize=10)\n",
    "plt.xlabel('$\\hat{a}_1$', fontsize=14)\n",
    "plt.ylabel('$\\hat{a}_2$', fontsize=14)\n",
    "plt.title('Cost-function\\'s Contour')\n",
    "plt.plot(a_hist[0, :], a_hist[1, :], 'kx--')\n",
    "plt.plot(a_opt[0], a_opt[1], c='r', marker='*')\n",
    "plt.xticks(np.arange(-10, 14, step=2.0))\n",
    "plt.yticks(np.arange(-10, 14, step=2.0))\n",
    "\n",
    "plt.subplot(1, 3, 2)\n",
    "plt.plot(np.arange(0, n_epochs*X_train.shape[0]), J_train[0:n_epochs*X_train.shape[0]], label='Train')\n",
    "plt.plot(np.arange(0, n_epochs*X_train.shape[0]), J_test[0:n_epochs*X_train.shape[0]], label='Test')\n",
    "plt.xlim((0, n_epochs*X_train.shape[0]))\n",
    "plt.yscale('log')\n",
    "plt.xlabel('Iteration', fontsize=14)\n",
    "plt.ylabel('$J_e$', fontsize=14)\n",
    "plt.title('Error vs. Iteration number')\n",
    "plt.grid()\n",
    "plt.legend()\n",
    "\n",
    "plt.subplot(1, 3, 3)\n",
    "plt.plot(np.arange(0, n_epochs*X_train.shape[0]), update_hist[0,:], label='$a_1$')\n",
    "plt.plot(np.arange(0, n_epochs*X_train.shape[0]), update_hist[1,:], label='$a_2$')\n",
    "plt.ylim([-2, 2])\n",
    "plt.xlabel('Iteration', fontsize=14)\n",
    "plt.ylabel('$\\\\nabla_{J_e}$', fontsize=14)\n",
    "plt.title('Update vs. Iteration number')\n",
    "plt.grid()\n",
    "plt.legend()\n",
    "\n",
    "plt.show()\n",
    "\n",
    "# Print found weights.\n",
    "print('----- Eq. Normal -----')\n",
    "print('a1 (ótimo): ' + str(a_opt[0, 0]))\n",
    "print('a2 (ótimo): ' + str(a_opt[1, 0]))\n",
    "# Print the MSE.\n",
    "y_pred_train = X_train.dot(a_opt)\n",
    "y_pred_test = X_test.dot(a_opt)\n",
    "print('MSE de treinamento (ótimo):', mean_squared_error(y_train, y_pred_train))\n",
    "print('MSE de validação (ótimo):', mean_squared_error(y_test, y_pred_test))\n",
    "print('')\n",
    "\n",
    "# Print found weights.\n",
    "print('-------- GDE --------')\n",
    "print('a1 (GDE): ' + str(a[0, 0]))\n",
    "print('a2 (GDE): ' + str(a[1, 0]))\n",
    "# Print the MSE.\n",
    "y_pred_train = X_train.dot(a)\n",
    "y_pred_test = X_test.dot(a)\n",
    "print('MSE de treinamento (GDE):', mean_squared_error(y_train, y_pred_train))\n",
    "print('MSE de validação (GDE):', mean_squared_error(y_test, y_pred_test))\n",
    "print('')"
   ]
  },
  {
   "cell_type": "markdown",
   "id": "6eeb9983",
   "metadata": {},
   "source": [
    "7. Após observar as figuras da superfície de contorno, de evolução do erro e de evolução do gradiente mostradas acima, responda as seguintes perguntas:\n",
    "\n",
    "+ O algoritmo do gradiente descendente se aproxima rapidamente do ponto de mínimo global?\n",
    "+ Se a movimentação em direção ao ponto de mínimo global não for rápida, qual é o motivo para isto? \n",
    "+ Observando as três figuras, o que pode-se dizer sobre a convergência do algoritmo do gradiente descendente estocástico (GDE)?\n",
    "+ O que pode ser feito para acelerar a movimentação do algoritmo em direção ao ponto de mínimo global (ou seja, como deixamos a superfície de erro mais circular, com o erro variando similarmente em todas as direções)?\n",
    "\n",
    "**DICAS**\n",
    "\n",
    "+ Para resolver este item, se baseie no seguinte exemplo: [stocastic_gradient_descent_with_figures.ipynb](https://colab.research.google.com/github/zz4fap/t319_aprendizado_de_maquina/blob/main/notebooks/regression/gd_versions/stocastic_gradient_descent_with_figures.ipynb)."
   ]
  },
  {
   "cell_type": "markdown",
   "id": "029c17e6",
   "metadata": {},
   "source": [
    "<span style=\"color:blue\">Digite aqui a resposta do exercício.</span>\n",
    "\n",
    "**Resposta**"
   ]
  },
  {
   "cell_type": "markdown",
   "id": "48a5fe1f",
   "metadata": {},
   "source": [
    "8. Realize a **padronização** dos atributos dos conjuntos de treinamento e de validação e, na sequência, encontre a solução ótima com a equação normal e imprima os novos pesos e os erros de treinamento e validação.\n",
    "\n",
    "**DICAS**\n",
    "\n",
    "+ Lembre-se que os parâmetros de padronização (média e variância) são calculados com o conjunto de treinamento e aplicados na padronização do conjunto de validação, ou seja, não se calcula os parâmetros de padronização para o conjunto de validação, apenas se utiliza os parâmetros calculados com o conjunto de treinamento.\n",
    "+ A classe `StandardScaler` já foi importada no item 1 do exercício, você só precisa instanciar um objeto da classe e realizar a padronização dos atributos.\n",
    "+ Para resolver este item, se baseie no seguinte exemplo: [escalonamento_de_atributos2.ipynb](https://colab.research.google.com/github/zz4fap/t319_aprendizado_de_maquina/blob/main/notebooks/regression/escalonamento_de_atributosv2.ipynb).\n",
    "+ Atenção, não basta apenas copiar o código do exemplo dado, você precisa alterá-lo."
   ]
  },
  {
   "cell_type": "code",
   "execution_count": null,
   "id": "db0f52a3",
   "metadata": {},
   "outputs": [],
   "source": [
    "# Digite o código do exercício aqui."
   ]
  },
  {
   "cell_type": "markdown",
   "id": "c9452ebf",
   "metadata": {},
   "source": [
    "9. Após ter realizado a padronização dos atributos, responda as seguintes perguntas:\n",
    "\n",
    "+ Os valores ótimos dos pesos são semelhantes aos encontrados no item 3 deste exercício? \n",
    "+ Caso não sejam, explique o motivo para a diferença.\n",
    "\n",
    "**DICAS**\n",
    "\n",
    "+ Perceba que agora usamos os **valores padronizados dos atributos** para calcular o ponto ótimo.\n",
    "+ Para responder as perguntas deste item, se baseie no seguinte exemplo: [escalonamento_de_atributos2.ipynb](https://colab.research.google.com/github/zz4fap/t319_aprendizado_de_maquina/blob/main/notebooks/regression/escalonamento_de_atributosv2.ipynb)."
   ]
  },
  {
   "cell_type": "markdown",
   "id": "6e5c1faa",
   "metadata": {},
   "source": [
    "<span style=\"color:blue\">Digite aqui a resposta do exercício.</span>\n",
    "\n",
    "**Resposta**"
   ]
  },
  {
   "cell_type": "markdown",
   "id": "eef05220",
   "metadata": {},
   "source": [
    "10. Neste item, você irá usar o algoritmo do gradiente descendente estocástico (GDE) e os atributos **padronizados** para resolver o problema de regressão proposto neste exercício. Neste item, o algoritmo do gradiente descendente estocástico utiliza um passo de aprendizagem fixo, ou seja, ele é constante ao longo de todas as iterações de treinamento. \n",
    "\n",
    "Execute a célula abaixo e analise as três figuras geradas. A figura da esquerda mostra a superfície de contorno com o histórico de atualizações dos pesos (onde a estrela vermelha identifica a posição do ponto de mínimo global da superfície), a figura do meio mostra a evolução dos erros obtidos com os conjuntos de treinamento e validação ao longo das iterações de treinamento do modelo e a figura da direita mostra a evolução do termo de atualização dos pesos $\\hat{a}_1$ e $\\hat{a}_2$ em função das iterações de treinamento do modelo.\n",
    "\n",
    "**OBS**.: A figura da direita mostra a evolução do termo de atualização dos pesos $\\hat{a}_1$ e $\\hat{a}_2$, ou seja, a figura mostra $ \\alpha \\times \\nabla_{J_e} $, o passo de aprendizagem $\\alpha$ vezes o vetor gradiente, $\\nabla_{J_e}$.\n",
    "\n",
    "**DICAS**\n",
    "\n",
    "+ Se certifique que os nomes das matrizes de treinamento e validação após a padronização sejam, `scaled_X_train` e `scaled_X_test`, respectivamente."
   ]
  },
  {
   "cell_type": "code",
   "execution_count": 6,
   "id": "306a0d52",
   "metadata": {},
   "outputs": [
    {
     "name": "stderr",
     "output_type": "stream",
     "text": [
      "C:\\Users\\FELIPE~1.FIG\\AppData\\Local\\Temp/ipykernel_20372/3302915802.py:115: RuntimeWarning: overflow encountered in add\n",
      "  J_train[epoch*N_train+i+1] = (1.0/N_train)*sum(np.power((y_train - X_train.dot(a)), 2))\n",
      "C:\\Users\\FELIPE~1.FIG\\AppData\\Local\\Temp/ipykernel_20372/3302915802.py:116: RuntimeWarning: overflow encountered in add\n",
      "  J_test[epoch*N_train+i+1] = (1.0/N_test)*sum(np.power((y_test - X_test.dot(a)), 2))\n",
      "C:\\Users\\FELIPE~1.FIG\\AppData\\Local\\Temp/ipykernel_20372/3302915802.py:115: RuntimeWarning: overflow encountered in power\n",
      "  J_train[epoch*N_train+i+1] = (1.0/N_train)*sum(np.power((y_train - X_train.dot(a)), 2))\n",
      "C:\\Users\\FELIPE~1.FIG\\AppData\\Local\\Temp/ipykernel_20372/3302915802.py:116: RuntimeWarning: overflow encountered in power\n",
      "  J_test[epoch*N_train+i+1] = (1.0/N_test)*sum(np.power((y_test - X_test.dot(a)), 2))\n",
      "C:\\Users\\FELIPE~1.FIG\\AppData\\Local\\Temp/ipykernel_20372/3302915802.py:104: RuntimeWarning: overflow encountered in multiply\n",
      "  gradient = -2.0*xi.T.dot(yi - xi.dot(a))\n",
      "C:\\Users\\FELIPE~1.FIG\\AppData\\Local\\Temp/ipykernel_20372/3302915802.py:106: RuntimeWarning: invalid value encountered in subtract\n",
      "  a = a - update\n"
     ]
    },
    {
     "ename": "NameError",
     "evalue": "name 'a_opt' is not defined",
     "output_type": "error",
     "traceback": [
      "\u001b[1;31m---------------------------------------------------------------------------\u001b[0m",
      "\u001b[1;31mNameError\u001b[0m                                 Traceback (most recent call last)",
      "\u001b[1;32mC:\\Users\\FELIPE~1.FIG\\AppData\\Local\\Temp/ipykernel_20372/909842649.py\u001b[0m in \u001b[0;36m<module>\u001b[1;34m\u001b[0m\n\u001b[0;32m     21\u001b[0m \u001b[0mplt\u001b[0m\u001b[1;33m.\u001b[0m\u001b[0mtitle\u001b[0m\u001b[1;33m(\u001b[0m\u001b[1;34m'Cost-function\\'s Contour'\u001b[0m\u001b[1;33m)\u001b[0m\u001b[1;33m\u001b[0m\u001b[1;33m\u001b[0m\u001b[0m\n\u001b[0;32m     22\u001b[0m \u001b[0mplt\u001b[0m\u001b[1;33m.\u001b[0m\u001b[0mplot\u001b[0m\u001b[1;33m(\u001b[0m\u001b[0ma_hist\u001b[0m\u001b[1;33m[\u001b[0m\u001b[1;36m0\u001b[0m\u001b[1;33m,\u001b[0m \u001b[1;33m:\u001b[0m\u001b[1;33m]\u001b[0m\u001b[1;33m,\u001b[0m \u001b[0ma_hist\u001b[0m\u001b[1;33m[\u001b[0m\u001b[1;36m1\u001b[0m\u001b[1;33m,\u001b[0m \u001b[1;33m:\u001b[0m\u001b[1;33m]\u001b[0m\u001b[1;33m,\u001b[0m \u001b[1;34m'kx--'\u001b[0m\u001b[1;33m)\u001b[0m\u001b[1;33m\u001b[0m\u001b[1;33m\u001b[0m\u001b[0m\n\u001b[1;32m---> 23\u001b[1;33m \u001b[0mplt\u001b[0m\u001b[1;33m.\u001b[0m\u001b[0mplot\u001b[0m\u001b[1;33m(\u001b[0m\u001b[0ma_opt\u001b[0m\u001b[1;33m[\u001b[0m\u001b[1;36m0\u001b[0m\u001b[1;33m]\u001b[0m\u001b[1;33m,\u001b[0m \u001b[0ma_opt\u001b[0m\u001b[1;33m[\u001b[0m\u001b[1;36m1\u001b[0m\u001b[1;33m]\u001b[0m\u001b[1;33m,\u001b[0m \u001b[0mc\u001b[0m\u001b[1;33m=\u001b[0m\u001b[1;34m'r'\u001b[0m\u001b[1;33m,\u001b[0m \u001b[0mmarker\u001b[0m\u001b[1;33m=\u001b[0m\u001b[1;34m'*'\u001b[0m\u001b[1;33m)\u001b[0m\u001b[1;33m\u001b[0m\u001b[1;33m\u001b[0m\u001b[0m\n\u001b[0m\u001b[0;32m     24\u001b[0m \u001b[0mplt\u001b[0m\u001b[1;33m.\u001b[0m\u001b[0mxticks\u001b[0m\u001b[1;33m(\u001b[0m\u001b[0mnp\u001b[0m\u001b[1;33m.\u001b[0m\u001b[0marange\u001b[0m\u001b[1;33m(\u001b[0m\u001b[1;33m-\u001b[0m\u001b[1;36m10\u001b[0m\u001b[1;33m,\u001b[0m \u001b[1;36m14\u001b[0m\u001b[1;33m,\u001b[0m \u001b[0mstep\u001b[0m\u001b[1;33m=\u001b[0m\u001b[1;36m2.0\u001b[0m\u001b[1;33m)\u001b[0m\u001b[1;33m)\u001b[0m\u001b[1;33m\u001b[0m\u001b[1;33m\u001b[0m\u001b[0m\n\u001b[0;32m     25\u001b[0m \u001b[0mplt\u001b[0m\u001b[1;33m.\u001b[0m\u001b[0myticks\u001b[0m\u001b[1;33m(\u001b[0m\u001b[0mnp\u001b[0m\u001b[1;33m.\u001b[0m\u001b[0marange\u001b[0m\u001b[1;33m(\u001b[0m\u001b[1;33m-\u001b[0m\u001b[1;36m10\u001b[0m\u001b[1;33m,\u001b[0m \u001b[1;36m14\u001b[0m\u001b[1;33m,\u001b[0m \u001b[0mstep\u001b[0m\u001b[1;33m=\u001b[0m\u001b[1;36m2.0\u001b[0m\u001b[1;33m)\u001b[0m\u001b[1;33m)\u001b[0m\u001b[1;33m\u001b[0m\u001b[1;33m\u001b[0m\u001b[0m\n",
      "\u001b[1;31mNameError\u001b[0m: name 'a_opt' is not defined"
     ]
    },
    {
     "data": {
      "image/png": "[encoded data removed]",
      "text/plain": [
       "<Figure size 1440x360 with 1 Axes>"
      ]
     },
     "metadata": {
      "needs_background": "light"
     },
     "output_type": "display_data"
    }
   ],
   "source": [
    "# Number of epochs.\n",
    "n_epochs = 1\n",
    "\n",
    "# Constant learning rate.\n",
    "alpha_init = 0.1\n",
    "\n",
    "# Gradient-descent solution.\n",
    "a, J_train, J_test, a_hist, alpha_hist, update_hist, gradient_hist, iteration = stochasticGradientDescent(scaled_X_train, y_train, scaled_X_test, y_test, n_epochs, alpha_init)\n",
    "\n",
    "# Calculate the values for plotting the error surface.\n",
    "J, A1, A2 = calculateErrorSurface(scaled_X_train, y_train)\n",
    "\n",
    "# Plot figures.        \n",
    "fig = plt.figure(figsize=(20,5))\n",
    "\n",
    "plt.subplot(1, 3, 1)\n",
    "cp = plt.contour(A1, A2, J)\n",
    "plt.clabel(cp, inline=1, fontsize=10)\n",
    "plt.xlabel('$\\hat{a}_1$', fontsize=14)\n",
    "plt.ylabel('$\\hat{a}_2$', fontsize=14)\n",
    "plt.title('Cost-function\\'s Contour')\n",
    "plt.plot(a_hist[0, :], a_hist[1, :], 'kx--')\n",
    "plt.plot(a_opt[0], a_opt[1], c='r', marker='*')\n",
    "plt.xticks(np.arange(-10, 14, step=2.0))\n",
    "plt.yticks(np.arange(-10, 14, step=2.0))\n",
    "\n",
    "plt.subplot(1, 3, 2)\n",
    "plt.plot(np.arange(0, n_epochs*scaled_X_train.shape[0]), J_train[0:n_epochs*X_train.shape[0]], label='Train')\n",
    "plt.plot(np.arange(0, n_epochs*scaled_X_train.shape[0]), J_test[0:n_epochs*X_train.shape[0]], label='Test')\n",
    "plt.xlim((0, n_epochs*scaled_X_train.shape[0]))\n",
    "plt.yscale('log')\n",
    "plt.xlabel('Iteration', fontsize=14)\n",
    "plt.ylabel('$J_e$', fontsize=14)\n",
    "plt.title('Error vs. Iteration number')\n",
    "plt.grid()\n",
    "plt.legend()\n",
    "\n",
    "plt.subplot(1, 3, 3)\n",
    "plt.plot(np.arange(0, n_epochs*scaled_X_train.shape[0]), update_hist[0,:], label='$a_1$')\n",
    "plt.plot(np.arange(0, n_epochs*scaled_X_train.shape[0]), update_hist[1,:], label='$a_2$')\n",
    "plt.ylim([-2, 2])\n",
    "plt.xlabel('Iteration', fontsize=14)\n",
    "plt.ylabel('$\\\\alpha \\\\times \\\\nabla_{J_e}$', fontsize=14)\n",
    "plt.title('Update vs. Iteration number')\n",
    "plt.grid()\n",
    "plt.legend()\n",
    "\n",
    "plt.show()\n",
    "\n",
    "# Print found weights.\n",
    "print('----- Eq. Normal -----')\n",
    "print('a1 (ótimo): ' + str(a_opt[0, 0]))\n",
    "print('a2 (ótimo): ' + str(a_opt[1, 0]))\n",
    "# Print the MSE.\n",
    "y_pred_train = scaled_X_train.dot(a_opt)\n",
    "y_pred_test = scaled_X_test.dot(a_opt)\n",
    "print('MSE de treinamento (ótimo):', mean_squared_error(y_train, y_pred_train))\n",
    "print('MSE de validação (ótimo):', mean_squared_error(y_test, y_pred_test))\n",
    "print('')\n",
    "\n",
    "# Print found weights.\n",
    "print('-------- GDE --------')\n",
    "print('a1 (GDE): ' + str(a[0, 0]))\n",
    "print('a2 (GDE): ' + str(a[1, 0]))\n",
    "# Print the MSE.\n",
    "y_pred_train = scaled_X_train.dot(a)\n",
    "y_pred_test = scaled_X_test.dot(a)\n",
    "print('MSE de treinamento (GDE):', mean_squared_error(y_train, y_pred_train))\n",
    "print('MSE de validação (GDE):', mean_squared_error(y_test, y_pred_test))\n",
    "print('')"
   ]
  },
  {
   "cell_type": "markdown",
   "id": "f99bf1f1",
   "metadata": {},
   "source": [
    "11. Após observar as figuras da superfície de contorno, de evolução do erro e de evolução do gradiente mostradas acima, responda as seguintes perguntas:\n",
    "\n",
    "+ O algoritmo do gradiente descendente se aproxima rapidamente do ponto de mínimo global?\n",
    "+ Se a movimentação em direção ao ponto de mínimo global for rápida, qual é o motivo para isto? \n",
    "+ Observando as três figuras, o que pode-se dizer sobre a convergência do algoritmo do gradiente descendente estocástico? \n",
    "+ Houve alguma melhoria em relação à convergência do algoritmo após a padronização?\n",
    "\n",
    "**DICAS**\n",
    "\n",
    "+ Para responder as perguntas deste item, se baseie no seguintes exemplos: \n",
    "    + [stocastic_gradient_descent_with_figures.ipynb](https://colab.research.google.com/github/zz4fap/t319_aprendizado_de_maquina/blob/main/notebooks/regression/gd_versions/stocastic_gradient_descent_with_figures.ipynb).\n",
    "    + [escalonamento_de_atributos2.ipynb](https://colab.research.google.com/github/zz4fap/t319_aprendizado_de_maquina/blob/main/notebooks/regression/escalonamento_de_atributosv2.ipynb)."
   ]
  },
  {
   "cell_type": "markdown",
   "id": "86973db3",
   "metadata": {},
   "source": [
    "<span style=\"color:blue\">Digite aqui a resposta do exercício.</span>\n",
    "\n",
    "**Resposta**"
   ]
  },
  {
   "cell_type": "markdown",
   "id": "d66a82f5",
   "metadata": {},
   "source": [
    "12. Neste item, vamos utilizar o esquema de redução gradual do passo de aprendizagem para melhorar a convergência do gradiente descendente estocástico. O objetivo deste item é encontrar o valor de `beta`, ou seja, o número de iterações necessárias para que o passo de aprendizado seja reduzido, de tal forma que o algoritmo do gradiente descendente estocástico **se estabilize muito próximo do ponto de mínimo global**.\n",
    "\n",
    "**DICAS**\n",
    "\n",
    "+ Altere o valor da variável `beta` na célula de código abaixo de 6 até 17, em passos de 1 unidade. Para cada novo valor de `beta`, execute a célula de código abaixo e analise as figuras e valores gerados.\n",
    "+ Altere apenas o valor da variável `beta`.\n",
    "\n",
    "**OBS. 1**: A terceira figura mostra a evolução do termo de atualização dos pesos $\\hat{a}_1$ e $\\hat{a}_2$, ou seja, a figura mostra $\\alpha \\times \\nabla_{J_e} $, o passo de aprendizagem $\\alpha$ vezes o vetor gradiente, $\\nabla_{J_e}$.\n",
    "\n",
    "**OBS. 2**: A quarta figura mostra a atualização do valor do passo de aprendizagem, $\\alpha$, ao longo das iterações de treinamento."
   ]
  },
  {
   "cell_type": "code",
   "execution_count": 1,
   "id": "6a2efff7",
   "metadata": {},
   "outputs": [
    {
     "ename": "NameError",
     "evalue": "name 'stochasticGradientDescent' is not defined",
     "output_type": "error",
     "traceback": [
      "\u001b[1;31m---------------------------------------------------------------------------\u001b[0m",
      "\u001b[1;31mNameError\u001b[0m                                 Traceback (most recent call last)",
      "\u001b[1;32mC:\\Users\\FELIPE~1.FIG\\AppData\\Local\\Temp/ipykernel_14096/92214653.py\u001b[0m in \u001b[0;36m<module>\u001b[1;34m\u001b[0m\n\u001b[0;32m     11\u001b[0m \u001b[1;33m\u001b[0m\u001b[0m\n\u001b[0;32m     12\u001b[0m \u001b[1;31m# Gradient-descent solution.\u001b[0m\u001b[1;33m\u001b[0m\u001b[1;33m\u001b[0m\u001b[0m\n\u001b[1;32m---> 13\u001b[1;33m \u001b[0ma\u001b[0m\u001b[1;33m,\u001b[0m \u001b[0mJ_train\u001b[0m\u001b[1;33m,\u001b[0m \u001b[0mJ_test\u001b[0m\u001b[1;33m,\u001b[0m \u001b[0ma_hist\u001b[0m\u001b[1;33m,\u001b[0m \u001b[0malpha_hist\u001b[0m\u001b[1;33m,\u001b[0m \u001b[0mupdate_hist\u001b[0m\u001b[1;33m,\u001b[0m \u001b[0mgradient_hist\u001b[0m\u001b[1;33m,\u001b[0m \u001b[0miteration\u001b[0m \u001b[1;33m=\u001b[0m \u001b[0mstochasticGradientDescent\u001b[0m\u001b[1;33m(\u001b[0m\u001b[0mscaled_X_train\u001b[0m\u001b[1;33m,\u001b[0m \u001b[0my_train\u001b[0m\u001b[1;33m,\u001b[0m \u001b[0mscaled_X_test\u001b[0m\u001b[1;33m,\u001b[0m \u001b[0my_test\u001b[0m\u001b[1;33m,\u001b[0m \u001b[0mn_epochs\u001b[0m\u001b[1;33m,\u001b[0m \u001b[0malpha_init\u001b[0m\u001b[1;33m,\u001b[0m \u001b[0mbeta\u001b[0m\u001b[1;33m,\u001b[0m \u001b[0mlrschedule\u001b[0m\u001b[1;33m,\u001b[0m \u001b[0mseed\u001b[0m\u001b[1;33m)\u001b[0m\u001b[1;33m\u001b[0m\u001b[1;33m\u001b[0m\u001b[0m\n\u001b[0m\u001b[0;32m     14\u001b[0m \u001b[1;33m\u001b[0m\u001b[0m\n\u001b[0;32m     15\u001b[0m \u001b[1;31m# Calculate the values for plotting the error surface.\u001b[0m\u001b[1;33m\u001b[0m\u001b[1;33m\u001b[0m\u001b[0m\n",
      "\u001b[1;31mNameError\u001b[0m: name 'stochasticGradientDescent' is not defined"
     ]
    }
   ],
   "source": [
    "# Number of epochs.\n",
    "n_epochs = 1\n",
    "\n",
    "lrschedule = 'step' # sem o uso de nenhuma abordagem de redução do passo de aprendizagem.\n",
    "\n",
    "# Constant learning rate.\n",
    "alpha_init = 0.1\n",
    "\n",
    "# Decaying step.\n",
    "beta = 6\n",
    "\n",
    "# Gradient-descent solution.\n",
    "a, J_train, J_test, a_hist, alpha_hist, update_hist, gradient_hist, iteration = stochasticGradientDescent(scaled_X_train, y_train, scaled_X_test, y_test, n_epochs, alpha_init, beta, lrschedule, seed)\n",
    "\n",
    "# Calculate the values for plotting the error surface.\n",
    "J, A1, A2 = calculateErrorSurface(scaled_X_train, y_train)\n",
    "\n",
    "# Plot figures.        \n",
    "fig = plt.figure(figsize=(25,5))\n",
    "\n",
    "plt.subplot(1, 4, 1)\n",
    "cp = plt.contour(A1, A2, J)\n",
    "plt.clabel(cp, inline=1, fontsize=10)\n",
    "plt.xlabel('$a_1$', fontsize=14)\n",
    "plt.ylabel('$a_2$', fontsize=14)\n",
    "plt.title('Cost-function\\'s Contour')\n",
    "plt.plot(a_opt[0], a_opt[1], c='r', marker='*')\n",
    "plt.plot(a_hist[0, :], a_hist[1, :], 'kx--')\n",
    "plt.xticks(np.arange(-10, 12, step=2.0))\n",
    "plt.yticks(np.arange(-10, 12, step=2.0))\n",
    "\n",
    "plt.subplot(1, 4, 2)\n",
    "plt.plot(np.arange(0, n_epochs*scaled_X_train.shape[0]), J_train[0:n_epochs*scaled_X_train.shape[0]], label='Train')\n",
    "plt.plot(np.arange(0, n_epochs*scaled_X_train.shape[0]), J_test[0:n_epochs*scaled_X_train.shape[0]], label='Test')\n",
    "plt.xlim((0, n_epochs*scaled_X_train.shape[0]))\n",
    "plt.yscale('log')\n",
    "plt.xlabel('Iteration', fontsize=14)\n",
    "plt.ylabel('$J_e$', fontsize=14)\n",
    "plt.title('Error vs. Iteration number')\n",
    "plt.grid()\n",
    "plt.legend()\n",
    "\n",
    "plt.subplot(1, 4, 3)\n",
    "plt.plot(np.arange(0, n_epochs*scaled_X_train.shape[0]), update_hist[0,:], label='$a_1$')\n",
    "plt.plot(np.arange(0, n_epochs*scaled_X_train.shape[0]), update_hist[1,:], label='$a_2$')\n",
    "plt.ylim([-2, 2])\n",
    "plt.xlabel('Iteration', fontsize=14)\n",
    "plt.ylabel('$\\\\alpha \\\\times \\\\nabla_{J_e}$', fontsize=14)\n",
    "plt.title('Update vs. Iteration number')\n",
    "plt.grid()\n",
    "plt.legend()\n",
    "\n",
    "plt.subplot(1, 4, 4)\n",
    "plt.plot(range(0,n_epochs*scaled_X_train.shape[0]), alpha_hist)\n",
    "plt.yscale(\"log\")\n",
    "plt.xscale(\"log\")\n",
    "plt.xlabel('Iteração', fontsize=14)\n",
    "plt.ylabel('Learning step', fontsize=14)\n",
    "plt.title('Variation of the learning step')\n",
    "\n",
    "plt.show()\n",
    "\n",
    "# Print found weights.\n",
    "print('----- Eq. Normal -----')\n",
    "print('a1 (ótimo): ' + str(a_opt[0, 0]))\n",
    "print('a2 (ótimo): ' + str(a_opt[1, 0]))\n",
    "# Print the MSE.\n",
    "y_pred_train = scaled_X_train.dot(a_opt)\n",
    "y_pred_test = scaled_X_test.dot(a_opt)\n",
    "print('MSE de treinamento (ótimo):', mean_squared_error(y_train, y_pred_train))\n",
    "print('MSE de validação (ótimo):', mean_squared_error(y_test, y_pred_test))\n",
    "print('')\n",
    "\n",
    "# Print found weights.\n",
    "print('-------- GDE --------')\n",
    "print('a1 (GDE): ' + str(a[0, 0]))\n",
    "print('a2 (GDE): ' + str(a[1, 0]))\n",
    "# Print the MSE.\n",
    "y_pred_train = scaled_X_train.dot(a)\n",
    "y_pred_test = scaled_X_test.dot(a)\n",
    "print('MSE de treinamento (GDE):', mean_squared_error(y_train, y_pred_train))\n",
    "print('MSE de validação (GDE):', mean_squared_error(y_test, y_pred_test))\n",
    "print('')"
   ]
  },
  {
   "cell_type": "markdown",
   "id": "943ca0b2",
   "metadata": {},
   "source": [
    "13. Após ter alterado, encontrado o valor ideal da variável `beta` e analisado as figuras e valores gerados no item anterior, responda:\n",
    "\n",
    "+ Qual valor de `beta` faz com que o GDE tenha uma melhora em sua convergência?\n",
    "+ Por que consegue-se esta melhora na convergência do GDE?\n",
    "+ O decaimento gradual do passo de aprendizagem tem alguma influência na direção com que o GDE caminha para o ponto de mínimo?\n",
    "\n",
    "**DICAS**\n",
    "\n",
    "+ Para responder a terceira pergunta acima, compare a figura da superfície de contorno com o histórico de atualizações dos pesos do item 10 com a mesma figura do item 12. Compare o caminho feito pelo GDE nas duas figuras.\n",
    "\n",
    "+ Para responder as perguntas deste item, se baseie no seguinte exemplo: [stocastic_gradient_descent_with_learning_schedule_and_with_figures.ipynb](https://colab.research.google.com/github/zz4fap/t319_aprendizado_de_maquina/blob/main/notebooks/regression/gd_versions/stocastic_gradient_descent_with_learning_schedule_and_with_figures.ipynb)."
   ]
  },
  {
   "cell_type": "markdown",
   "id": "21082e06",
   "metadata": {},
   "source": [
    "<span style=\"color:blue\">Digite aqui a resposta do exercício.</span>\n",
    "\n",
    "**Resposta**"
   ]
  },
  {
   "cell_type": "markdown",
   "id": "91047dd1",
   "metadata": {},
   "source": [
    "### 2) Exercício sobre regressão polinomial para aproximação de FDPs desconhecidas.\n",
    "\n",
    "Em telecomunicações, podemos encontrar, em determinados problemas, variáveis aleatórias que não possuem formas conhecidas para suas funções densidade de probabilidade (FDP). Nestes casos, podemos recorrer à aproximação de funções como uma forma de encontrar uma função que aproxime os valores observados desta variável aleatória. Portanto, neste exercício, iremos usar regressão polinomial para encontrar uma função que aproxime os dados observados de uma variável aleatória o melhor possível.\n",
    "\n",
    "1. As observações da variável aleatória com FDP desconhecida podem ser geradas com o trecho de código abaixo. Portanto, execute código abaixo e analise o resultado.\n",
    "\n",
    "**DICAS**\n",
    "\n",
    "+ Este exercício consume muita memória RAM, portanto, para que você não encontre problemas durante sua execução, execute este exercício no Google Colab."
   ]
  },
  {
   "cell_type": "code",
   "execution_count": 1,
   "id": "e5061f08",
   "metadata": {},
   "outputs": [
    {
     "data": {
      "image/png": "[encoded data removed]",
      "text/plain": [
       "<Figure size 432x288 with 1 Axes>"
      ]
     },
     "metadata": {
      "needs_background": "light"
     },
     "output_type": "display_data"
    }
   ],
   "source": [
    "# Importa bibliotecas necessárias.\n",
    "import numpy as np\n",
    "import pandas as pd\n",
    "import matplotlib.pyplot as plt\n",
    "from sklearn.model_selection import train_test_split\n",
    "from sklearn.metrics import mean_squared_error\n",
    "from sklearn.linear_model import LinearRegression\n",
    "from sklearn.preprocessing import PolynomialFeatures, MinMaxScaler, StandardScaler\n",
    "from sklearn.pipeline import Pipeline\n",
    "from sklearn.metrics import mean_squared_error\n",
    "from sklearn.model_selection import train_test_split, cross_val_score, KFold\n",
    "\n",
    "# Reseta gerador de sequências pseudo-aleatórias.\n",
    "seed = 42\n",
    "np.random.seed(seed)\n",
    "\n",
    "# Número de amostras da variável aleatória.\n",
    "M = 10000000\n",
    "\n",
    "# Número de termos do somatório.\n",
    "N = 4\n",
    "\n",
    "# Gera uma das variáveis aleatórias.\n",
    "f = 1.1 + (1/(np.sqrt(2)))*(np.random.randn(N,M) + 1j*np.random.randn(N,M))\n",
    "f = np.abs(f)\n",
    "\n",
    "# Gera outra variável aleatória.\n",
    "g = 1.1 + (1/(np.sqrt(2)))*(np.random.randn(N,M) + 1j*np.random.randn(N,M))\n",
    "g = np.abs(g)\n",
    "\n",
    "# Gera variável aleatória com FDP desconhecida.\n",
    "h = np.sum(f*g, axis=0)\n",
    "\n",
    "# Número de divisões do histograma.\n",
    "bins = 300\n",
    "y, X, p = plt.hist(h, bins=bins, density=True)\n",
    "plt.title('$y = \\sum_{n=1}^{N} |f_n||g_n|$')\n",
    "plt.ylabel('Probabilidade')\n",
    "plt.xlabel('y')\n",
    "plt.show()\n",
    "\n",
    "# Redimensionando o vetor de atributos.\n",
    "X = X[0:len(X)-1].reshape(bins,1)"
   ]
  },
  {
   "cell_type": "markdown",
   "id": "300dc09f",
   "metadata": {},
   "source": [
    "2. Com a matriz de atributos X e o vetor de rótulos y obtidos no item anterior, utilize a técnica de validação cruzada k-Fold para escolher a melhor ordem para o modelo de aproximação da FDP. Para isso:\n",
    "\n",
    " 1. Use o **k-Fold** com **k** igual a 10 e o parâmetro `random_state=0`.\n",
    " 2. Faça a análise de polinômios de ordem 1 até 30, **inclusive**.\n",
    " 3. Inclua o atributo de bias ao instanciar a classe `PolynomialFeatures` utilizando o parâmetro `include_bias=True`.\n",
    " 4. Use a classe `StandardScaler` para escalonar os dados.\n",
    " 5. Plote gráficos com a média e o desvio padrão do erro quadrático médio (MSE) em função do grau do polinômio.\n",
    "\n",
    "**DICAS** \n",
    "\n",
    "+ O tempo de execução desse exercício é de aproximadamente 10 minutos, mas pode variar de computador para computador, portanto, pegue um café e tenha paciência.\n",
    "+ Para resolver este item, se baseie no seguinte exemplo: [validacao_cruzada.ipynb](https://colab.research.google.com/github/zz4fap/t319_aprendizado_de_maquina/blob/main/notebooks/regression/validacao_cruzada.ipynb).\n",
    "+ **Atenção, não basta apenas copiar o código do exemplo dado, você precisa alterá-lo.**"
   ]
  },
  {
   "cell_type": "code",
   "execution_count": 1,
   "id": "ce7642dd",
   "metadata": {},
   "outputs": [],
   "source": [
    "# Digite o código do exercício aqui."
   ]
  },
  {
   "cell_type": "markdown",
   "id": "5f4cf930",
   "metadata": {},
   "source": [
    "3. Após analisar os resultados do item anterior, responda: Qual a melhor ordem do polinômio para esse problema? **Justifique sua resposta.**\n",
    "\n",
    "**DICAS**\n",
    "\n",
    "+ Use o princípio da navalha de Occam para escolher a ordem do polinômio."
   ]
  },
  {
   "cell_type": "markdown",
   "id": "258af825",
   "metadata": {},
   "source": [
    "<span style=\"color:blue\">Digite aqui a resposta do exercício.</span>\n",
    "\n",
    "**Resposta**"
   ]
  },
  {
   "cell_type": "markdown",
   "id": "123a5f36",
   "metadata": {},
   "source": [
    "4. De posse da melhor ordem, treine um novo modelo de regressão polinomial considerando esta ordem e no final imprima o valor do erro quadrático médio para (MSE).\n",
    "\n",
    "**DICAS**\n",
    "+ Inclua o bias ao instanciar a classe `PolynomialFeatures` utilizando o parâmetro `include_bias=True`.\n",
    "+ Use a classe `StandardScaler` para normalizar os dados.\n",
    "+ Use o conjunto total de amostras para calcular o erro.\n",
    "+ Para resolver este item, se baseie no seguinte exemplo: [validacao_cruzada.ipynb](https://colab.research.google.com/github/zz4fap/t319_aprendizado_de_maquina/blob/main/notebooks/regression/validacao_cruzada.ipynb).\n",
    "+ **Atenção, não basta apenas copiar o código do exemplo dado, você precisa alterá-lo.**"
   ]
  },
  {
   "cell_type": "code",
   "execution_count": 2,
   "id": "ad39b3c1",
   "metadata": {},
   "outputs": [],
   "source": [
    "# Digite aqui o código do exercício."
   ]
  },
  {
   "cell_type": "markdown",
   "id": "b8268800",
   "metadata": {},
   "source": [
    "5. Apresente uma figura comparando a predição feita pelo melhor regressor polinomial com os dados originais.\n",
    "\n",
    "**DICAS**\n",
    "\n",
    "+ Para resolver este item, se baseie no seguinte exemplo: [validacao_cruzada.ipynb](https://colab.research.google.com/github/zz4fap/t319_aprendizado_de_maquina/blob/main/notebooks/regression/validacao_cruzada.ipynb).\n",
    "+ **Atenção, não basta apenas copiar o código do exemplo dado, você precisa alterá-lo.**"
   ]
  },
  {
   "cell_type": "code",
   "execution_count": 3,
   "id": "beafecf5",
   "metadata": {},
   "outputs": [],
   "source": [
    "# Digite aqui o código do exercício."
   ]
  },
  {
   "cell_type": "markdown",
   "id": "8dfc86cc",
   "metadata": {},
   "source": [
    "### 3) Utilizando regressão para prever o custo médio de casas.\n",
    "\n",
    "Neste exercício, você irá utilizar validação cruzada para encontrar a ordem ideal de uma função hipótese que será usada para aproximar o conjunto de dados do Boston Housing e prever o custo médio de uma casa em uma área de Boston. O objetivo é prever o valor dos preços de casas usando os atributos fornecidos.\n",
    "\n",
    "Esta base de dados contém informações do censo dos EUA relativos a casas em várias áreas da cidade de Boston. Cada exemplo corresponde a uma área única e possui 13 medidas. Devemos pensar em exemplos como linhas e atributos como colunas da base de dados. A base de dados do Boston Housing é um das várias bases de dados disponibilizadas pela biblioteca SciKit-Learn. \n",
    "\n",
    "A base de dados possui 506 exemplos (i.e. linhas) e 13 atributos numéricos (i.e., colunas). O décimo quarto atributo (i.e., **MEDV**: Median value of owner-occupied homes in USD 1000's) é considerado como sendo o rótulo, ou seja, o valor que queremos prever com o modelo. A descrição das informações contidas no banco de dados segue abaixo.\n",
    "\n",
    "| Attribute |                              Description                              |\n",
    "|:---------:|:---------------------------------------------------------------------:|\n",
    "|    CRIM   |                     per capita crime rate by town                     |\n",
    "|     ZN    |    proportion of residential land zoned for lots over 25,000 sq.ft.   |\n",
    "|   INDUS   |            proportion of non-retail business acres per town           |\n",
    "|    CHAS   | Charles River dummy variable (= 1 if tract bounds river; 0 otherwise) |\n",
    "|    NOX    |           nitric oxides concentration (parts per 10 million)          |\n",
    "|     RM    |                  average number of rooms per dwelling                 |\n",
    "|    AGE    |         proportion of owner-occupied units built prior to 1940        |\n",
    "|    DIS    |          weighted distances to five Boston employment centres         |\n",
    "|    RAD    |               index of accessibility to radial highways               |\n",
    "|    TAX    |                full-value property-tax rate per USD 10.000               |\n",
    "|  PTRATIO  |                      pupil-teacher ratio by town                      |\n",
    "|     B     |  1000(Bk - 0.63)^2 where Bk is the proportion of black people by town |\n",
    "|   LSTAT   |                     lower status of the population                    |\n",
    "|    MEDV   |            Median value of owner-occupied homes in USD 1000's            |"
   ]
  },
  {
   "cell_type": "markdown",
   "id": "b726c93a",
   "metadata": {},
   "source": [
    "1. Execute a célula abaixo para importar o conjunto de dados."
   ]
  },
  {
   "cell_type": "code",
   "execution_count": 37,
   "id": "b3bd8946",
   "metadata": {},
   "outputs": [],
   "source": [
    "# importing libraries.\n",
    "import numpy as np\n",
    "import matplotlib.pyplot as plt\n",
    "from sklearn.preprocessing import PolynomialFeatures\n",
    "from sklearn.linear_model import LinearRegression\n",
    "from sklearn.preprocessing import StandardScaler\n",
    "from sklearn.pipeline import Pipeline\n",
    "from sklearn.metrics import mean_squared_error\n",
    "from sklearn.model_selection import train_test_split\n",
    "from sklearn.model_selection import cross_val_score\n",
    "from sklearn.model_selection import KFold\n",
    "from sklearn.datasets import load_boston\n",
    "\n",
    "# Reset PN sequence generator.\n",
    "seed = 42\n",
    "np.random.seed(seed)\n",
    "\n",
    "# Load the dataset.\n",
    "dataset = load_boston()"
   ]
  },
  {
   "cell_type": "markdown",
   "id": "d9857c25",
   "metadata": {},
   "source": [
    "2. Na sequência, faremos uma análise exploratória simplificada dos dados para escolhermos quais são os melhores atributos para serem usados para a aproximação do preço médio dado pelo atributo **MEDV**. \n",
    "\n",
    "+ No trecho de código abaixo, para facilitar o processamento dos dados, transformamos a base de dados em um objeto do tipo `DataFrame` da biblioteca `pandas`, em seguida, criamos uma matriz de correlação que mede as relações lineares entre os atributos, incluindo o rótulo. A matriz de correlação é criada usando-se a função `corr` da biblioteca `pandas`. \n",
    "+ Usamos a função `heatmap` (mapa de calor) da biblioteca `seaborn` para plotar a matriz de correlação.\n",
    "+ A matriz de correlação vai nos ajudar a entender a relação do rótulo com os atributos.\n",
    "\n",
    "Execute o trecho de código abaixo e analise a matriz de correlação."
   ]
  },
  {
   "cell_type": "code",
   "execution_count": 38,
   "id": "2a7ca105",
   "metadata": {},
   "outputs": [
    {
     "data": {
      "text/plain": [
       "<AxesSubplot:>"
      ]
     },
     "execution_count": 38,
     "metadata": {},
     "output_type": "execute_result"
    },
    {
     "data": {
      "image/png": "[encoded data removed]",
      "text/plain": [
       "<Figure size 720x360 with 2 Axes>"
      ]
     },
     "metadata": {
      "needs_background": "light"
     },
     "output_type": "display_data"
    }
   ],
   "source": [
    "# Import the necessary libraries.\n",
    "import pandas as pd\n",
    "import seaborn as sns\n",
    "\n",
    "# Load the data into a pandas dataframe using pd.DataFrame.\n",
    "boston = pd.DataFrame(dataset.data, columns=dataset.feature_names)\n",
    "\n",
    "# Create a new column of target values and add it to the dataframe.\n",
    "boston['MEDV'] = dataset.target\n",
    "\n",
    "# Create a correlation matrix\n",
    "correlation_matrix = boston.corr().round(2)\n",
    "# Plot the correlation matrix.\n",
    "plt.figure(figsize=(10,5))\n",
    "# annot = True to print the values inside the square\n",
    "sns.heatmap(data=correlation_matrix, annot=True)"
   ]
  },
  {
   "cell_type": "markdown",
   "id": "b84b3216",
   "metadata": {},
   "source": [
    "3. Agora, baseado em nossa análise da matriz de correlação, iremos escolher **2** atributos que têm maior correlação com o objetivo, ou seja, o rótulo **MEDV**. Seguem algumas dicas de como essa escolha deve ser feita:\n",
    "\n",
    "+ Os coeficientes de correlação (ou seja, os valores mostrados na matriz de correlação) variam de -1 a 1. Se o valor for próximo a 1, significa que há uma forte correlação positiva entre as duas variáveis. Quando é próximo a -1, as variáveis apresentam forte correlação negativa.\n",
    "+ Cada coluna da matriz acima apresenta a correlação entre um atribito com ele mesmo e com todos os outros atributos.\n",
    "+ Para treinar um modelo de regressão linear, selecionamos os atributos que têm uma alta correlação (tanto positiva quanto negativa) com nossa variável-alvo **MEDV**. Portanto, observe a última coluna da matriz de correlação.\n",
    "\n",
    "Após observar os coeficientes de correlação da matriz, quais são os 2 atributos com maior correlação com o rótulo, **MEDV**."
   ]
  },
  {
   "cell_type": "markdown",
   "id": "4af63ceb",
   "metadata": {},
   "source": [
    "<span style=\"color:blue\">Digite aqui a resposta do exercício.</span>\n",
    "\n",
    "**Resposta**"
   ]
  },
  {
   "cell_type": "markdown",
   "id": "da9b2081",
   "metadata": {},
   "source": [
    "4. Agora iremos preparar os dados para treinar o modelo de regressão. Precisamos criar uma matriz de atributos, $X$, com os 2 atributos escolhidos e o vetor de rótulos, $y$, com os valores de **MEDV**.\n",
    "\n",
    "**DICAS**\n",
    "\n",
    "+ Para concatenar os colunas dos atributos escolhidos, usamos o operador `np.c_[]` fornecido pela biblioteca NumPy. Segue um exemplo de uso:\n",
    "```python\n",
    "N = 10\n",
    "x1 = np.random.rand(N,1) # vetor coluna com N linhas e 1 coluna\n",
    "x2 = np.random.rand(N,1) # vetor coluna com N linhas e 1 coluna\n",
    "X = np.c_[x1, x2]\n",
    "```\n",
    "+ A matriz de atributos, $X$, resultante deve ter 506 linhas por 2 coluna. O vetor de rótulos, $y$, deve ter uma única dimensão, com 506 valores. Imprima as dimensões dos dois vetores com o atributo `shape`.\n",
    "+ As colunas com os valores dos atributos escolhidos podem ser obtidas a partir do objeto `boston` (que é do tipo `DataFrame` da biblioteca `pandas`) da mesma forma que acessamos valores de um dicionário Python, ou seja, utilizamos a `chave`, que no caso é o nome do atributo, para obtermos a coluna de valores associados àquele atributo. A mesma coisa deve ser feita para o rótulo, o qual foi concatenado ao objeto `boston` para que conseguíssemos criar a matriz de correlação. Veja o exemplo abaixo que obtem a coluna de valores referentes ao rótulo `MEDV`:\n",
    "```python\n",
    "y = boston['MEDV']\n",
    "```\n",
    "\n",
    "Portanto, crie na célula abaixo a matriz de atributos `X` e o vetor de rótulos $y$. Não se esqueça de imprimir as dimensões da matriz e do vetor."
   ]
  },
  {
   "cell_type": "code",
   "execution_count": 4,
   "id": "7c9794af",
   "metadata": {},
   "outputs": [],
   "source": [
    "# Digite o código do exercício aqui."
   ]
  },
  {
   "cell_type": "markdown",
   "id": "daca09e5",
   "metadata": {},
   "source": [
    "5. Usando a estratégia de validação cruzada conhecida como **k-Fold**, encontre a ordem ideal para que uma função hipótese polinomial aproxime bem o conjunto de dados. Para avaliar qual é a ordem ideal para o polinômio aproximador, plote as curvas da média do erro quadrático médio (MSE) versus a ordem do polinômio e do desvio padrão versus a ordem do polinômio.\n",
    "\n",
    "**DICAS**\n",
    "\n",
    "+ Use o **k-Fold** com **k** igual a 5.\n",
    "+ Configure o parâmetro `shuffle` da classe `KFold` como `True`, ou seja, `shuffle=True`.\n",
    "+ Analise polinômios com ordens variando de 1 até 6, **inclusive**.\n",
    "+ Configure o parâmetro `include_bias` da classe `PolynomialFeatures` para `True`, ou seja, `include_bias=True`.\n",
    "+ Use a classe `StandardScaler` para normalizar os dados.\n",
    "+ Plote gráficos com a média e o desvio padrão do erro quadrático médio (MSE) em função do grau do polinômio.\n",
    "+ Use escala logarítmica para plotar os gráficos. Isso pode ser feito usando-se a função `yscale` da biblioteca matplotlib:\n",
    "```python\n",
    "plt.yscale('log')\n",
    "```\n",
    "+ Para resolver este item, se baseie no seguinte exemplo: [validacao_cruzada.ipynb](https://colab.research.google.com/github/zz4fap/t319_aprendizado_de_maquina/blob/main/notebooks/regression/validacao_cruzada.ipynb).\n",
    "+ **Atenção, não basta apenas copiar o código do exemplo dado, você precisa alterá-lo.**"
   ]
  },
  {
   "cell_type": "code",
   "execution_count": 5,
   "id": "56e3d6b1",
   "metadata": {},
   "outputs": [],
   "source": [
    "# Digite o código do exercício aqui."
   ]
  },
  {
   "cell_type": "markdown",
   "id": "75529674",
   "metadata": {},
   "source": [
    "6. Após analisar os resultados obtidos com a estratégia de validação cruzada do **k-Fold**, reponda qual é a melhor ordem de polinômio para aproximar os dados. **Justifique sua resposta.**\n",
    "\n",
    "**DICAS**\n",
    "\n",
    "* Lembre-se do princípio da navalha de Occam para escolher a melhor ordem.\n",
    "* Comente sobre a flexibilidade e grau de generalização do modelo escolhido."
   ]
  },
  {
   "cell_type": "markdown",
   "id": "0fdc336e",
   "metadata": {},
   "source": [
    "<span style=\"color:blue\">Digite aqui a resposta do exercício.</span>\n",
    "\n",
    "**Resposta**"
   ]
  },
  {
   "cell_type": "markdown",
   "id": "fc887899",
   "metadata": {},
   "source": [
    "7. Em seguida, de posse da melhor ordem de polinômio que aproxima os dados observados, faça:\n",
    "\n",
    "+ Treine um modelo de regressão polinomial com a ordem escolhida, \n",
    "+ Realize predições (ou seja, use o modelo treinado para **predizer** os valores de $y$ com os valores de $X$.) com todos os dados observados, ou seja, $X$.\n",
    "+ Imprima o erro quadrático médio, **MSE**, entre a predição e os valores esperados, ou seja, o vetor $y$.\n",
    "\n",
    "**DICAS:**\n",
    "\n",
    "* Utilize **padronização de atributos** com a classe `StandardScaler` da biblioteca SciKit-Learn.\n",
    "* Crie uma sequência de ações (`PolynomialFeatures`, `StandardScaler` e `LinearRegression`) utilizando a classe `Pipeline` da biblioteca SciKit-Learn para realizar a regressão.\n",
    "+ Configure o parâmetro `include_bias` da classe `PolynomialFeatures` para `True`, ou seja, `include_bias=True`.\n",
    "+ Para calcular o erro quadrático médio, **MSE**, entre a predição e os valores esperados use a função `mean_squared_error` do módulo `sklearn.metrics`. Note que ela já foi importada, então, apenas a invoque.\n",
    "+ Para resolver este item, se baseie no seguinte exemplo: [validacao_cruzada.ipynb](https://colab.research.google.com/github/zz4fap/t319_aprendizado_de_maquina/blob/main/notebooks/regression/validacao_cruzada.ipynb).\n",
    "+ **Atenção, não basta apenas copiar o código do exemplo dado, você precisa alterá-lo.**"
   ]
  },
  {
   "cell_type": "code",
   "execution_count": 6,
   "id": "a6f8b003",
   "metadata": {},
   "outputs": [],
   "source": [
    "# Digite o código do exercício aqui."
   ]
  },
  {
   "cell_type": "markdown",
   "id": "5dd5118c",
   "metadata": {},
   "source": [
    "8. E se acrescentássemos um terceiro atributo à matriz de atributos $X$, o erro quadrático médio seria menor?\n",
    "\n",
    "**DICAS**\n",
    "\n",
    "+ Volte ao item onde plotamos a matriz de correlação e encontre um terceiro atributo que possui um coeficiente de correlação (positivo ou negativo) alto.\n",
    "+ A matriz de atributos, $X$, resultante deve ter 506 linhas por 3 colunas. O vetor de rótulos, $y$, deve ter uma única dimensão, com 506 valores. Imprima as dimensões dos dois vetores com o atributo `shape`.\n",
    "\n",
    "Portanto, crie na célula abaixo a nova matriz de atributos $X$ e o vetor de rótulos $y$. Não se esqueça de imprimir as dimensões da matriz de atributos e do vetor de rótulos."
   ]
  },
  {
   "cell_type": "code",
   "execution_count": 7,
   "id": "fc3192ae",
   "metadata": {},
   "outputs": [],
   "source": [
    "# Digite o código do exercício aqui."
   ]
  },
  {
   "cell_type": "markdown",
   "id": "c9a7db99",
   "metadata": {},
   "source": [
    "9. Usando a estratégia de validação cruzada conhecida como **k-Fold**, encontre a ordem ideal para que uma função hipótese polinomial aproxime bem o conjunto de dados. Para avaliar qual é a ordem ideal para o polinômio aproximador, plote as curvas da média do erro quadrático médio (MSE) versus a ordem do polinômio e do desvio padrão versus a ordem do polinômio.\n",
    "\n",
    "**DICAS**\n",
    "\n",
    "+ Use o **k-Fold** com **k** igual a 5.\n",
    "+ Configure o parâmetro `shuffle` da classe `KFold` como `True`, ou seja, `shuffle=True`.\n",
    "+ Analise polinômios com ordens variando de 1 até 6, **inclusive**.\n",
    "+ Configure o parâmetro `include_bias` da classe `PolynomialFeatures` para `True`, ou seja, `include_bias=True`.\n",
    "+ Use a classe `StandardScaler` para normalizar os dados.\n",
    "+ Plote gráficos com a média e o desvio padrão do erro quadrático médio (MSE) em função do grau do polinômio.\n",
    "+ Use escala logarítmica para plotar os gráficos. Isso pode ser feito usando-se a função `yscale` da biblioteca matplotlib:\n",
    "```python\n",
    "plt.yscale('log')\n",
    "```\n",
    "+ Para resolver este item, se baseie no seguinte exemplo: [validacao_cruzada.ipynb](https://colab.research.google.com/github/zz4fap/t319_aprendizado_de_maquina/blob/main/notebooks/regression/validacao_cruzada.ipynb).\n",
    "+ **Atenção, não basta apenas copiar o código do exemplo dado, você precisa alterá-lo.**"
   ]
  },
  {
   "cell_type": "code",
   "execution_count": 8,
   "id": "b309d6c6",
   "metadata": {},
   "outputs": [],
   "source": [
    "# Digite o código do exercício aqui."
   ]
  },
  {
   "cell_type": "markdown",
   "id": "40a5c63d",
   "metadata": {},
   "source": [
    "10. Em seguida, de posse da melhor ordem de polinômio que aproxima os dados observados, faça:\n",
    "\n",
    "+ Treine um modelo de regressão polinomial com a ordem escolhida, \n",
    "+ Realize predições (ou seja, use o modelo treinado para **predizer** os valores de $y$ com os valores de $X$.) com todos os dados observados, ou seja, $X$.\n",
    "+ Imprima o erro quadrático médio, **MSE**, entre a predição e os valores esperados, ou seja, o vetor $y$.\n",
    "\n",
    "**DICAS:**\n",
    "\n",
    "* Utilize **padronização de atributos** com a classe `StandardScaler` da biblioteca SciKit-Learn.\n",
    "* Crie uma sequência de ações (`PolynomialFeatures`, `StandardScaler` e `LinearRegression`) utilizando a classe `Pipeline` da biblioteca SciKit-Learn para realizar a regressão.\n",
    "+ Configure o parâmetro `include_bias` da classe `PolynomialFeatures` para `True`, ou seja, `include_bias=True`.\n",
    "+ Para calcular o erro quadrático médio, **MSE**, entre a predição e os valores esperados use a função `mean_squared_error` do módulo `sklearn.metrics`. Note que ela já foi importada, então, apenas a invoque.\n",
    "+ Para resolver este item, se baseie no seguinte exemplo: [validacao_cruzada.ipynb](https://colab.research.google.com/github/zz4fap/t319_aprendizado_de_maquina/blob/main/notebooks/regression/validacao_cruzada.ipynb).\n",
    "+ **Atenção, não basta apenas copiar o código do exemplo dado, você precisa alterá-lo.**"
   ]
  },
  {
   "cell_type": "code",
   "execution_count": 9,
   "id": "6b4fd598",
   "metadata": {},
   "outputs": [],
   "source": [
    "# Digite o código do exercício aqui."
   ]
  },
  {
   "cell_type": "markdown",
   "id": "11b7f0ca",
   "metadata": {},
   "source": [
    "11. O erro do modelo que utiliza 3 atributos é menor do que o do modelo utilizando 2 atributos? Se continuarmos aumentando o número de atributos, o erro será menor? (**Justifique suas respostas.**)\n",
    "\n",
    "**DICAS**\n",
    "\n",
    "+ Para responder à segunda pergunta, pense na quantidade de informação que é incorporada ao modelo quando se aumenta o número de atributos."
   ]
  },
  {
   "cell_type": "markdown",
   "id": "662408b5",
   "metadata": {},
   "source": [
    "<span style=\"color:blue\">Digite aqui a resposta do exercício.</span>\n",
    "\n",
    "**Resposta**"
   ]
  },
  {
   "cell_type": "markdown",
   "id": "a3201363",
   "metadata": {},
   "source": [
    "### 4) Comparando o desempenho de modelos de regressão.\n",
    "\n",
    "Nesse exercício, você fará o treinamento de três modelos de regressão e, ao final, comparará seus desempenhos.\n",
    "\n",
    "1. Execute a célula abaixo para importar as bibliotecas, funções e classes necessárias, além de gerar o conjunto de dados."
   ]
  },
  {
   "cell_type": "code",
   "execution_count": 5,
   "id": "5ae3a2d8",
   "metadata": {},
   "outputs": [
    {
     "data": {
      "image/png": "[encoded data removed]",
      "text/plain": [
       "<Figure size 432x288 with 1 Axes>"
      ]
     },
     "metadata": {
      "needs_background": "light"
     },
     "output_type": "display_data"
    }
   ],
   "source": [
    "import numpy as np\n",
    "import pandas as pd\n",
    "import matplotlib.pyplot as plt\n",
    "from sklearn.model_selection import train_test_split\n",
    "from sklearn.metrics import mean_squared_error\n",
    "from sklearn.linear_model import LinearRegression, Lasso\n",
    "from sklearn.linear_model import LassoCV\n",
    "from sklearn.metrics import mean_squared_error\n",
    "from sklearn.preprocessing import PolynomialFeatures, StandardScaler\n",
    "from sklearn.pipeline import Pipeline\n",
    "\n",
    "# Reset PN sequence generator.\n",
    "seed = 42\n",
    "np.random.seed(seed)\n",
    "\n",
    "# Números de amostras.\n",
    "N = 50\n",
    "\n",
    "# Dados.\n",
    "x = np.linspace(-0.5, 0.5, N).reshape(N, 1)\n",
    "w = 0.1*np.random.rand(N, 1) - 0.05\n",
    "y = 2*x**9 - 4*x**7 + 3.2*x**3\n",
    "y_noisy = y + w\n",
    "\n",
    "# Visualização dos dados\n",
    "plt.plot(x.ravel(), y.ravel(), label='Função original')\n",
    "plt.plot(x.ravel(), y_noisy.ravel(), 'x', label='Função ruidosa')\n",
    "plt.xlabel('x', fontsize=14) \n",
    "plt.ylabel('y', fontsize=14)\n",
    "plt.title('Dados', fontsize=14)\n",
    "plt.grid()\n",
    "plt.legend()\n",
    "plt.show()"
   ]
  },
  {
   "cell_type": "markdown",
   "id": "d68397c1",
   "metadata": {},
   "source": [
    "2. Após analisar o gráfico do item anterior, responda: Uma reta teria capacidade/flexibilidade suficiente para gerar um modelo que se aproxime bem dos dados originais? Se sim, justifique. Caso sua resposta seja não, apresente uma possível alternativa para se obter um modelo que se aproxime bem dos dados originais."
   ]
  },
  {
   "cell_type": "markdown",
   "id": "2c70e057",
   "metadata": {},
   "source": [
    "<span style=\"color:blue\">Digite aqui a resposta do exercício.</span>\n",
    "\n",
    "**Resposta**"
   ]
  },
  {
   "cell_type": "markdown",
   "id": "d9ff1e06",
   "metadata": {},
   "source": [
    "3. Sabe-se que o modelo ideal para esses dados é obtido por meio da regressão linear com polinômio de ordem igual a 9 (veja código do item 1). Suponha que você não saiba desta informação e que você tenha escolhido um polinômio de ordem igual a 50 (perceba que é mesmo número de amostras geradas no item 1) para treinar o modelo. Qual problema você encontraria? Seu modelo iria sobreajustar ou subajustar? Como esse problema poderia ser mitigado? (**Justifique todas as respostas.**)"
   ]
  },
  {
   "cell_type": "markdown",
   "id": "d48d362b",
   "metadata": {},
   "source": [
    "<span style=\"color:blue\">Digite aqui a resposta do exercício.</span>\n",
    "\n",
    "**Resposta**"
   ]
  },
  {
   "cell_type": "markdown",
   "id": "5c6c31c2",
   "metadata": {},
   "source": [
    "4. Neste e nos próximos dois itens, você irá treinar um total de três modelos diferentes. Treine um primeiro modelo de regressão polinomial com ordem igual a 9, calcule e imprima o erro quadrático médio e plote um gráfico comparando as funções original, ruidosa e aproximada:\n",
    " - Inclua o termo de bias ao instanciar a classe `PolynomialFeatures` utilizando o parâmetro `include_bias=True`.\n",
    " - Padronize os dados com o uso da classe `StandardScaler`.\n",
    " - Use um objeto da classe `LinearRegression` para encontrar os pesos do polinômio aproximador. \n",
    " - Como sempre, use um **pipeline** para sequencializar a aplicação das ações. Use um objeto da classe `Pipeline`.\n",
    " - Imprima o erro quadrático médio. O erro deve ser calculado com o **conjunto total de amostras**.\n",
    " - Ao final, plote uma figura que compare as funções original, ruidosa e aproximada.\n",
    " - Observe que o modelo treinado se aproxima bastante da função original.\n",
    "\n",
    "\n",
    "**DICAS**\n",
    "\n",
    "+ Para resolver este item, se baseie na **última célula de código** do seguinte exemplo: [validacao_cruzada.ipynb](https://colab.research.google.com/github/zz4fap/t319_aprendizado_de_maquina/blob/main/notebooks/regression/validacao_cruzada.ipynb).\n",
    "+ **Atenção, não basta apenas copiar o código do exemplo dado, você precisa alterá-lo.**"
   ]
  },
  {
   "cell_type": "code",
   "execution_count": 2,
   "id": "096f692d",
   "metadata": {},
   "outputs": [],
   "source": [
    "# Digite o código do exercício aqui. (Modelo 1)."
   ]
  },
  {
   "cell_type": "markdown",
   "id": "b9d7a56e",
   "metadata": {},
   "source": [
    "5. Treine um segundo modelo de regressão polinomial com ordem igual a 50, calcule e imprima o erro quadrático médio e plote um gráfico comparando as funções original, ruidosa e aproximada:\n",
    " - Inclua o termo de bias ao instanciar a classe `PolynomialFeatures` utilizando o parâmetro `include_bias=True`.\n",
    " - Padronize os dados com o uso da classe `StandardScaler`.\n",
    " - Use um objeto da classe `LinearRegression` para encontrar os pesos do polinômio aproximador. \n",
    " - Como sempre, use um **pipeline** para sequencializar a aplicação das ações. Use um objeto da classe `Pipeline`.\n",
    " - Imprima o erro quadrático médio. O erro deve ser calculado com o **conjunto total de amostras**.\n",
    " - Ao final, plote uma figura que compare as funções original, ruidosa e aproximada.\n",
    " - Verifique que está ocorrendo o fenômeno mencionado por você no item C deste exercício.\n",
    " \n",
    "**DICAS**\n",
    "\n",
    "+ Para resolver este item, se baseie na **última célula de código** do seguinte exemplo: [validacao_cruzada.ipynb](https://colab.research.google.com/github/zz4fap/t319_aprendizado_de_maquina/blob/main/notebooks/regression/validacao_cruzada.ipynb).\n",
    "+ **Atenção, não basta apenas copiar o código do exemplo dado, você precisa alterá-lo.**"
   ]
  },
  {
   "cell_type": "code",
   "execution_count": 11,
   "id": "2640a867",
   "metadata": {},
   "outputs": [],
   "source": [
    "# Digite o código do exercício aqui. (Modelo 2)."
   ]
  },
  {
   "cell_type": "markdown",
   "id": "4e8ac353",
   "metadata": {},
   "source": [
    "6. Por que o erro quadrático médio (MSE) do modelo com ordem igual a 50 é menor do que o erro do modelo com ordem igual a 9? (**Justifique a sua resposta.**)"
   ]
  },
  {
   "cell_type": "markdown",
   "id": "e9c64b20",
   "metadata": {},
   "source": [
    "<span style=\"color:blue\">Digite aqui a resposta do exercício.</span>\n",
    "\n",
    "**Resposta**"
   ]
  },
  {
   "cell_type": "markdown",
   "id": "1273a3bb",
   "metadata": {},
   "source": [
    "7. Encontre o valor ótimo do **fator de regularização**, $\\lambda$, para um **modelo de regressão polinomial com regularização L1**, ou seja, **regressão LASSO**, com ordem igual a 50. Ao final, imprima o valor ótimo encontrado para o **fator de regularização**, $\\lambda$.\n",
    "\n",
    "**DICAS**\n",
    "\n",
    "+ Você precisará encontrar o valor ótimo do **fator de regularização**, $\\lambda$. Para isso, use um objeto da classe `LassoCV` passando para o parâmetro de entrada `alphas` (que aqui é o fator de regularização) um sequência de 10000 valores retirados de um intervalo linear entre 0.0001 e 0.001. O exemplo abaixo mostra como gerar os 10000 valores dentro do intervalo pedido:\n",
    "```python\n",
    "M = 10000\n",
    "np.linspace(0.0001, 0.001, M)\n",
    "```\n",
    "+ Para mais informações sobre a classe `LassoCV`, acesse sua documentação através do seguinte link: [Documentação LassoCV](https://scikit-learn.org/stable/modules/generated/sklearn.linear_model.LassoCV.html).\n",
    "+ Inclua o atributo de bias ao instanciar a classe `PolynomialFeatures` utilizando o parâmetro `include_bias=True`.\n",
    "+ Padronize os dados com o uso da classe `StandardScaler`.\n",
    "+ Como sempre, use um pipeline para sequencializar a aplicação das ações. Use um objeto da classe `Pipeline`.\n",
    "+ Após o treinamento do objeto da classe `LassoCV`, o valor ótimo do **fator de regularização** pode ser acessado como mostrado abaixo. No exemplo abaixo, o objeto da classe `Pipeline` se chama `clf` e o nome dado ao objeto da classe `LassoCV` é `reg`.\n",
    "```python\n",
    "clf['reg'].alpha_\n",
    "```\n",
    "+ Para resolver este item, se baseie no seguinte exemplo: [lasso_regression.ipynb](https://colab.research.google.com/github/zz4fap/t319_aprendizado_de_maquina/blob/main/notebooks/regression/lasso_regression.ipynb).\n",
    "+ **Atenção, não basta apenas copiar o código do exemplo dado, você precisa alterá-lo.**"
   ]
  },
  {
   "cell_type": "code",
   "execution_count": 12,
   "id": "6fccc733",
   "metadata": {},
   "outputs": [],
   "source": [
    "# Digite o código do exercício aqui."
   ]
  },
  {
   "cell_type": "markdown",
   "id": "de3bdc14",
   "metadata": {},
   "source": [
    "8. De posse do valor ótimo do **fator de regularização**, treine um terceiro modelo de regressão polinomial com ordem igual a 50 e:\n",
    "\n",
    " - Utilize regularização L1 (use a classe `Lasso`) para aproximar o modelo 1.\n",
    " - Instancie um objeto da classe `Lasso` com o valor ótimo do **fator de regularização** encontrado no item anterior.\n",
    " - Inclua o atributo de bias ao instanciar a classe `PolynomialFeatures` utilizando o parâmetro `include_bias=True`.\n",
    " - Padronize os dados com o uso da classe `StandardScaler`.\n",
    " - Como sempre, use um pipeline para sequencializar a aplicação das ações. Use um objeto da classe `Pipeline`.\n",
    " - Imprima o erro quadrático médio. O erro deve ser calculado com o conjunto total de amostras.\n",
    " - Ao final, plote uma figura que compare as funções original, ruidosa e aproximada.\n",
    " - Analise o resultado mostrado na figura.\n",
    " \n",
    "**DICAS**\n",
    "\n",
    "+ Para resolver este item, se baseie na **penúltima célula de código** do seguinte exemplo: [lasso_regression.ipynb](https://colab.research.google.com/github/zz4fap/t319_aprendizado_de_maquina/blob/main/notebooks/regression/lasso_regression.ipynb).\n",
    "+ **Atenção, não basta apenas copiar o código do exemplo dado, você precisa alterá-lo.**"
   ]
  },
  {
   "cell_type": "code",
   "execution_count": 13,
   "id": "e66b0a38",
   "metadata": {},
   "outputs": [],
   "source": [
    "# Digite o código do exercício aqui. (Modelo 3)."
   ]
  },
  {
   "cell_type": "markdown",
   "id": "36b4d8a0",
   "metadata": {},
   "source": [
    "9. Após o treinamento do regressor LASSO do item anterior, imprima os pesos associados aos atributos.\n",
    "\n",
    "**DICAS**\n",
    "\n",
    "+ Os pesos associados aos atributos podem ser acessados como mostrado abaixo. No exemplo abaixo, o objeto da classe `Pipeline` se chama `clf` e o nome dado ao objeto da classe `Lasso` é `reg`.\n",
    "```python\n",
    "clf['reg'].coef_\n",
    "```\n",
    "\n",
    "**DICAS**\n",
    "\n",
    "+ Para resolver este item, se baseie na **última célula de código** do seguinte exemplo: [lasso_regression.ipynb](https://colab.research.google.com/github/zz4fap/t319_aprendizado_de_maquina/blob/main/notebooks/regression/lasso_regression.ipynb).\n",
    "+ **Atenção, não basta apenas copiar o código do exemplo dado, você precisa alterá-lo.**"
   ]
  },
  {
   "cell_type": "code",
   "execution_count": 14,
   "id": "e682b9d3",
   "metadata": {},
   "outputs": [],
   "source": [
    "# Digite o código do exercício aqui."
   ]
  },
  {
   "cell_type": "markdown",
   "id": "d5cabc10",
   "metadata": {},
   "source": [
    "10. De posse do resultado do item anterior, responda as seguintes perguntas:\n",
    "\n",
    "+ Quantos pesos são diferentes de zero?\n",
    "+ O que aconteceu aqui para que vários dos pesos tenham se tornando iguais a zeros?\n",
    "+ O que indica um peso ter seu valor igual a zero?\n",
    "+ Seria possível usarmos um modelo apenas com os pesos diferentes de zero mostrados no item anterior? (**Justifique sua resposta.**)\n",
    "+ Qual vantagem esse novo modelo teria sobre o modelo com todos os pesos, ou seja, o modelo que inclui também os pesos iguais a zero? (**Justifique sua resposta.**)\n",
    "\n",
    "**DICAS**\n",
    "\n",
    "+ Para responder as perguntas, leia o material sobre regularização: [Regressão Linear (Parte VI)](https://github.com/zz4fap/t319_aprendizado_de_maquina/blob/main/slides/T319_Regress%C3%A3o_Linear%20(Parte%20VI)(slides).pdf)."
   ]
  },
  {
   "cell_type": "markdown",
   "id": "eee4b98a",
   "metadata": {},
   "source": [
    "<span style=\"color:blue\">Digite aqui a resposta do exercício.</span>\n",
    "\n",
    "**Resposta**"
   ]
  },
  {
   "cell_type": "markdown",
   "id": "6d2cba42",
   "metadata": {},
   "source": [
    "11. Plote as funções original, ruidosa e as aproximações obtidas com os modelos 1, 2 e 3.\n",
    "\n",
    "**DICAS**\n",
    "\n",
    "+ Use cores diferentes para cada função.\n",
    "+ Você vai precisar adicionar chamadas para a função `plot` da biblioteca Matplotlib para cada uma das predições feitas com os três modelos.\n",
    "+ Para resolver este item, se baseie na **penúltima célula de código** do seguinte exemplo: [lasso_regression.ipynb](https://colab.research.google.com/github/zz4fap/t319_aprendizado_de_maquina/blob/main/notebooks/regression/lasso_regression.ipynb).\n",
    "+ **Atenção, não basta apenas copiar o código do exemplo dado, você precisa alterá-lo.**"
   ]
  },
  {
   "cell_type": "code",
   "execution_count": 3,
   "id": "78b4f206",
   "metadata": {},
   "outputs": [],
   "source": [
    "# Digite o código do exercício aqui. "
   ]
  },
  {
   "cell_type": "markdown",
   "id": "18f98b6b",
   "metadata": {},
   "source": [
    "12. Após analisar a figura do item anterior, responda:\n",
    "\n",
    "+ O modelo 3 (modelo utilizando regressão LASSO) se aproximou do modelo ideal (modelo com a mesma complexidade da função original), ou seja, do modelo 1? (Justifique sua resposta).\n",
    "+ O que você pode concluir a respeito do uso da regularização para modelos com ordem desconhecida?\n",
    "\n",
    "**DICAS**\n",
    "\n",
    "+ Para responder as perguntas, leia o material sobre regularização: [Regressão Linear (Parte VI)](https://github.com/zz4fap/t319_aprendizado_de_maquina/blob/main/slides/T319_Regress%C3%A3o_Linear%20(Parte%20VI)(slides).pdf)."
   ]
  },
  {
   "cell_type": "markdown",
   "id": "ec1d0deb",
   "metadata": {},
   "source": [
    "<span style=\"color:blue\">Digite aqui a resposta do exercício.</span>\n",
    "\n",
    "**Resposta**"
   ]
  }
 ],
 "metadata": {
  "kernelspec": {
   "display_name": "Python 3 (ipykernel)",
   "language": "python",
   "name": "python3"
  },
  "language_info": {
   "codemirror_mode": {
    "name": "ipython",
    "version": 3
   },
   "file_extension": ".py",
   "mimetype": "text/x-python",
   "name": "python",
   "nbconvert_exporter": "python",
   "pygments_lexer": "ipython3",
   "version": "3.9.7"
  }
 },
 "nbformat": 4,
 "nbformat_minor": 5
}
