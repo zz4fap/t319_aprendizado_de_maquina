{
 "cells": [
  {
   "cell_type": "markdown",
   "id": "da867ff1",
   "metadata": {
    "id": "da867ff1"
   },
   "source": [
    "# Projeto Final - T319 (1S2025)\n",
    "\n",
    "### Instruções\n",
    "\n",
    "1. Quando você terminar os exercícios do projeto, vá até o menu do Colab ou Jupyter e selecione a opção para fazer download do notebook.\n",
    "    * Os notebooks tem extensão .ipynb.\n",
    "    * Este deve ser o arquivo que você irá entregar.\n",
    "    * No Colab vá até a opção **File** -> **Download .ipynb**.\n",
    "    * No Jupyter vá até a opção **File** -> **Download as** -> **Notebook (.ipynb)**.\n",
    "2. Após o download do notebook, vá até a aba de tarefas do MS Teams, localize a tarefa referente a este projeto e faça o upload do seu notebook. Veja que há uma opção para anexar arquivos à tarefa.\n",
    "3. Atente-se ao prazo de entrega definido na tarefa do MS Teams. Entregas fora do prazo não serão consideradas.\n",
    "4. **O projeto pode ser resolvido em grupos de no MÁXIMO 3 alunos**.\n",
    "5. Todas as questões têm o mesmo peso.\n",
    "6. Questões copiadas de outros grupos serão anuladas em todos os grupos com a mesma resposta.\n",
    "7. Não se esqueça de colocar seu(s) nome(s) e número(s) de matrícula no campo abaixo. Coloque os nomes dos integrantes do grupo no campo de texto abaixo.\n",
    "8. Você pode consultar todo o material de aula e laboratórios.\n",
    "9. A interpretação faz parte do projeto. Leia o enunciado de cada questão atentamente!\n",
    "10. Boa sorte!"
   ]
  },
  {
   "cell_type": "markdown",
   "id": "0587a29e",
   "metadata": {
    "id": "0587a29e"
   },
   "source": [
    "**Nomes e matrículas**:\n",
    "\n",
    "1. Nome do primeiro aluno - Matrícula do primeiro aluno\n",
    "2. Nome do segundo aluno - Matrícula do segundo aluno\n",
    "3. Nome do terceiro aluno - Matrícula do terceiro aluno"
   ]
  },
  {
   "cell_type": "markdown",
   "id": "972fea32",
   "metadata": {
    "id": "972fea32"
   },
   "source": [
    "## Exercícios"
   ]
  },
  {
   "cell_type": "markdown",
   "id": "ksgLxcaup0Bu",
   "metadata": {
    "id": "ksgLxcaup0Bu"
   },
   "source": [
    "### 1) Previsão do Desempenho de Hardware de Computadores\n",
    "\n",
    "O conjunto de dados Computer Hardware contém informações sobre características técnicas de computadores de diferentes fabricantes, com o objetivo de estimar seu desempenho medido pelo ERP (Estimated Relative Performance). Sua tarefa será desenvolver um modelo de regressão para prever o ERP com base nas características técnicas dos sistemas. A tabela abaixo aprenta os atributos e o rótulo.\n",
    "\n",
    "\n",
    "| Nome do Atributo | Descrição                                 | Tipo        | Unidade/Faixa                   |\n",
    "|-------------------|-------------------------------------------|-------------|---------------------------------|\n",
    "| **vendor**        | Fabricante do computador                  | Categórico  | Strings, 30 valores (ex: IBM, HP, Siemens) |\n",
    "| **model** | Modelo | Categórico | Strings com os nomes dos modelos |\n",
    "| **MYCT**          | Tempo do ciclo da máquina (Machine Cycle Time) | Numérico    | Nanossegundos (ns)             |\n",
    "| **MMIN**          | Memória principal mínima                  | Numérico    | Kilobytes (KB)                 |\n",
    "| **MMAX**          | Memória principal máxima                  | Numérico    | Kilobytes (KB)                 |\n",
    "| **CACH**          | Memória cache                             | Numérico    | Kilobytes (KB)                 |\n",
    "| **CHMIN**         | Número mínimo de canais de I/O            | Numérico    | Unidades                        |\n",
    "| **CHMAX**         | Número máximo de canais de I/O            | Numérico    | Unidades                        |\n",
    "| **PRP**           | *Published Relative Performance* (desempenho relativo publicado) | Numérico | Escala adimensional           |\n",
    "| **ERP**           | **Rótulo (Target):** *Estimated Relative Performance* (desempenho relativo estimado) | Numérico | Escala adimensional |\n"
   ]
  },
  {
   "cell_type": "markdown",
   "id": "voRP61tJEuuG",
   "metadata": {
    "id": "voRP61tJEuuG"
   },
   "source": [
    "1. Execute a célula de código abaixo para baixar e criar a base de dados."
   ]
  },
  {
   "cell_type": "code",
   "execution_count": null,
   "id": "2DpjRZHsp0QX",
   "metadata": {
    "colab": {
     "base_uri": "https://localhost:8080/"
    },
    "id": "2DpjRZHsp0QX",
    "outputId": "abe5184e-f70d-41c2-c91b-93a2925cb32d"
   },
   "outputs": [],
   "source": [
    "# Importando bibliotecas necessárias\n",
    "import numpy as np\n",
    "import pandas as pd\n",
    "import matplotlib.pyplot as plt\n",
    "import seaborn as sns\n",
    "from pandas import DataFrame\n",
    "from sklearn.model_selection import train_test_split\n",
    "from sklearn.preprocessing import StandardScaler, MinMaxScaler\n",
    "from sklearn.linear_model import LinearRegression\n",
    "from sklearn.metrics import mean_squared_error\n",
    "from sklearn.preprocessing import PolynomialFeatures\n",
    "from sklearn.pipeline import Pipeline\n",
    "from sklearn.model_selection import KFold\n",
    "from sklearn.model_selection import cross_val_score\n",
    "\n",
    "# Carregamento dos Dados\n",
    "url = \"https://archive.ics.uci.edu/ml/machine-learning-databases/cpu-performance/machine.data\"\n",
    "columns = ['vendor', 'model', 'MYCT', 'MMIN', 'MMAX', 'CACH', 'CHMIN', 'CHMAX', 'PRP', 'ERP']\n",
    "df = pd.read_csv(url, header=None, names=columns)\n",
    "\n",
    "# Imprime as 5 primeiras linhas da base de dados.\n",
    "print(df.head())\n",
    "\n",
    "# Criando a matriz de atributos, removendo as colunas vendor e model, pois são strings, e as colunas PRP e ERP, pois são os possíveis rótulos. Entretanto, usaremos apenas a coluna ERP como rótulo.\n",
    "X = df.drop([\"vendor\", \"model\", \"PRP\", \"ERP\"], axis=1)\n",
    "# Criando o vetor de rótulos.\n",
    "y = df.ERP"
   ]
  },
  {
   "cell_type": "markdown",
   "id": "fqNE1wPMFykR",
   "metadata": {
    "id": "fqNE1wPMFykR"
   },
   "source": [
    "2. Divida o conjunto de dados em 80% para validação e 20% para teste."
   ]
  },
  {
   "cell_type": "code",
   "execution_count": null,
   "id": "Ts-4LJ1iFy6l",
   "metadata": {
    "id": "Ts-4LJ1iFy6l"
   },
   "outputs": [],
   "source": [
    "# Digite o código do item aqui."
   ]
  },
  {
   "cell_type": "markdown",
   "id": "SH8O4_gIoazu",
   "metadata": {
    "id": "SH8O4_gIoazu"
   },
   "source": [
    "3. Padronize os conjuntos de treinamento e teste.\n",
    "\n",
    "**DICAS**\n",
    "+ Use a classe `StandardScaler`.\n",
    "+ Não se esqueça que os parâmetros de padronização devem ser calculados com o conjunto de treinamento e aplicados aos conjuntos de treinamento e teste."
   ]
  },
  {
   "cell_type": "code",
   "execution_count": null,
   "id": "A64-c_21obGT",
   "metadata": {
    "id": "A64-c_21obGT"
   },
   "outputs": [],
   "source": [
    "# Digite o código do item aqui."
   ]
  },
  {
   "cell_type": "markdown",
   "id": "CF_HvghZGWWJ",
   "metadata": {
    "id": "CF_HvghZGWWJ"
   },
   "source": [
    "4. Treine um regressor linear com o conjunto de treinamento e calcule o erro quadrático médio com o conjunto de teste. Imprima o valor do erro.\n",
    "\n",
    "**DICAS**\n",
    "+ Use a classe `LinearRegression`.\n",
    "+ Você pode usar a função `mean_squared_error` para calcular o erro."
   ]
  },
  {
   "cell_type": "code",
   "execution_count": null,
   "id": "eO2jOFA5GWjt",
   "metadata": {
    "colab": {
     "base_uri": "https://localhost:8080/"
    },
    "id": "eO2jOFA5GWjt",
    "outputId": "e756be34-e069-44ae-81dd-761a9f08b30c"
   },
   "outputs": [],
   "source": [
    "# Digite o código do item aqui."
   ]
  },
  {
   "cell_type": "markdown",
   "id": "mpWCXpwfTRLR",
   "metadata": {
    "id": "mpWCXpwfTRLR"
   },
   "source": [
    "5. Neste item, verificaremos se um regressor polinomial consegue apresentar um desempenho melhor, ou seja, apresentar um erro menor.\n",
    "\n",
    "Portanto, usando a estratégia de validação cruzada **k-Fold**, encontre a ordem ideal para que uma função hipótese polinomial aproxime bem o conjunto de dados. Para avaliar qual é a ordem ideal para o polinômio aproximador, plote gráficos com a média e o desvio padrão do erro quadrático médio (EQM) em função dos graus de polinômio considerados. Para isso:\n",
    "\n",
    "   1. Use o **k-Fold** com **k** igual a 5.\n",
    "   2. Configure o parâmetro `shuffle` da classe `KFold` como `True`, ou seja, `shuffle=True`.\n",
    "   3. Faça a análise de polinômios de ordem 1 até 7, **inclusive**.\n",
    "   4. Desabilite a inclusão da coluna do atributo de bias ao instanciar a classe `PolynomialFeatures` utilizando o parâmetro `include_bias=False`.\n",
    "   5. Use a classe `StandardScaler` para padronizar os atributos.\n",
    "   6. Use todo o conjunto de dados, ou seja, `X` e `y`, para realizar a validação cruzada.\n",
    "\n",
    "**DICAS**\n",
    "\n",
    "+ Crie um pipeline de ações com objetos das classes `PolynomialFeatures`, `StandardScaler` e `LinearRegression`.\n",
    "+ O tempo de execução desse exercício é de aproximadamente 10 minutos, mas pode variar de computador para computador, portanto, pegue um café e tenha paciência.\n",
    "+ Para resolver este item, se baseie no seguinte exemplo: [validacao_cruzada.ipynb](https://colab.research.google.com/github/zz4fap/t319_aprendizado_de_maquina/blob/main/notebooks/regression/validacao_cruzada.ipynb).\n",
    "+ **Atenção, não basta apenas copiar o código do exemplo dado, você precisa alterá-lo.**"
   ]
  },
  {
   "cell_type": "code",
   "execution_count": null,
   "id": "TnoreVKeTNIa",
   "metadata": {
    "colab": {
     "base_uri": "https://localhost:8080/",
     "height": 444
    },
    "id": "TnoreVKeTNIa",
    "outputId": "48d3208d-2199-4a11-8228-cca79248299e"
   },
   "outputs": [],
   "source": [
    "# Digite o código do item aqui."
   ]
  },
  {
   "cell_type": "markdown",
   "id": "32VwqN97rd2c",
   "metadata": {
    "id": "32VwqN97rd2c"
   },
   "source": [
    "6. Após analisar os resultados obtidos com a validação cruzada **k-Fold**, responda qual é a melhor ordem de polinômio para aproximar os dados. **Justifique sua resposta.**\n",
    "\n",
    "**DICA**\n",
    "\n",
    "* Lembre-se do princípio da navalha de Occam para escolher a melhor ordem."
   ]
  },
  {
   "cell_type": "markdown",
   "id": "mKuZDNRgrh76",
   "metadata": {
    "id": "mKuZDNRgrh76"
   },
   "source": [
    "**Resposta**\n",
    "\n",
    "<span style=\"color:blue\">Digite abaixo a resposta do exercício.</span>"
   ]
  },
  {
   "cell_type": "markdown",
   "id": "YMhP-KF6VBoU",
   "metadata": {
    "id": "YMhP-KF6VBoU"
   },
   "source": [
    "7. De posse da melhor ordem, treine um novo modelo considerando esta ordem e ao final imprima o valor do erro quadrático médio para o conjunto de teste.\n",
    "\n",
    "**DICAS**\n",
    "\n",
    "+ Treine com o conjunto de treinamento e cacule o erro com o conjunto de teste.\n",
    "+ Desabilite a inclusão da coluna do atributo de bias ao instanciar a classe `PolynomialFeatures` utilizando o parâmetro `include_bias=False`.\n",
    "+ Use a classe `StandardScaler` para normalizar os dados."
   ]
  },
  {
   "cell_type": "code",
   "execution_count": null,
   "id": "xjQj1uBkVB5v",
   "metadata": {
    "colab": {
     "base_uri": "https://localhost:8080/"
    },
    "id": "xjQj1uBkVB5v",
    "outputId": "436728b0-33af-41b2-92b8-61ed8dea2b57"
   },
   "outputs": [],
   "source": [
    "# Digite o código do item aqui."
   ]
  },
  {
   "cell_type": "markdown",
   "id": "lsyUe4Bns7dp",
   "metadata": {
    "id": "lsyUe4Bns7dp"
   },
   "source": [
    "8. O erro obtido no item anterior é menor do que o erro obtido no item 4 deste exercício? **Justifique sua resposta**."
   ]
  },
  {
   "cell_type": "markdown",
   "id": "D92Q5H_ftaEw",
   "metadata": {
    "id": "D92Q5H_ftaEw"
   },
   "source": [
    "**Resposta**\n",
    "\n",
    "<span style=\"color:blue\">Digite abaixo a resposta do exercício.</span>"
   ]
  },
  {
   "cell_type": "markdown",
   "id": "F77Zzd3TYiD9",
   "metadata": {
    "id": "F77Zzd3TYiD9"
   },
   "source": [
    "9. Neste item, iremos remover valores discrepantes dos atributos. Valores discrepantes podem distorcer modelos de regressão (e.g., aumentar o erro quadrático médio), especialmente em datasets pequenos.\n",
    "\n",
    "Para identificar e remover tais valores, usaremos o Intervalo Interquartil (IQR). O IQR é uma medida estatística robusta para identificar valores discrepantes. Valores fora do intervalo $[Q1 - 1.5*IQR, Q3 + 1.5*IQR]$ são considerados discrepantes. A remoção de valores discrepantes melhora a generalização do modelo e reduz o impacto de valores extremos em algoritmos sensíveis (e.g., regressão).\n",
    "\n",
    "Execute a célula de código abaixo para remover os valores discrepantes.\n",
    "\n",
    "**DICAS**\n",
    "+ Além de remover os valores discrepantes, o código abaixo cria uma nova base de daos, sem tais valores, e a divide em novos conjuntos de treinamento e validação."
   ]
  },
  {
   "cell_type": "code",
   "execution_count": null,
   "id": "74hT7Y3YgntZ",
   "metadata": {
    "colab": {
     "base_uri": "https://localhost:8080/",
     "height": 460
    },
    "id": "74hT7Y3YgntZ",
    "outputId": "07fde930-7b49-4265-e0fa-0aa16fcbdb88"
   },
   "outputs": [],
   "source": [
    "# Selecionar features numéricas\n",
    "numeric_features = ['MYCT', 'MMIN', 'MMAX', 'CACH', 'CHMIN', 'CHMAX']\n",
    "\n",
    "df = df.drop([\"vendor\", \"model\", \"PRP\"], axis=1)\n",
    "\n",
    "# Calcular IQR para cada feature\n",
    "Q1 = df[numeric_features].quantile(0.25)\n",
    "Q3 = df[numeric_features].quantile(0.75)\n",
    "IQR = Q3 - Q1\n",
    "\n",
    "# Definir limites\n",
    "lower_bound = Q1 - 1.5 * IQR\n",
    "upper_bound = Q3 + 1.5 * IQR\n",
    "\n",
    "# Filtrar dados\n",
    "df_clean = df[\n",
    "    ~((df[numeric_features] < lower_bound) | (df[numeric_features] > upper_bound)).any(axis=1)\n",
    "]\n",
    "\n",
    "# Criando um novo dataset, mas desta vez sem amostras discrepantes.\n",
    "X = df_clean.drop([\"ERP\"], axis=1)\n",
    "y = df_clean.ERP\n",
    "\n",
    "# Divide o novo conjunto em conjuntos de treinamento e validação.\n",
    "X_train, X_test, y_train, y_test = train_test_split(X, y,test_size = 0.2, random_state=42)\n",
    "\n",
    "# Criar figura com 2 subplots lado a lado\n",
    "fig, axes = plt.subplots(1, 2, figsize=(15, 6))\n",
    "\n",
    "# Plotar boxplot antes da remoção (subplot esquerdo)\n",
    "sns.boxplot(data=df[numeric_features], ax=axes[0])\n",
    "axes[0].set_title(\"Antes da Remoção de Outliers\")\n",
    "axes[0].tick_params(axis='x', rotation=45)  # Rotacionar labels se necessário\n",
    "\n",
    "# Plotar boxplot após remoção (subplot direito)\n",
    "sns.boxplot(data=df_clean[numeric_features], ax=axes[1])\n",
    "axes[1].set_title(\"Após Remoção de Outliers (IQR)\")\n",
    "axes[1].tick_params(axis='x', rotation=45)\n",
    "\n",
    "# Ajustar layout e mostrar\n",
    "plt.tight_layout()\n",
    "plt.show()"
   ]
  },
  {
   "cell_type": "markdown",
   "id": "50njUoLgehb5",
   "metadata": {
    "id": "50njUoLgehb5"
   },
   "source": [
    "10. De posse dos novos conjuntos de treinamento e teste sem valores discrepantes e da melhor ordem encontrada no item 5 deste exercício, treine um novo modelo considerando os novos conjuntos e esta ordem e ao final imprima o valor do erro quadrático médio para o conjunto de teste.\n",
    "\n",
    "**DICAS**\n",
    "\n",
    "+ Treine com o conjunto de treinamento e cacule o erro com o conjunto de teste.\n",
    "+ Desabilite a inclusão da coluna do atributo de bias ao instanciar a classe `PolynomialFeatures` utilizando o parâmetro `include_bias=False`.\n",
    "+ Use a classe `StandardScaler` para normalizar os dados."
   ]
  },
  {
   "cell_type": "code",
   "execution_count": null,
   "id": "jpZxr4wdegv7",
   "metadata": {
    "colab": {
     "base_uri": "https://localhost:8080/"
    },
    "id": "jpZxr4wdegv7",
    "outputId": "0de7f5fe-0b81-45e9-8670-7d1abfa031ff"
   },
   "outputs": [],
   "source": [
    "# Digite o código do item aqui."
   ]
  },
  {
   "cell_type": "markdown",
   "id": "HzukUqOR0sB4",
   "metadata": {
    "id": "HzukUqOR0sB4"
   },
   "source": [
    "11. O erro obtido no item anterior é menor do que o erro obtido no item 7 deste exercício? **Justifique sua resposta**."
   ]
  },
  {
   "cell_type": "markdown",
   "id": "m-Ay2oFq0-t5",
   "metadata": {
    "id": "m-Ay2oFq0-t5"
   },
   "source": [
    "**Resposta**\n",
    "\n",
    "<span style=\"color:blue\">Digite abaixo a resposta do exercício.</span>"
   ]
  },
  {
   "cell_type": "markdown",
   "id": "ef250be7",
   "metadata": {},
   "source": [
    "### 2) Exercício sobre validação cruzada\n",
    "\n",
    "Neste exercício, você irá utilizar uma estratégia de **validação cruzada** para encontrar a ordem ideal para uma função hipótese que será usada para aproximar um conjunto de dados ruidosos.\n",
    "\n",
    "A **função observável** deste exercício é gerada utilizando-se a função `generateDataSetv3` do módulo `util_functions_aux`.\n",
    "\n",
    "A **função hipótese** para este exercício é **polinomial** em uma únicavariável, $x$, e tem a seguinte forma\n",
    "\n",
    "$$h(n) = a_0 + a_1 x(n) + a_2 x(n)^2 + \\cdots + a_M x(n)^M,$$\n",
    "\n",
    "onde $n$ é o número da amostra e $M$ a ordem do polinômio.\n",
    "\n",
    "A tarefa aqui é encontrar o valor ideal para $M$, ou seja, a ordem da função hipótese polinomial de tal forma que ela consiga aproximar bem os dados observados.\n",
    "\n",
    "**DICAS**:\n",
    "\n",
    "+ Para gerar os valores de $x$, $y$ e $y_{noisy}$ usaremos a função `generateDataSetv3` passando como parâmetro de entrada o número de amostras que devem ser geradas (o número de amostras já é definido no item 1).\n",
    "+ Para resolver as questões deste exercício, se baseie no código do seguinte exemplo: [validacao_cruzada.ipynb](https://colab.research.google.com/github/zz4fap/t319_aprendizado_de_maquina/blob/master/notebooks/regression/validacao_cruzada.ipynb).\n",
    "+ Todas as funções usadas neste exercício estão definidas no arquivo `util_functions.py`, que se encontra na mesma pasta que este notebook. \n",
    "+ **SOB NENHUMA HIPÓTESE ALTERE O ARQUIVO `util_functions_aux.py`**"
   ]
  },
  {
   "cell_type": "markdown",
   "id": "07ff7a53",
   "metadata": {},
   "source": [
    "1. Execute o trecho de código abaixo e analise os resultados gerados."
   ]
  },
  {
   "cell_type": "code",
   "execution_count": null,
   "id": "a97c69d1",
   "metadata": {},
   "outputs": [],
   "source": [
    "# importing libraries\n",
    "import numpy as np\n",
    "import matplotlib.pyplot as plt\n",
    "import timeit\n",
    "from sklearn.preprocessing import PolynomialFeatures\n",
    "from sklearn.linear_model import LinearRegression\n",
    "from sklearn.preprocessing import StandardScaler\n",
    "from sklearn.pipeline import Pipeline\n",
    "from sklearn.metrics import mean_squared_error\n",
    "from sklearn.model_selection import train_test_split\n",
    "from sklearn.model_selection import cross_val_score\n",
    "from sklearn.model_selection import KFold\n",
    "import urllib\n",
    "urllib.request.urlretrieve('https://raw.githubusercontent.com/zz4fap/t319_aprendizado_de_maquina/main/projeto/util_functions.py', 'util_functions_aux.py')\n",
    "import util_functions_aux as util\n",
    "\n",
    "# Reset PN sequence generator.\n",
    "seed = 42\n",
    "np.random.seed(seed)\n",
    "\n",
    "# Number of examples.\n",
    "N = 2000\n",
    "\n",
    "# Generate datase.\n",
    "x, y, y_noisy = util.generateDatasetsv3(555, N)\n",
    "\n",
    "# Plot comparison between true and noisy model.\n",
    "plt.plot(x, y_noisy, '.', label='Função observável')\n",
    "plt.plot(x, y, label='Função objetivo', linewidth=4)\n",
    "plt.xlabel('$x$', fontsize=14)\n",
    "plt.ylabel('$y$', fontsize=14)\n",
    "plt.grid()\n",
    "plt.legend()\n",
    "plt.show()"
   ]
  },
  {
   "cell_type": "markdown",
   "id": "d4186249",
   "metadata": {},
   "source": [
    "2. Usando a estratégia de validação cruzada **k-Fold**, encontre a ordem ideal para que uma função hipótese polinomial aproxime bem o conjunto de dados gerado no item anterior. Para avaliar qual é a ordem ideal para o polinômio aproximador, plote gráficos com a média e o desvio padrão do erro quadrático médio (MSE) em função dos graus de polinômio considerados. Para isso:\n",
    "\n",
    "   1. Use o **k-Fold** com **k** igual a 10.\n",
    "   2. Configure o parâmetro `shuffle` da classe `KFold` como `True`, ou seja, `shuffle=True`.\n",
    "   3. Faça a análise de polinômios de ordem 1 até 30, **inclusive**.\n",
    "   4. Desabilite a inclusão da coluna do atributo de bias ao instanciar a classe `PolynomialFeatures` utilizando o parâmetro `include_bias=False`.\n",
    "   5. Use a classe `StandardScaler` para padronizar os atributos.\n",
    "\n",
    "**DICAS** \n",
    "\n",
    "+ Para resolver este item, se baseie no seguinte exemplo: [validacao_cruzada.ipynb](https://colab.research.google.com/github/zz4fap/t319_aprendizado_de_maquina/blob/main/notebooks/regression/validacao_cruzada.ipynb).\n",
    "+ **Atenção, não basta apenas copiar o código do exemplo dado, você precisa alterá-lo.**"
   ]
  },
  {
   "cell_type": "code",
   "execution_count": null,
   "id": "34c473b8",
   "metadata": {},
   "outputs": [],
   "source": [
    "# Digite o código do item aqui."
   ]
  },
  {
   "cell_type": "markdown",
   "id": "52e5ef07",
   "metadata": {},
   "source": [
    "3. Após analisar os resultados obtidos com a validação cruzada **k-Fold**, responda qual é a melhor ordem de polinômio para aproximar os dados. **Justifique sua resposta.**\n",
    "\n",
    "**DICA**\n",
    "\n",
    "* Lembre-se do princípio da navalha de Occam para escolher a melhor ordem."
   ]
  },
  {
   "cell_type": "markdown",
   "id": "7c45e43e",
   "metadata": {},
   "source": [
    "**Resposta**\n",
    "\n",
    "<span style=\"color:blue\">Digite abaixo a resposta do exercício.</span>"
   ]
  },
  {
   "cell_type": "markdown",
   "id": "e3c3bbfe",
   "metadata": {},
   "source": [
    "4. De posse da melhor ordem, treine um novo modelo de regressão considerando esta ordem e plote um gráfico que compare a função objetivo com as funções observável (i.e., ruidosa) e hipótese.\n",
    "\n",
    "**DICAS**\n",
    "\n",
    "+ Inclua o termo de bias ao instanciar a classe `PolynomialFeatures` utilizando o parâmetro `include_bias=False`.\n",
    "+ Use a classe `StandardScaler` para padronizar os atributos.\n",
    "+ Use o conjunto total de amostras para calcular o erro.\n",
    "+ Para resolver este item, se baseie no seguinte exemplo: [validacao_cruzada.ipynb](https://colab.research.google.com/github/zz4fap/t319_aprendizado_de_maquina/blob/main/notebooks/regression/validacao_cruzada.ipynb).\n",
    "+ **Atenção, não basta apenas copiar o código do exemplo dado, você precisa alterá-lo.**"
   ]
  },
  {
   "cell_type": "code",
   "execution_count": null,
   "id": "cec7a0a6",
   "metadata": {},
   "outputs": [],
   "source": [
    "# Digite o código do item aqui."
   ]
  },
  {
   "cell_type": "markdown",
   "id": "ca46c44c",
   "metadata": {},
   "source": [
    "5. O que aconteceria se a ordem do modelo aproximador fosse bem maior do que a que você escolheu (por exemplo, vinte vezes maior)? **Justifique sua resposta.**"
   ]
  },
  {
   "cell_type": "markdown",
   "id": "96bd3bc7",
   "metadata": {},
   "source": [
    "**Resposta**\n",
    "\n",
    "<span style=\"color:blue\">Digite abaixo a resposta do exercício.</span>"
   ]
  },
  {
   "cell_type": "markdown",
   "id": "2b856e4c",
   "metadata": {},
   "source": [
    "6. Escolha uma ordem bem maior do que a que você usou no item 4 (por exemplo, vinte vezes maior) e apresente uma figura comparando a predição feita por esse modelo com ordem bem menor com os dados originais."
   ]
  },
  {
   "cell_type": "code",
   "execution_count": null,
   "id": "8e873071",
   "metadata": {},
   "outputs": [],
   "source": [
    "# Digite o código do item aqui."
   ]
  },
  {
   "cell_type": "markdown",
   "id": "0da09cfe",
   "metadata": {},
   "source": [
    "7. O que aconteceria se a ordem do modelo aproximador fosse igual a 1, ou seja, uma reta? **Justifique sua resposta.**"
   ]
  },
  {
   "cell_type": "markdown",
   "id": "4b2ff0df",
   "metadata": {},
   "source": [
    "**Resposta**\n",
    "\n",
    "<span style=\"color:blue\">Digite abaixo a resposta do exercício.</span>"
   ]
  },
  {
   "cell_type": "markdown",
   "id": "fd02e146",
   "metadata": {},
   "source": [
    "8. Faça a ordem do modelo aproximador igual a 1 e apresente uma figura comparando a predição feita por esse modelo com ordem igual a 1 com os dados originais."
   ]
  },
  {
   "cell_type": "code",
   "execution_count": null,
   "id": "5ca00c6f",
   "metadata": {},
   "outputs": [],
   "source": [
    "# Digite o código do item aqui."
   ]
  },
  {
   "cell_type": "markdown",
   "id": "0507c7f4",
   "metadata": {},
   "source": [
    "### 3) Usando regressão para estimar calorias queimadas.\n",
    "\n",
    "Neste exercício, você utilizará uma técnica de **validação cruzada** para encontrar um modelo que estime a quantidade de calorias queimadas após uma atividade física com base em um conjunto de dados coletados. As informações das **colunas** contidas no conjunto de dados seguem abaixo. O objetivo é utilizar os atributos para estimar a quantidade de calorias queimadas.\n",
    "\n",
    "|            |                   **Atributos**                   |\n",
    "|:----------:|:-------------------------------------------------:|\n",
    "|   User_ID  |              Identificação do usuário             |\n",
    "|   Gender   |                       Gênero                      |\n",
    "|     Age    |                       Idade                       |\n",
    "|   Height   |                       Altura                      |\n",
    "|   Weight   |                        Peso                       |\n",
    "|  Duration  |            Duração da atividade física            |\n",
    "| Heart_Rate | Média de batimentos cardíacos durante a atividade física |\n",
    "|  Body_Temp | Média da temperatura coporal durante a atividade física |\n",
    "|            |                     **Rótulo**                    |\n",
    "|  Calories  |       Calorias queimadas durante a atividade física       |\n",
    "\n",
    "1. Execute a célula de código abaixo para importar o conjunto de dados e as bibliotecas necessárias.\n",
    "\n",
    "**DICAS**\n",
    "\n",
    "+ Após a execução bem sucedida da célula abaixo, você visualizará as 5 primeiras linhas do arquivo."
   ]
  },
  {
   "cell_type": "code",
   "execution_count": null,
   "id": "01a5b419",
   "metadata": {},
   "outputs": [],
   "source": [
    "# Importe todas as bibliotecas necessárias.\n",
    "import numpy as np\n",
    "import pandas as pd\n",
    "import matplotlib.pyplot as plt\n",
    "from sklearn.linear_model import LinearRegression\n",
    "from sklearn.model_selection import train_test_split, GridSearchCV, KFold, cross_val_score\n",
    "from sklearn.preprocessing import PolynomialFeatures, StandardScaler\n",
    "from sklearn.pipeline import Pipeline\n",
    "from sklearn.metrics import mean_squared_error\n",
    "import urllib\n",
    "\n",
    "# Reseta o gerador de sequências pseudo aleatórias.\n",
    "seed = 42\n",
    "np.random.seed(seed)\n",
    "\n",
    "# Baixa as bases de dados do dropbox.\n",
    "urllib.request.urlretrieve('https://www.dropbox.com/s/1zka46bw4f4z5xq/exercise.csv?dl=1', 'exercise.csv')\n",
    "urllib.request.urlretrieve('https://www.dropbox.com/s/45gtml94o97bhz8/calories.csv?dl=1', 'calories.csv')\n",
    "\n",
    "# Importa os arquivos CSV.\n",
    "exercise_data = pd.read_csv('./exercise.csv')\n",
    "calories_data = pd.read_csv('./calories.csv')\n",
    "\n",
    "# Une as duas bases de dados.\n",
    "df = exercise_data.join( calories_data.set_index('User_ID'), on='User_ID', how='left')\n",
    "\n",
    "# Mostra uma tabela com as 5 primeiras linhas.\n",
    "df.head()"
   ]
  },
  {
   "cell_type": "markdown",
   "id": "466f48d3",
   "metadata": {},
   "source": [
    "2. Execute a célula de código abaixo para aplicar um pré-processamento aos dados do conjunto.\n",
    "\n",
    "+ Como os modelos de regressão esperam valores numéricos, devemos alterar os valores textuais da coluna `Gender` em valores numéricos. A string `male` é alterada para o valor 0 e a string `female` é alterada para o valor 1.\n",
    "+ Na sequência, a coluna `User_ID` é removida, pois ela não é um atributo e, portanto, não traz informação útil para a regressão."
   ]
  },
  {
   "cell_type": "code",
   "execution_count": null,
   "id": "f3742ff0",
   "metadata": {},
   "outputs": [],
   "source": [
    "# Mapeia as strings em valores numéricos.\n",
    "df.replace({'Gender':{'male':0, 'female':1}}, inplace=True)\n",
    "\n",
    "# Remove a coluna 'User_ID'.\n",
    "del df[ 'User_ID' ]\n",
    "\n",
    "# Mostra uma tabela com as 5 primeiras linhas.\n",
    "df.head()"
   ]
  },
  {
   "cell_type": "markdown",
   "id": "43b9e80d",
   "metadata": {},
   "source": [
    "3. Execute a próxima célula de código abaixo para criar a matriz de atributos, $\\textbf{X}$, e o vetor de rótulos, $\\textbf{y}$.\n",
    "\n",
    "**DICAS**\n",
    "\n",
    "+ A primeira linha de comando remove da matriz de atributos a coluna `Calories`, pois ela será nosso rótulo.\n",
    "+ A segunda linha cria o vetor de rótulos contendo apenas a coluna `Calories`.\n",
    "+ A célula imprimirá as dimensões da matriz de atributos e do vetor de rótulos."
   ]
  },
  {
   "cell_type": "code",
   "execution_count": null,
   "id": "0be3cd93",
   "metadata": {},
   "outputs": [],
   "source": [
    "# Criando a matriz de atributos e o vetor de rótulos.\n",
    "X = df.drop('Calories', axis=1)\n",
    "y = df['Calories']\n",
    "\n",
    "# Atributos.\n",
    "print('Dimensão da matriz de atributos:', X.shape)\n",
    "# Rótulos.\n",
    "print('Dimensão do vetor de rótulos:',y.shape)"
   ]
  },
  {
   "cell_type": "markdown",
   "id": "4d76c781",
   "metadata": {},
   "source": [
    "4. Com a matriz de atributos, $\\textbf{X}$, e o vetor de rótulos, $\\textbf{y}$, obtidos no item anterior, utilize a técnica de validação cruzada k-Fold para escolher a melhor ordem para um modelo de regressão polinomial. \n",
    "\n",
    "Para isso, faça o seguinte:\n",
    "\n",
    "1. Use o **k-Fold** instanciado com os seguintes parâmetros `n_splits=10`, `shuffle=True` e `random_state=seed`.\n",
    "2. Faça a análise de **polinômios** de ordem 1 até 7, **inclusive**.\n",
    "3. Para realizar a validação cruzada com o **k-Fold**, use a função `cross_val_score` com o seguinte parâmetro `scoring='neg_mean_squared_error'`.\n",
    "4. Use a classe `StandardScaler` para padronizar os dados.\n",
    "5. Use a classe `LinearRegression` para realizar a regressão propriamente dita.\n",
    "6. Plote gráficos com a média e o desvio padrão do erro quadrático médio em função do grau do polinômio.\n",
    "\n",
    "**DICAS** \n",
    "\n",
    "+ O tempo de execução desse exercício é de aproximadamente 10 minutos, mas pode variar de computador para computador, portanto, pegue um café e tenha paciência.\n",
    "+ Use o princípio da navalha de Occam para escolher a ordem do polinômio.\n",
    "+ Para resolver este item, se baseie no seguinte exemplo: [validacao_cruzada.ipynb](https://colab.research.google.com/github/zz4fap/t319_aprendizado_de_maquina/blob/main/notebooks/regression/validacao_cruzada.ipynb).\n",
    "+ **Atenção, não basta apenas copiar o código do exemplo dado, você precisa alterá-lo.**"
   ]
  },
  {
   "cell_type": "code",
   "execution_count": null,
   "id": "f5732e88",
   "metadata": {},
   "outputs": [],
   "source": [
    "# Digite o código do item aqui."
   ]
  },
  {
   "cell_type": "markdown",
   "id": "3e773128",
   "metadata": {},
   "source": [
    "5. Após analisar os resultados do item anterior responda: Qual a melhor ordem do polinômio para esse problema? **Justifique sua resposta**."
   ]
  },
  {
   "cell_type": "markdown",
   "id": "68b95c96",
   "metadata": {},
   "source": [
    "**Resposta**\n",
    "\n",
    "<span style=\"color:blue\">Digite abaixo a resposta do exercício.</span>"
   ]
  },
  {
   "cell_type": "markdown",
   "id": "faea1528",
   "metadata": {},
   "source": [
    "6. De posse da melhor ordem, treine um novo modelo considerando esta ordem e no final imprima o valor do erro quadrático médio (MSE) para os conjuntos de treinamento e de validação.\n",
    "\n",
    "Para isso, faça o seguinte\n",
    "\n",
    "1. Separe 75% do conjunto de dados para o treinamento e 25% para o conjunto de validação com o parâmetro `random_state=seed`.\n",
    "2. Crie um pipeline com as seguintes ações:\n",
    "    + `PolynomialFeatures` com a ordem escolhida.\n",
    "    + `StandardScaler` para padronizar os dados.\n",
    "    + `LinearRegression` para encontrar os pesos da função hipótese polinomal.\n",
    "3. Treine o modelo com o conjunto de treinamento.\n",
    "4. Faça predições com o modelo treinando usando os conjuntos de treinamento e validação.\n",
    "5. Calcule e imprima o MSE entre as predições feitas pelo modelo e os rótulos dos conjuntos de treinamento e validação.\n",
    "\n",
    "**DICAS**\n",
    "\n",
    "+ Para resolver este item, se baseie no seguinte exemplo: [validacao_cruzada.ipynb](https://colab.research.google.com/github/zz4fap/t319_aprendizado_de_maquina/blob/main/notebooks/regression/validacao_cruzada.ipynb).\n",
    "+ **Atenção, não basta apenas copiar o código do exemplo dado, você precisa alterá-lo.**"
   ]
  },
  {
   "cell_type": "code",
   "execution_count": null,
   "id": "2834e572",
   "metadata": {},
   "outputs": [],
   "source": [
    "# Digite o código do item aqui."
   ]
  },
  {
   "cell_type": "markdown",
   "id": "1273f180",
   "metadata": {},
   "source": [
    "7. Comparando os dois erros obtidos no item anterior, erros de treinamento e validação. Você diria que o modelo está subajustando, sobreajustando ou encontrou uma relação de compromisso entre generalização e flexibilidade (ou capacidade)? **Justifique sua resposta**."
   ]
  },
  {
   "cell_type": "markdown",
   "id": "388fe820",
   "metadata": {},
   "source": [
    "**Resposta**\n",
    "\n",
    "<span style=\"color:blue\">Digite abaixo a resposta do exercício.</span>"
   ]
  },
  {
   "cell_type": "markdown",
   "id": "8c21c4a3",
   "metadata": {},
   "source": [
    "8. Treine um novo modelo considerando uma ordem igual a 10 e no final imprima o valor do erro quadrático médio (MSE) para os conjuntos de treinamento e de validação.\n",
    "\n",
    "Para isso, faça o seguinte\n",
    "\n",
    "1. Separe 75% do conjunto de dados para o treinamento e 25% para o conjunto de validação com o parâmetro `random_state=seed`.\n",
    "2. Crie um pipeline com as seguintes ações:\n",
    "    + `PolynomialFeatures` com a ordem escolhida.\n",
    "    + `StandardScaler` para padronizar os dados.\n",
    "    + `LinearRegression` para encontrar os pesos da função hipótese polinomal.\n",
    "3. Treine o modelo com o conjunto de treinamento.\n",
    "4. Faça predições com o modelo treinando usando os conjuntos de treinamento e de validação.\n",
    "5. Calcule e imprima o MSE entre as predições feitas pelo modelo e os rótulos dos conjuntos de treinamento e validação.\n",
    "\n",
    "**DICAS**\n",
    "\n",
    "+ Para resolver este item, se baseie no seguinte exemplo: [validacao_cruzada.ipynb](https://colab.research.google.com/github/zz4fap/t319_aprendizado_de_maquina/blob/main/notebooks/regression/validacao_cruzada.ipynb).\n",
    "+ **Atenção, não basta apenas copiar o código do exemplo dado, você precisa alterá-lo.**"
   ]
  },
  {
   "cell_type": "code",
   "execution_count": null,
   "id": "a83d1ce2",
   "metadata": {},
   "outputs": [],
   "source": [
    "# Digite o código do item aqui."
   ]
  },
  {
   "cell_type": "markdown",
   "id": "9b780354",
   "metadata": {},
   "source": [
    "9. Comparando os dois erros obtidos no item anterior, erros de treinamento e de validação. Você diria que o modelo está subajustando, sobreajustando ou encontrou uma relação de compromisso entre capacidade de generalização e flexibilidade (ou capacidade)? **Justifique sua resposta**."
   ]
  },
  {
   "cell_type": "markdown",
   "id": "e99f2ca0",
   "metadata": {},
   "source": [
    "**Resposta**\n",
    "\n",
    "<span style=\"color:blue\">Digite abaixo a resposta do exercício.</span>"
   ]
  }
 ],
 "metadata": {
  "colab": {
   "provenance": []
  },
  "kernelspec": {
   "display_name": "Python 3 (ipykernel)",
   "language": "python",
   "name": "python3"
  },
  "language_info": {
   "codemirror_mode": {
    "name": "ipython",
    "version": 3
   },
   "file_extension": ".py",
   "mimetype": "text/x-python",
   "name": "python",
   "nbconvert_exporter": "python",
   "pygments_lexer": "ipython3",
   "version": "3.11.5"
  }
 },
 "nbformat": 4,
 "nbformat_minor": 5
}
