{
 "cells": [
  {
   "cell_type": "markdown",
   "metadata": {},
   "source": [
    "# Laboratório #2\n",
    "\n",
    "### Instruções\n",
    "\n",
    "1. Quando você terminar os exercícios do laboratório, vá ao menu do Jupyter ou Colab e selecione a opção para fazer download do notebook.\n",
    "    * Os notebooks tem extensão .ipynb. \n",
    "    * Este deve ser o arquivo que você irá entregar.\n",
    "    * No Jupyter vá até a opção **File** -> **Download as** -> **Notebook (.ipynb)**.\n",
    "    * No Colab vá até a opção **File** -> **Download .ipynb**.\n",
    "2. Após o download do notebook, vá até a aba de tarefas do MS Teams, localize a tarefa referente a este laboratório e faça o upload do seu notebook. Veja que há uma opção de anexar arquivos à tarefa."
   ]
  },
  {
   "cell_type": "markdown",
   "metadata": {},
   "source": [
    "**Nome**:\n",
    "\n",
    "**Matrícula**:"
   ]
  },
  {
   "cell_type": "markdown",
   "metadata": {},
   "source": [
    "## Exercícios"
   ]
  },
  {
   "cell_type": "markdown",
   "metadata": {},
   "source": [
    "#### 1)  Neste exercício, você irá plotar a superfície de erro e encontrar a solução ótima para o problema da regressão linear utilizando a equação normal.\n",
    "\n",
    "Dada a seguinte **função observável**\n",
    "\n",
    "$$y_{noisy}(n) = y(n) + w(n),$$\n",
    "\n",
    "onde $w$ é vetor coluna com $N = 1000$ (ou seja, o número de exemplos) valores retirados de uma distribuição aleatória Gaussiana com média 0 e variância igual a 1 e $y$ é a **função objetivo**. Neste exercício, a **função objetivo** (ou **modelo gerador**) é dada por:\n",
    "\n",
    "$$y(n) = x_1(n) + x_2(n),  $$\n",
    "\n",
    "onde $x_1$ é um vetor coluna com $N$ valores retirados de uma distribuição aleatória uniformemente distribuída no intervalo de $0$ a $1$ e $x_2$ é outro vetor coluna com $N$ valores retirados de uma distribuição aleatória uniformemente distribuída no intervalo de $0$ a $100$.\n",
    "\n",
    "A **função hipótese** para este exercício deve ser\n",
    "\n",
    "$$h(n) = a_1 x_1(n) + a_2 x_2(n).$$\n",
    "\n",
    "**OBSERVAÇÕES**:\n",
    "\n",
    "+ A biblioteca `numpy` fornece uma função chamada `rand` para geração de valores aleatórios retirados de uma distribuição uniforme. Seu uso é idêntico ao da função `randn`.\n",
    "\n",
    "De posse destas informações, faça o seguinte:\n",
    "\n",
    "1. Plote a **função observável**, $y_{noisy}$, em função dos atributos $x_1$ e $x_2$. Note que este será um gráfico 3D."
   ]
  },
  {
   "cell_type": "code",
   "execution_count": 1,
   "metadata": {},
   "outputs": [],
   "source": [
    "# Digite aqui o código do exercício."
   ]
  },
  {
   "cell_type": "markdown",
   "metadata": {},
   "source": [
    "2. Plote a superfície de erro. Note que este será um gráfico 3D.\n",
    "\n",
    "**Dica**: Para plotar a superfície de erro, faça $a_1$ variar de $-4$ até $6$ e $a_2$ variar de $-4$ até $6$."
   ]
  },
  {
   "cell_type": "code",
   "execution_count": 2,
   "metadata": {},
   "outputs": [],
   "source": [
    "# Digite aqui o código do exercício."
   ]
  },
  {
   "cell_type": "markdown",
   "metadata": {},
   "source": [
    "3. Encontre a solução ótima para este problema de regressão linear utilizando a **equação normal**. Imprima os valores encontrados para os **pesos**, $a_1$ e $a_2$, e o valor do **erro quadrátio médio** com a solução ótima."
   ]
  },
  {
   "cell_type": "code",
   "execution_count": 3,
   "metadata": {},
   "outputs": [],
   "source": [
    "# Digite aqui o código do exercício."
   ]
  },
  {
   "cell_type": "markdown",
   "metadata": {},
   "source": [
    "4. Plote a **superfície de contorno** indicando a solução ótima encontrada no item anterior."
   ]
  },
  {
   "cell_type": "code",
   "execution_count": 4,
   "metadata": {},
   "outputs": [],
   "source": [
    "# Digite aqui o código do exercício."
   ]
  },
  {
   "cell_type": "markdown",
   "metadata": {},
   "source": [
    "5. Compare a superfície de contorno acima com a mostrada no exemplo #2 dos slides. Qual a diferença entre as duas superfícies? Você consegue explicar o motivo desta diferença?"
   ]
  },
  {
   "cell_type": "markdown",
   "metadata": {},
   "source": [
    "Escreva aqui sua resposta."
   ]
  },
  {
   "cell_type": "markdown",
   "metadata": {},
   "source": [
    "6. Plote a **função observável**, $y_{noisy}$, em função dos atributos $x_1$ e $x_2$ juntamente com o **hiperplano** encontrado com a **equação normal**. Note que este será um gráfico 3D. "
   ]
  },
  {
   "cell_type": "code",
   "execution_count": 5,
   "metadata": {},
   "outputs": [],
   "source": [
    "# Digite aqui o código do exercício."
   ]
  },
  {
   "cell_type": "markdown",
   "metadata": {},
   "source": [
    "7. O que aconteceria com o erro quadrático médio caso o ruído adicionado à função objetivo tivesse uma variância igual a $0.1$ ao invés de $1$? Imprima o valor do erro após essa mudança. Repita na célula abaixo apenas a parte do código que for necessária para se gerar o vetor de ruído com a nova variância.\n",
    "\n",
    "Houve diferença no erro obtido com este novo vetor de ruído? O que você pode concluir com base nesse resultado?"
   ]
  },
  {
   "cell_type": "code",
   "execution_count": 6,
   "metadata": {},
   "outputs": [],
   "source": [
    "# Digite aqui o código do exercício."
   ]
  }
 ],
 "metadata": {
  "kernelspec": {
   "display_name": "Python 3",
   "language": "python",
   "name": "python3"
  },
  "language_info": {
   "codemirror_mode": {
    "name": "ipython",
    "version": 3
   },
   "file_extension": ".py",
   "mimetype": "text/x-python",
   "name": "python",
   "nbconvert_exporter": "python",
   "pygments_lexer": "ipython3",
   "version": "3.7.7"
  }
 },
 "nbformat": 4,
 "nbformat_minor": 4
}
