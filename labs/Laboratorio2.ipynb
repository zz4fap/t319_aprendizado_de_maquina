{
 "cells": [
  {
   "cell_type": "markdown",
   "metadata": {},
   "source": [
    "# Laboratório #2\n",
    "\n",
    "### Instruções\n",
    "\n",
    "1. Quando você terminar os exercícios do laboratório, vá ao menu do Jupyter ou Colab e selecione a opção para fazer download do notebook.\n",
    "    * Os notebooks tem extensão .ipynb. \n",
    "    * Este deve ser o arquivo que você irá entregar.\n",
    "    * No Jupyter vá até a opção **File** -> **Download as** -> **Notebook (.ipynb)**.\n",
    "    * No Colab vá até a opção **File** -> **Download .ipynb**.\n",
    "2. Após o download do notebook, vá até a aba de tarefas do MS Teams, localize a tarefa referente a este laboratório e faça o upload do seu notebook. Veja que há uma opção de anexar arquivos à tarefa."
   ]
  },
  {
   "cell_type": "markdown",
   "metadata": {},
   "source": [
    "**Nome**:\n",
    "\n",
    "**Matrícula**:"
   ]
  },
  {
   "cell_type": "markdown",
   "metadata": {},
   "source": [
    "## Exercícios"
   ]
  },
  {
   "cell_type": "markdown",
   "metadata": {},
   "source": [
    "#### 1)  Neste exercício, você irá plotar a superfície de erro e encontrar a solução ótima para o problema da regressão linear utilizando a equação normal.\n",
    "\n",
    "Dada a seguinte **função observável**\n",
    "\n",
    "$$y_{noisy}(n) = y(n) + w(n),$$\n",
    "\n",
    "onde $w$ é um vetor coluna com $N = 1000$ (ou seja, o número de exemplos) valores retirados de uma distribuição aleatória Gaussiana com média 0 e variância igual a 1 e $y$ é a **função objetivo** (ou **modelo gerador**). Neste exercício, a **função objetivo** é dada por:\n",
    "\n",
    "$$y(n) = x_1(n) + x_2(n),  $$\n",
    "\n",
    "onde $x_1$ é um vetor coluna com $N$ valores retirados de uma **distribuição aleatória uniformemente distribuída** no intervalo de $0$ a $1$ e $x_2$ é outro vetor coluna com $N$ valores retirados de uma **distribuição aleatória uniformemente distribuída** no intervalo de $0$ a $100$.\n",
    "\n",
    "A **função hipótese** para este exercício deve ser\n",
    "\n",
    "$$h(n) = a_1 x_1(n) + a_2 x_2(n).$$\n",
    "\n",
    "**DICAS**:\n",
    "\n",
    "+ A biblioteca `numpy` fornece uma função chamada `rand` para geração de valores aleatórios retirados de uma distribuição uniforme. Seu uso é idêntico ao da função `randn`, a qual gera valores retirados de uma distribuição Gaussiana Normal Padrão. O código abaixo gera um vetor coluna com 100 linhas e 1 coluna com valores retirados de uma distribuição uniforme no intervalo de $0$ a $100$.\n",
    "```python\n",
    "import numpy as np\n",
    "x = 100*np.random.rand(100,1)\n",
    "```\n",
    "+ Para resolver as questões deste exercício, se baseie no código do exemplo número 2 dos slides: `error_surface_example2.ipynb`.\n",
    "+ Use a função mágica `%matplotlib notebook` para que as figuras plotadas sejam interativas.\n",
    "\n",
    "De posse destas informações, faça o seguinte:\n",
    "\n",
    "1. Gere e plote a **função observável**, $y_{noisy}$, em função dos atributos $x_1$ e $x_2$. Note que este será um gráfico 3D."
   ]
  },
  {
   "cell_type": "code",
   "execution_count": 1,
   "metadata": {},
   "outputs": [],
   "source": [
    "# Digite aqui o código do exercício."
   ]
  },
  {
   "cell_type": "markdown",
   "metadata": {},
   "source": [
    "2. Encontre a solução ótima para este problema de regressão linear utilizando a **equação normal**. Imprima os valores encontrados para os **pesos**, $a_1$ e $a_2$, e o valor do **erro quadrátio médio** com a solução ótima."
   ]
  },
  {
   "cell_type": "code",
   "execution_count": 1,
   "metadata": {},
   "outputs": [],
   "source": [
    "# Digite aqui o código do exercício."
   ]
  },
  {
   "cell_type": "markdown",
   "metadata": {},
   "source": [
    "3. Plote a **superfície de erro**. Note que este também será um gráfico 3D.\n",
    "\n",
    "**DICAS**: \n",
    "\n",
    "+ Use a função `calculateErrorSurface` do exemplo 2 para calcular os valores necessários para plotar a superfície de erro.\n",
    "\n",
    "+ Para plotar a superfície de erro, faça $a_1$ e $a_2$ variarem de $-4$ até $6$. Altere esses valores na definição da função `calculateErrorSurface`."
   ]
  },
  {
   "cell_type": "code",
   "execution_count": 2,
   "metadata": {},
   "outputs": [],
   "source": [
    "# Digite aqui o código do exercício."
   ]
  },
  {
   "cell_type": "markdown",
   "metadata": {},
   "source": [
    "4. Plote a **superfície de contorno** indicando o ponto da solução ótima encontrada com a equação normal."
   ]
  },
  {
   "cell_type": "code",
   "execution_count": 4,
   "metadata": {},
   "outputs": [],
   "source": [
    "# Digite aqui o código do exercício."
   ]
  },
  {
   "cell_type": "markdown",
   "metadata": {},
   "source": [
    "5. Compare a superfície de contorno acima com a mostrada no exemplo 2 dos slides. Qual a diferença entre as duas superfícies? Você consegue explicar o motivo desta diferença?\n",
    "\n",
    "**DICA**:\n",
    "\n",
    "+ Verifiquem o intervalo de variação dos atributos x1 e x2.\n",
    "+ Veja o slide número 15: ***Formatos diferentes para a superfície de erro***, da parte I sobre regressão."
   ]
  },
  {
   "cell_type": "markdown",
   "metadata": {},
   "source": [
    "##### Escreva aqui sua resposta."
   ]
  },
  {
   "cell_type": "markdown",
   "metadata": {},
   "source": [
    "6. Plote a **função observável**, $y_{noisy}$, em função dos atributos $x_1$ e $x_2$ juntamente com o **hiperplano** encontrado com a **equação normal**. Note que este será um gráfico 3D. "
   ]
  },
  {
   "cell_type": "code",
   "execution_count": 5,
   "metadata": {},
   "outputs": [],
   "source": [
    "# Digite aqui o código do exercício."
   ]
  },
  {
   "cell_type": "markdown",
   "metadata": {},
   "source": [
    "7. O que aconteceria com o **erro quadrático médio** obtido com a função hipótese caso o ruído adicionado à função objetivo (ou modelo gerador) tivesse uma variância igual a $0.1$ ao invés de $1$? Imprima o valor do erro após essa mudança. Repita na célula abaixo apenas a parte do código que for necessária para se gerar o vetor de ruído com a nova variância.\n",
    "\n",
    "**DICAS**:\n",
    "\n",
    "+ O vetor de ruído com variância igual a $0.1$ é gerado como mostrado abaixo:\n",
    "```python\n",
    "w = np.sqrt(0.1)*np.random.randn(N,1)\n",
    "```\n",
    "+ Na sequência, re-utilizando o vetor $y$ (modelo gerador), gere a função observável, $y_{noisy}$, da seguinte forma:\n",
    "```python\n",
    "y_noisy = y + w\n",
    "```\n",
    "+ Em seguida, encontre a solução ótima (ou seja, os valores dos pesos) com a equação normal.\n",
    "```python\n",
    "a_opt = np.linalg.pinv(np.transpose(X).dot(X)).dot(np.transpose(X).dot(y_noisy))\n",
    "```\n",
    "+ Finalmente, de posse do vetor de pesos, `a_opt`, e da matriz de atributos `X`, calcule o erro quadrático médio da seguinte forma:\n",
    "```python\n",
    "yhat = X.dot(a_opt)\n",
    "Je_optimum = (1.0/N)*np.sum(np.power((y_noisy - yhat), 2))\n",
    "```"
   ]
  },
  {
   "cell_type": "code",
   "execution_count": 6,
   "metadata": {},
   "outputs": [],
   "source": [
    "# Digite aqui o código do exercício."
   ]
  },
  {
   "cell_type": "markdown",
   "metadata": {},
   "source": [
    "8. Houve diferença no erro obtido com este novo vetor de ruído? O que você pode concluir com base neste resultado?\n",
    "\n",
    "**DICA**:\n",
    "+ Compare o valor do erro quadrático médio com a variância do ruído. Eles são próximos?\n",
    "+ Veja o slide número 11: ***Regressão Linear em Python***, da parte I sobre regressão."
   ]
  },
  {
   "cell_type": "markdown",
   "metadata": {},
   "source": [
    "##### Escreva aqui sua resposta."
   ]
  }
 ],
 "metadata": {
  "kernelspec": {
   "display_name": "Python 3",
   "language": "python",
   "name": "python3"
  },
  "language_info": {
   "codemirror_mode": {
    "name": "ipython",
    "version": 3
   },
   "file_extension": ".py",
   "mimetype": "text/x-python",
   "name": "python",
   "nbconvert_exporter": "python",
   "pygments_lexer": "ipython3",
   "version": "3.7.7"
  }
 },
 "nbformat": 4,
 "nbformat_minor": 4
}
