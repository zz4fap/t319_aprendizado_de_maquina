{
 "cells": [
  {
   "cell_type": "markdown",
   "metadata": {},
   "source": [
    "# Laboratório #2\n",
    "\n",
    "### Instruções\n",
    "\n",
    "1. Antes de começar, você deve clicar na opção \"Copiar para o Drive\" na barra superior do Colab. Depois de clicar nela, verifique se você está trabalhando nessa versão do notebook para que seu trabalho seja salvo.\n",
    "2. Quando você terminar os exercícios do laboratório, vá ao menu do Colab ou Jupyter e selecione a opção para fazer download do notebook.\n",
    "    * Os notebooks tem extensão .ipynb. \n",
    "    * Este deve ser o arquivo que você irá entregar.\n",
    "    * No Colab vá até a opção **File** -> **Download .ipynb**.\n",
    "    * No Jupyter vá até a opção **File** -> **Download as** -> **Notebook (.ipynb)**.\n",
    "3. Após o download do notebook, vá até a aba de tarefas do MS Teams, localize a tarefa referente a este laboratório e faça o upload do seu notebook. Veja que há uma opção de anexar arquivos à tarefa.\n",
    "4. Não se esqueça de colocar seu **nome** e **matrícula** na célula de texto abaixo."
   ]
  },
  {
   "cell_type": "markdown",
   "metadata": {},
   "source": [
    "**Nome**:\n",
    "\n",
    "**Matrícula**:"
   ]
  },
  {
   "cell_type": "markdown",
   "metadata": {},
   "source": [
    "## Exercícios"
   ]
  },
  {
   "cell_type": "markdown",
   "metadata": {},
   "source": [
    "#### 1) Neste exercício, você irá encontrar a solução ótima para um problema de regressão linear utilizando a equação normal implementada manualmente e através da biblioteca SciKit-Learn.\n",
    "\n",
    "Dada a seguinte **função observável**\n",
    "\n",
    "$$y_{noisy}(n) = y(n) + w(n),$$\n",
    "\n",
    "onde $w$ é um vetor coluna com $N = 100$ (ou seja, o número de exemplos) valores retirados de uma distribuição aleatória Gaussiana com média 0 e variância igual a 1 e $y$ é a **função objetivo** (ou **modelo gerador**). Neste exercício, a **função objetivo** é dada por:\n",
    "\n",
    "$$y(n) = 2 - 1.5x(n),  $$\n",
    "\n",
    "onde $x$ é um vetor coluna com $N$ valores retirados de uma **distribuição aleatória uniformemente distribuída** no intervalo de $0$ a $5$.\n",
    "\n",
    "A **função hipótese** para este exercício deve ser\n",
    "\n",
    "$$h(n) = \\hat{a}_0 + \\hat{a}_1 x(n).$$\n",
    "\n",
    "**DICAS**:\n",
    "\n",
    "+ A biblioteca `numpy` fornece uma função chamada `rand` para geração de valores aleatórios retirados de uma distribuição uniforme. Seu uso é idêntico ao da função `randn`, a qual gera valores retirados de uma distribuição Gaussiana Normal Padrão. O código abaixo gera um vetor coluna com 100 linhas e 1 coluna com valores retirados de uma distribuição uniforme no intervalo de $0$ a $100$.\n",
    "```python\n",
    "import numpy as np\n",
    "x = 100*np.random.rand(100,1)\n",
    "```\n",
    "+ O exemplo abaixo mostra como gerar um vetor coluna com 100 linhas e 1 coluna com a função `randn`\n",
    "```python\n",
    "import numpy as np\n",
    "x = np.random.randn(100,1)\n",
    "```\n",
    "+ Para resolver as questões deste exercício, se baseie no código do seguinte exemplo: [normal_equation_example1.ipynb](https://colab.research.google.com/github/zz4fap/t319_aprendizado_de_maquina/blob/master/notebooks/regression/normal_equation_example1.ipynb)."
   ]
  },
  {
   "cell_type": "markdown",
   "metadata": {},
   "source": [
    "De posse destas informações, faça o seguinte:\n",
    "\n",
    "1. Gere e plote a **função observável**, $y_{noisy}$, em função do atributo $x$. No gráfico, plote também a **função objetivo** para que possamos compará-la com a **função observável** ."
   ]
  },
  {
   "cell_type": "code",
   "execution_count": 12,
   "metadata": {},
   "outputs": [],
   "source": [
    "# Digite aqui o código do exercício."
   ]
  },
  {
   "cell_type": "markdown",
   "metadata": {},
   "source": [
    "2. Implemente **manualmente** a equação normal (i.e., usando funções da biblioteca NumPy) para que possamos encontrar os pesos da função hipótese. Na sequência, imprima os valores dos pesos $\\hat{a}_0$ e $\\hat{a}_1$ e do erro quadrático médio.\n",
    "\n",
    "**DICA**:\n",
    "+ Para resolver este exercício, verifique o código do exemplo: [normal_equation_example1.ipynb](https://colab.research.google.com/github/zz4fap/t319_aprendizado_de_maquina/blob/master/notebooks/regression/normal_equation_example1.ipynb)."
   ]
  },
  {
   "cell_type": "code",
   "execution_count": 13,
   "metadata": {},
   "outputs": [],
   "source": [
    "# Digite aqui o código do exercício."
   ]
  },
  {
   "cell_type": "markdown",
   "metadata": {},
   "source": [
    "3. Use a implementação da equação normal, feita pela biblioteca SciKit-Learn, para que possamos encontrar os pesos da função hipótese. Na sequência, imprima os valores dos pesos $\\hat{a}_0$ e $\\hat{a}_1$ e do erro quadrático médio.\n",
    "\n",
    "**DICAS**:\n",
    "+ Para resolver este exercício, verifique o código do exemplo: [normal_equation_example1.ipynb](https://colab.research.google.com/github/zz4fap/t319_aprendizado_de_maquina/blob/master/notebooks/regression/normal_equation_example1.ipynb).\n",
    "+ Não se esqueça de importar a classe `LinearRegression` da biblioteca SciKit-Learn.\n",
    "+ Para mais informações sobre a classe `LinearRegression` da biblioteca SciKit-Learn, acesse sua documentação através do seguinte link: https://scikit-learn.org/stable/modules/generated/sklearn.linear_model.LinearRegression.html"
   ]
  },
  {
   "cell_type": "code",
   "execution_count": 14,
   "metadata": {},
   "outputs": [],
   "source": [
    "# Digite aqui o código do exercício."
   ]
  },
  {
   "cell_type": "markdown",
   "metadata": {},
   "source": [
    "4. Plote um gráfico comparando a **função objetivo**, a **função observável** e as **aproximações** encontradas com a equação normal implementadas manualmente e pela biblioteca SciKit-Learn. "
   ]
  },
  {
   "cell_type": "code",
   "execution_count": 15,
   "metadata": {},
   "outputs": [],
   "source": [
    "# Digite aqui o código do exercício."
   ]
  },
  {
   "cell_type": "markdown",
   "metadata": {},
   "source": [
    "5. Os valores dos pesos $\\hat{a}_0$ e $\\hat{a}_1$ encontrados através das implementações manual e SciKit-Learn não são exatamente iguais aos valores dos pesos do modelo gerador (ou seja, da função objetivo). De posse desta afirmação, responda:\n",
    "\n",
    "    + Qual é o motivo desta diferença?\n",
    "\n",
    "    + O que pode ser feito para que os valores estimados dos pesos fiquem mais próximos dos valores do modelo gerador?\n",
    "    \n",
    "    + Conseguiríamos encontrar os valores exatos dos pesos se tivéssemos infinitas amostras (**Justifique**)?"
   ]
  },
  {
   "cell_type": "markdown",
   "metadata": {},
   "source": [
    "<span style=\"color:blue\">Escreva aqui a resposta do exercício.</span>\n",
    "\n",
    "**Resposta**"
   ]
  },
  {
   "cell_type": "markdown",
   "metadata": {},
   "source": [
    "6. Gere a **função observável**, $y_{noisy}$, em função do atributo $x$, mas agora com $N=10000$, ou seja, crie um conjunto com 10000 exemplos. Em seguida, encontre e imprima os valores dos pesos e do erro quadrático médio usando a implementação **manual** da equação normal."
   ]
  },
  {
   "cell_type": "code",
   "execution_count": 16,
   "metadata": {},
   "outputs": [],
   "source": [
    "# Digite aqui o código do exercício."
   ]
  },
  {
   "cell_type": "markdown",
   "metadata": {},
   "source": [
    "7. Compare os valores dos pesos obtidos com 100 e 10000 exemplos com os valores do **modelo gerador**. Agora responda:\n",
    "\n",
    "    + Para qual número de exemplos os valores dos pesos são mais próximos dos do modelo gerador? \n",
    "    \n",
    "    + Por que esses valores, mesmo com 10000 exemplos, ainda não são idênticos aos do **modelo gerador**?"
   ]
  },
  {
   "cell_type": "markdown",
   "metadata": {},
   "source": [
    "<span style=\"color:blue\">Escreva aqui a resposta do exercício.</span>\n",
    "\n",
    "**Resposta**"
   ]
  },
  {
   "cell_type": "markdown",
   "metadata": {},
   "source": [
    "#### 2)  Neste exercício, você irá plotar a superfície de erro e encontrar a solução ótima para um problema da regressão linear utilizando a equação normal.\n",
    "\n",
    "Dada a seguinte **função observável**\n",
    "\n",
    "$$y_{noisy}(n) = y(n) + w(n),$$\n",
    "\n",
    "onde $w$ é um vetor coluna com $N = 1000$ (ou seja, o número de exemplos) valores retirados de uma distribuição aleatória Gaussiana com média 0 e variância igual a 1 e $y$ é a **função objetivo** (ou **modelo gerador**). Neste exercício, a **função objetivo** é dada por:\n",
    "\n",
    "$$y(n) = x_1(n) + x_2(n),  $$\n",
    "\n",
    "onde $x_1$ é um vetor coluna com $N$ valores retirados de uma **distribuição aleatória uniformemente distribuída** no intervalo de $0$ a $1$ e $x_2$ é outro vetor coluna com $N$ valores retirados de uma **distribuição aleatória uniformemente distribuída** no intervalo de $0$ a $100$.\n",
    "\n",
    "A **função hipótese** para este exercício deve ser\n",
    "\n",
    "$$h(n) = \\hat{a}_1 x_1(n) + \\hat{a}_2 x_2(n).$$\n",
    "\n",
    "**DICAS**:\n",
    "\n",
    "+ A biblioteca `numpy` fornece uma função chamada `rand` para geração de valores aleatórios retirados de uma distribuição uniforme. Seu uso é idêntico ao da função `randn`, a qual gera valores retirados de uma distribuição Gaussiana Normal Padrão. O código abaixo gera um vetor coluna com 100 linhas e 1 coluna com valores retirados de uma distribuição uniforme no intervalo de $0$ a $100$.\n",
    "```python\n",
    "import numpy as np\n",
    "x = 100*np.random.rand(100,1)\n",
    "```\n",
    "+ O exemplo abaixo mostra como gerar um vetor coluna com 100 linhas e 1 coluna com a função `randn`\n",
    "```python\n",
    "import numpy as np\n",
    "x = np.random.randn(100,1)\n",
    "```\n",
    "+ Para resolver as questões deste exercício, se baseie no código do seguinte exemplo: [error_surface_example2.ipynb](https://colab.research.google.com/github/zz4fap/t319_aprendizado_de_maquina/blob/master/notebooks/regression/error_surface_example2.ipynb).\n",
    "+ Use a função mágica `%matplotlib notebook` na célula de código abaixo para que as figuras plotadas sejam interativas e você as possa visualizar de ângulos diferentes. \n",
    "\n",
    "**OBS**.: A função mágica `notebook` não funciona com o Google Colab, para visualizar a figura de forma iterativa, execute o notebook deste laboratório localmente ou no binder através do link: [Laboratório 2](https://mybinder.org/v2/gh/zz4fap/t319_aprendizado_de_maquina/main?filepath=labs%2FLaboratorio2.ipynb).\n",
    "\n",
    "\n",
    "De posse destas informações, faça o seguinte:\n",
    "\n",
    "1. Gere e plote a **função observável**, $y_{noisy}$, em função dos atributos $x_1$ e $x_2$. \n",
    "\n",
    "**DICAS**:\n",
    "\n",
    "+ Note que este será um gráfico 3D.\n",
    "+ Se baseie no código do seguinte exemplo para resolver este item: [error_surface_example2.ipynb](https://colab.research.google.com/github/zz4fap/t319_aprendizado_de_maquina/blob/master/notebooks/regression/error_surface_example2.ipynb)."
   ]
  },
  {
   "cell_type": "code",
   "execution_count": 6,
   "metadata": {},
   "outputs": [],
   "source": [
    "# Digite aqui o código do exercício."
   ]
  },
  {
   "cell_type": "markdown",
   "metadata": {},
   "source": [
    "2. Encontre a solução ótima para este problema de regressão linear utilizando a **equação normal**. Em seguida, imprima os valores encontrados para os **pesos**, $\\hat{a}_1$ e $\\hat{a}_2$, e o valor do **erro quadrático médio** com a solução ótima.\n",
    "\n",
    "**DICAS**:\n",
    "\n",
    "+ Você pode usar a equação normal implementada manualmente ou usar a classe `LinearRegression` para encontrar a solução ótima.\n",
    "+ Se baseie no código do seguinte exemplo para resolver este item: [error_surface_example2.ipynb](https://colab.research.google.com/github/zz4fap/t319_aprendizado_de_maquina/blob/master/notebooks/regression/error_surface_example2.ipynb)."
   ]
  },
  {
   "cell_type": "code",
   "execution_count": 7,
   "metadata": {},
   "outputs": [],
   "source": [
    "# Digite aqui o código do exercício."
   ]
  },
  {
   "cell_type": "markdown",
   "metadata": {},
   "source": [
    "3. Plote a **superfície de erro**.\n",
    "\n",
    "**DICAS**: \n",
    "\n",
    "+ Note que este também será um gráfico 3D.\n",
    "\n",
    "+ Use a função `calculateErrorSurface` do exemplo [error_surface_example2.ipynb](https://colab.research.google.com/github/zz4fap/t319_aprendizado_de_maquina/blob/master/notebooks/regression/error_surface_example2.ipynb) para calcular os valores necessários para plotar a superfície de erro.\n",
    "\n",
    "+ Para plotar a superfície de erro, faça $a_1$ e $a_2$ variarem de $-4$ até $6$. Altere esses valores na definição da função `calculateErrorSurface`.\n",
    "\n",
    "+ Se baseie no código do seguinte exemplo para resolver este item: [error_surface_example2.ipynb](https://colab.research.google.com/github/zz4fap/t319_aprendizado_de_maquina/blob/master/notebooks/regression/error_surface_example2.ipynb)."
   ]
  },
  {
   "cell_type": "code",
   "execution_count": 8,
   "metadata": {},
   "outputs": [],
   "source": [
    "# Digite aqui o código do exercício."
   ]
  },
  {
   "cell_type": "markdown",
   "metadata": {},
   "source": [
    "4. Plote a **superfície de contorno** indicando o ponto da solução ótima encontrada com a equação normal.\n",
    "\n",
    "**DICAS**: \n",
    "\n",
    "+ Se baseie no código do seguinte exemplo para resolver este item: [error_surface_example2.ipynb](https://colab.research.google.com/github/zz4fap/t319_aprendizado_de_maquina/blob/master/notebooks/regression/error_surface_example2.ipynb)."
   ]
  },
  {
   "cell_type": "code",
   "execution_count": 17,
   "metadata": {},
   "outputs": [],
   "source": [
    "# Digite aqui o código do exercício."
   ]
  },
  {
   "cell_type": "markdown",
   "metadata": {},
   "source": [
    "5. Compare a superfície de contorno acima com a mostrada no exemplo [error_surface_example2.ipynb](https://colab.research.google.com/github/zz4fap/t319_aprendizado_de_maquina/blob/master/notebooks/regression/error_surface_example2.ipynb). Em seguida, responda:\n",
    "\n",
    "    + Qual a diferença entre as duas superfícies (comparem o formato das duas superfícies)? \n",
    "    \n",
    "    + Qual o motivo desta diferença entre as duas superfícies?\n",
    "\n",
    "**DICAS**:\n",
    "\n",
    "+ Verifiquem o intervalo de variação dos atributos $x_1$ e $x_2$. Percebam que eles são diferentes. O atributo $x_2$ tem um intervalo de variação maior do que o do atributo $x_1$.\n",
    "+ Para entender o motivo desta diferença de formatos da superfície de erro, por favor, leia o documento: [Variações do formato da superfície de erro](https://github.com/zz4fap/t319_aprendizado_de_maquina/blob/main/slides/T319_Regress%C3%A3o_Linear%20(Varia%C3%A7%C3%B5es%20do%20formato%20da%20superf%C3%ADcie%20de%20erro).pdf)"
   ]
  },
  {
   "cell_type": "markdown",
   "metadata": {},
   "source": [
    "<span style=\"color:blue\">Escreva aqui a resposta do exercício.</span>\n",
    "\n",
    "**Resposta**"
   ]
  },
  {
   "cell_type": "markdown",
   "metadata": {},
   "source": [
    "6. Plote a **função observável**, $y_{noisy}$, em função dos atributos $x_1$ e $x_2$ juntamente com o **hiperplano** encontrado com a **equação normal**.\n",
    "\n",
    "**DICAS**: \n",
    "\n",
    "+ Note que este também será um gráfico 3D. \n",
    "+ Se baseie no código do seguinte exemplo para resolver este item: [error_surface_example2.ipynb](https://colab.research.google.com/github/zz4fap/t319_aprendizado_de_maquina/blob/master/notebooks/regression/error_surface_example2.ipynb)."
   ]
  },
  {
   "cell_type": "code",
   "execution_count": 10,
   "metadata": {},
   "outputs": [],
   "source": [
    "# Digite aqui o código do exercício."
   ]
  },
  {
   "cell_type": "markdown",
   "metadata": {},
   "source": [
    "7. O que aconteceria com o **erro quadrático médio** obtido com a função hipótese caso o ruído adicionado à função objetivo (ou modelo gerador) tivesse uma variância igual a $0.1$ ao invés de $1$? Imprima o valor do erro após essa mudança. Repita na célula abaixo apenas a parte do código que for necessária para se gerar o vetor de ruído com a nova variância.\n",
    "\n",
    "**DICAS**:\n",
    "\n",
    "+ O vetor de ruído com variância igual a $0.1$ é gerado como mostrado abaixo:\n",
    "```python\n",
    "w = np.sqrt(0.1)*np.random.randn(N,1)\n",
    "```\n",
    "+ Na sequência, re-utilizando o vetor $y$ (modelo gerador), gere a função observável, $y_{noisy}$, da seguinte forma:\n",
    "```python\n",
    "y_noisy = y + w\n",
    "```\n",
    "+ Em seguida, encontre a solução ótima (ou seja, os valores dos pesos) com a equação normal.\n",
    "```python\n",
    "a_opt = np.linalg.pinv(np.transpose(X).dot(X)).dot(np.transpose(X).dot(y_noisy))\n",
    "```\n",
    "+ Finalmente, de posse do vetor de pesos, `a_opt`, e da matriz de atributos `X`, calcule o erro quadrático médio da seguinte forma:\n",
    "```python\n",
    "yhat = X.dot(a_opt)\n",
    "Je_optimum = (1.0/N)*np.sum(np.power((y_noisy - yhat), 2))\n",
    "```"
   ]
  },
  {
   "cell_type": "code",
   "execution_count": 11,
   "metadata": {},
   "outputs": [],
   "source": [
    "# Digite aqui o código do exercício."
   ]
  },
  {
   "cell_type": "markdown",
   "metadata": {},
   "source": [
    "8. Houve diferença no erro obtido com este novo vetor de ruído? O que você pode concluir com base neste resultado?\n",
    "\n",
    "**DICAS**:\n",
    "+ Compare o valor do erro quadrático médio com a variância do ruído. Eles são próximos?\n",
    "+ Leiam as observações que se encontram ao final do exemplo: [normal_equation_example1.ipynb](https://colab.research.google.com/github/zz4fap/t319_aprendizado_de_maquina/blob/master/notebooks/regression/normal_equation_example1.ipynb)."
   ]
  },
  {
   "cell_type": "markdown",
   "metadata": {},
   "source": [
    "<span style=\"color:blue\">Escreva aqui a resposta do exercício.</span>\n",
    "\n",
    "**Resposta**"
   ]
  }
 ],
 "metadata": {
  "kernelspec": {
   "display_name": "Python 3 (ipykernel)",
   "language": "python",
   "name": "python3"
  },
  "language_info": {
   "codemirror_mode": {
    "name": "ipython",
    "version": 3
   },
   "file_extension": ".py",
   "mimetype": "text/x-python",
   "name": "python",
   "nbconvert_exporter": "python",
   "pygments_lexer": "ipython3",
   "version": "3.10.9"
  }
 },
 "nbformat": 4,
 "nbformat_minor": 4
}
