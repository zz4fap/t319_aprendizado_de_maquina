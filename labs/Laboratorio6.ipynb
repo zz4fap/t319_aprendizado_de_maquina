{
 "cells": [
  {
   "cell_type": "markdown",
   "metadata": {},
   "source": [
    "# Laboratório #6\n",
    "\n",
    "### Instruções\n",
    "\n",
    "1. Quando você terminar os exercícios do laboratório, vá ao menu do Jupyter ou Colab e selecione a opção para fazer download do notebook.\n",
    "    * Os notebooks tem extensão .ipynb. \n",
    "    * Este deve ser o arquivo que você irá entregar.\n",
    "    * No Jupyter vá até a opção **File** -> **Download as** -> **Notebook (.ipynb)**.\n",
    "    * No Colab vá até a opção **File** -> **Download .ipynb**.\n",
    "2. Após o download do notebook, vá até a aba de tarefas do MS Teams, localize a tarefa referente a este laboratório e faça o upload do seu notebook. Veja que há uma opção de anexar arquivos à tarefa.\n",
    "3. Não se esqueça de colocar seu **nome** e **matrícula** na célula de texto abaixo."
   ]
  },
  {
   "cell_type": "markdown",
   "metadata": {},
   "source": [
    "**Nome**:\n",
    "\n",
    "**Matrícula**:"
   ]
  },
  {
   "cell_type": "markdown",
   "metadata": {},
   "source": [
    "## Exercícios"
   ]
  },
  {
   "cell_type": "markdown",
   "metadata": {},
   "source": [
    "#### 1)  Neste exercício, iremos utilizar duas das estratégias de validação cruzada para encontrar a ordem ideal para uma função hipótese polinomial que será usada para aproximar um conjunto de dados ruidoso.\n",
    "\n",
    "Dada a seguinte **função observável**\n",
    "\n",
    "$$y_{noisy}(n) = y(n) + w(n),$$\n",
    "\n",
    "onde $w$ é vetor coluna com $N = 1000$ (ou seja, o número de exemplos) valores retirados de uma distribuição aleatória Gaussiana com média igual a 0 e variância igual a 9 e $y$ é a **função objetivo**. Neste exercício, a **função objetivo** (ou **modelo gerador**) é dada por:\n",
    "\n",
    "$$y(n) = 31.5 + 2.0x + 10\\cos(2\\pi f_{0}x),  $$\n",
    "\n",
    "onde $x$ é um vetor coluna com $N$ valores linearmente espaçados entre 0 e 25.\n",
    "\n",
    "A **função hipótese** para este exercício é **polinomial** e tem a seguinte forma\n",
    "\n",
    "$$h(n) = a_0 + a_1 x(n) + a_2 x(n)^2 + \\cdots + a_M x(n)^M.$$\n",
    "\n",
    "A tarefa aqui é encontrar os pesos e o valor ideal para $M$, ou seja, a ordem da função hipótese polinomial de tal forma que ela consiga aproximar bem os dados observados.\n",
    "\n",
    "**DICAS**:\n",
    "\n",
    "+ Para resolver as questões deste laboratório, se baseie no código do seguinte exemplo: [validacao_cruzada.ipynb](https://colab.research.google.com/github/zz4fap/t319_aprendizado_de_maquina/blob/master/notebooks/regression/validacao_cruzada.ipynb).\n",
    "+ Todas as funções usadas para gerar gráficos neste laboratório estão definidas no arquivo `lab6_functions.py`, que se encontra na mesma pasta que este notebook."
   ]
  },
  {
   "cell_type": "markdown",
   "metadata": {},
   "source": [
    "De posse destas informações, faça o seguinte:\n",
    "\n",
    "1. Execute o trecho de código abaixo e analise os resultados gerados.\n",
    "\n",
    "**DICAS**\n",
    "\n",
    "+ A execução da célula de código abaixo leva um certo tempo, pois é necessário baixar o repositório do github."
   ]
  },
  {
   "cell_type": "code",
   "execution_count": null,
   "metadata": {},
   "outputs": [],
   "source": [
    "# Import all the necessary libraries.\n",
    "import numpy as np\n",
    "import timeit\n",
    "import matplotlib.pyplot as plt\n",
    "from sklearn.preprocessing import PolynomialFeatures\n",
    "from sklearn.linear_model import LinearRegression\n",
    "from sklearn.preprocessing import StandardScaler\n",
    "from sklearn.pipeline import Pipeline\n",
    "from sklearn.metrics import mean_squared_error\n",
    "from sklearn.model_selection import train_test_split\n",
    "from sklearn.model_selection import cross_val_score\n",
    "from sklearn.model_selection import KFold\n",
    "from sklearn.model_selection import LeavePOut\n",
    "import urllib\n",
    "# Retrieve file.\n",
    "url = 'https://raw.githubusercontent.com/zz4fap/t319_aprendizado_de_maquina/main/labs/lab6_functions.py'\n",
    "urllib.request.urlretrieve(url, filename='./lab6_functions.py')\n",
    "import lab6_functions as lab6\n",
    "\n",
    "# Reset PN sequence generator.\n",
    "seed = 42\n",
    "np.random.seed(seed)\n",
    "\n",
    "# Number of examples.\n",
    "N = 1000\n",
    "\n",
    "# Frequency of the sinusoidal signal.\n",
    "f0 = 200\n",
    "\n",
    "# Attribute.\n",
    "x = np.linspace(0, 25, N).reshape(N, 1)\n",
    "\n",
    "# True model.\n",
    "y = 31.5 + 2.0*x + 10.0*np.cos(2.0*np.pi*f0*x)\n",
    "\n",
    "# Noise.\n",
    "w = 3*np.random.randn(N,1)\n",
    "\n",
    "# Observable function.\n",
    "y_noisy = y + w\n",
    "\n",
    "# Plot comparison between true and noisy model.\n",
    "plt.plot(x, y_noisy, '.', label='Noisy signal')\n",
    "plt.plot(x, y, linewidth=4, label='True signal')\n",
    "plt.xlabel('$x$', fontsize=14)\n",
    "plt.ylabel('$y$', fontsize=14)\n",
    "plt.grid()\n",
    "plt.legend()\n",
    "plt.show()"
   ]
  },
  {
   "cell_type": "markdown",
   "metadata": {},
   "source": [
    "2. Usando a estratégia de validação cruzada conhecida como **holdout**, encontre a ordem ideal para que uma função hipótese polinomial aproxime bem o conjunto de dados gerado no exercício anterior. Para avaliar qual é a ordem ideal para o polinômio aproximador, plote a curva do erro quadrático médio (MSE) versus a ordem do polinômio.\n",
    "\n",
    "**DICAS**\n",
    "+ Use o **holdout** com 70% do conjunto original para treinamento e 30% para validação.\n",
    "+ Analise polinômios com ordens variando de 1 até 30 **incluso**.\n",
    "+ Configure o parâmetro `include_bias` para `True`, ou seja, `include_bias=True`.\n",
    "+ Use a função `plotHoldOutResults` do módulo `lab6_functions` que foi importado como `lab6` para plotar os resultados obtidos com o **holdout**. A função espera 3 parâmetros de entrada, na seguinte sequência: \n",
    "    * **poly_orders**: lista com as ordens dos polinômios sendo testados.\n",
    "    * **mse_train_vec**: lista com os valores do MSE obtido com o conjunto de treinamento para cada uma das ordens testadas.\n",
    "    * **mse_val_vec**: lista com os valores do MSE obtido com o conjunto de validação para cada uma das ordens testadas."
   ]
  },
  {
   "cell_type": "code",
   "execution_count": null,
   "metadata": {},
   "outputs": [],
   "source": [
    "# Digite o código do exercício aqui."
   ]
  },
  {
   "cell_type": "markdown",
   "metadata": {},
   "source": [
    "3. Usando a estratégia de validação cruzada conhecida como **k-Fold**, encontre a ordem ideal para que uma função hipótese polinomial aproxime bem o conjunto de dados gerado no exercício anterior. Para avaliar qual é a ordem ideal para o polinômio aproximador, plote as curvas da média do erro quadrático médio (MSE) de validação versus a ordem do polinômio e do desvio padrão versus a ordem do polinômio.\n",
    "\n",
    "**DICAS**\n",
    "+ Use o **k-Fold** com **k** igual a 5.\n",
    "+ Configure o parâmetro `shuffle` da classe `KFold` como `True`, ou seja, `shuffle=True`.\n",
    "+ Analise polinômios com ordens variando de 1 até 30 **incluso**.\n",
    "+ Configure o parâmetro `include_bias` para `True`, ou seja, `include_bias=True`.\n",
    "+ Use a função `plotKFoldResults` do módulo `lab6_functions` que foi importado como `lab6` para plotar os resultados obtidos com o **holdout**. A função espera 3 parâmetros de entrada, na seguinte sequência: \n",
    "    * **poly_orders**: lista com as ordens dos polinômios sendo testados.\n",
    "    * **kfold_mean_vec**: lista com os valores da média do MSE obtidos para cada ordem testada.\n",
    "    * **kfold_std_vec**: lista com os valores do desvio padrão do MSE obtidos para cada ordem testada."
   ]
  },
  {
   "cell_type": "code",
   "execution_count": null,
   "metadata": {},
   "outputs": [],
   "source": [
    "# Digite o código do exercício aqui."
   ]
  },
  {
   "cell_type": "markdown",
   "metadata": {},
   "source": [
    "4. Após analisar os resultados obtidos com as validações cruzadas do **holdout** e do **k-Fold**, reponda qual é a melhor ordem de polinômio para aproximar os dados. **Justifique sua resposta.**\n",
    "\n",
    "**DICAS**\n",
    "* Lembre-se do princípio da navalha de Occam para escolher a melhor ordem."
   ]
  },
  {
   "cell_type": "markdown",
   "metadata": {},
   "source": [
    "<span style=\"color:blue\">Digite aqui a resposta do exercício.</span>\n",
    "\n",
    "**Resposta**"
   ]
  },
  {
   "cell_type": "markdown",
   "metadata": {},
   "source": [
    "5. Em seguida, de posse da melhor ordem de polinômio que aproxima os dados observados, treine um modelo com esta ordem e faça predições (ou seja, use o modelo treinado para **predizer** os valores de $y$ com os valores de $x$.) com todos os dados observados.\n",
    "\n",
    "**DICAS**\n",
    "\n",
    "* Utilize **padronização de atributos** com a classe `StandardScaler` da biblioteca SciKit-Learn.\n",
    "* Voce pode criar uma sequência de ações (`PolynomialFeatures`, `StandardScaler` e `LinearRegression`) utilizando a classe `Pipeline` da biblioteca SciKit-Learn. Veja o notebook de exemplo."
   ]
  },
  {
   "cell_type": "code",
   "execution_count": null,
   "metadata": {},
   "outputs": [],
   "source": [
    "# Digite o código do exercício aqui."
   ]
  },
  {
   "cell_type": "markdown",
   "metadata": {},
   "source": [
    "6. Plote um gráfico que compare o mapeamento verdadeiro com as versões ruidosa e predita dos dados."
   ]
  },
  {
   "cell_type": "code",
   "execution_count": null,
   "metadata": {},
   "outputs": [],
   "source": [
    "# Digite o código do exercício aqui."
   ]
  },
  {
   "cell_type": "markdown",
   "metadata": {},
   "source": [
    "7. O que aconteceria se você tivesse escolhido uma ordem de polinômio igual a 5? Treine um modelo com ordem igual a 5, faça predições (ou seja, use o modelo treinado para **predizer** os valores de $y$ com os valores de $x$.) com todos os dados observados e, em seguida, plote um gráfico que compare o mapeamento verdadeiro com as versões ruidosa e predita dos dados."
   ]
  },
  {
   "cell_type": "code",
   "execution_count": null,
   "metadata": {},
   "outputs": [],
   "source": [
    "# Digite o código do exercício aqui."
   ]
  },
  {
   "cell_type": "markdown",
   "metadata": {},
   "source": [
    "8. Explique o resultado obtido, ou seja, explique se o modelo foi capaz ou não de aproximar o modelo gerador. **Justifique** sua resposta com base na flexibilidade e no grau de generalização do modelo."
   ]
  },
  {
   "cell_type": "markdown",
   "metadata": {},
   "source": [
    "<span style=\"color:blue\">Digite aqui a resposta do exercício.</span>\n",
    "\n",
    "**Resposta**"
   ]
  }
 ],
 "metadata": {
  "kernelspec": {
   "display_name": "Python 3 (ipykernel)",
   "language": "python",
   "name": "python3"
  },
  "language_info": {
   "codemirror_mode": {
    "name": "ipython",
    "version": 3
   },
   "file_extension": ".py",
   "mimetype": "text/x-python",
   "name": "python",
   "nbconvert_exporter": "python",
   "pygments_lexer": "ipython3",
   "version": "3.9.7"
  }
 },
 "nbformat": 4,
 "nbformat_minor": 4
}
