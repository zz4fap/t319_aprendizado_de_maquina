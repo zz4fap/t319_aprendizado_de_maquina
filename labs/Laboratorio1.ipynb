{
 "cells": [
  {
   "cell_type": "markdown",
   "metadata": {},
   "source": [
    "# Laboratório #1\n",
    "\n",
    "### Instruções\n",
    "\n",
    "1. Quando você terminar os exercícios do laboratório, vá ao menu do Jupyter ou Colab e selecione a opção para fazer download do notebook.\n",
    "    * Os notebooks tem extensão .ipynb. \n",
    "    * Este deve ser o arquivo que você irá entregar.\n",
    "    * No Jupyter vá até a opção **File** -> **Download as** -> **Notebook (.ipynb)**.\n",
    "    * No Colab vá até a opção **File** -> **Download .ipynb**.\n",
    "2. Após o download do notebook, vá até a aba de tarefas do MS Teams, localize a tarefa referente a este laboratório e faça o upload do seu notebook. Veja que há uma opção de anexar arquivos à tarefa."
   ]
  },
  {
   "cell_type": "markdown",
   "metadata": {},
   "source": [
    "**Nome**:\n",
    "\n",
    "**Matrícula**:"
   ]
  },
  {
   "cell_type": "markdown",
   "metadata": {},
   "source": [
    "## Exercícios"
   ]
  },
  {
   "cell_type": "markdown",
   "metadata": {},
   "source": [
    "#### 1)  Copie o código do exemplo `Figura 3D`, presente no material de introdução, e o execute. Cole o código na célula abaixo em seguida, execute-o."
   ]
  },
  {
   "cell_type": "code",
   "execution_count": 1,
   "metadata": {},
   "outputs": [],
   "source": [
    "# Digite aqui o código do exercício."
   ]
  },
  {
   "cell_type": "markdown",
   "metadata": {},
   "source": [
    "#### 2)  Copie o código do exemplo `Histograma`, presente no material de introdução, e o execute. Cole o código na célula abaixo em seguida, execute-o."
   ]
  },
  {
   "cell_type": "code",
   "execution_count": 2,
   "metadata": {},
   "outputs": [],
   "source": [
    "# Digite aqui o código do exercício."
   ]
  },
  {
   "cell_type": "markdown",
   "metadata": {},
   "source": [
    "#### 3)  Neste exercício você irá plotar um gráfico 2D. \n",
    "\n",
    "Este tipo de gráfico é comumente utilizado para se analisar os dados de entrada e saída de um modelo de aprendizado de máquina. Crie um vetor coluna, $y$, com $M = 1000$ elementos, onde $y$ é dado pela seguinte equação\n",
    "\n",
    " $$y = 0.5 + 10x + w,$$\n",
    " \n",
    "onde $x$ é um vetor coluna com $M$ elementos retirados de uma distribuição aleatória uniforme com valores no intervalo em `[0, 1)` e $w$ é um vetor coluna com $M$ elementos retirados de uma **distribuição aleatória Gaussiana normal**, ou seja, com média 0 e variância unitária. \n",
    "\n",
    "Plote um gráfico com os vetores $x$ e $y$ sendo os eixos $x$ e $y$, respectivamente. Cada par de valores $(x,y)$ deve ser mostrado no gráfico como sendo um **ponto**.\n",
    "\n",
    "Após plotar o gráfico e analisá-lo, você acha ser possível encontrar uma **reta** que consiga aproximar (com o menor erro possível) os valores de $y$ dado um valor de $x$ entre 0 e 1?\n",
    "\n",
    "**Dicas**: \n",
    "\n",
    "1. Use o módulo random da biblioteca numpy para gerar números aleatórios: https://docs.scipy.org/doc/numpy-1.14.0/reference/routines.random.html\n",
    "\n",
    "2. Use a biblioteca matplotlib para plotar gráficos: https://matplotlib.org/3.1.3/gallery/lines_bars_and_markers/simple_plot.html"
   ]
  },
  {
   "cell_type": "code",
   "execution_count": 3,
   "metadata": {},
   "outputs": [],
   "source": [
    "# Digite aqui o código do exercício."
   ]
  },
  {
   "cell_type": "markdown",
   "metadata": {},
   "source": [
    "#### 4)  Copie o código do exemplo `Ajuste de curva com Redes Neurais`, presente no material de introdução, e o execute. Cole o código na célula abaixo em seguida, execute-o.\n",
    "\n",
    "**OBSERVAÇÃO**: Veja na figura abaixo que podemos também encontrar aproximações para valores que não podem ser modelados por retas.\n",
    "\n",
    "Neste exemplo, os dados originais foram aproximados através de uma rede neural. As redes neurais são conhecidas como aproximadoras universais de funções. Como veremos, existem outras formas de aproximar os dados."
   ]
  },
  {
   "cell_type": "code",
   "execution_count": 4,
   "metadata": {},
   "outputs": [],
   "source": [
    "# Digite aqui o código do exercício."
   ]
  }
 ],
 "metadata": {
  "kernelspec": {
   "display_name": "Python 3",
   "language": "python",
   "name": "python3"
  },
  "language_info": {
   "codemirror_mode": {
    "name": "ipython",
    "version": 3
   },
   "file_extension": ".py",
   "mimetype": "text/x-python",
   "name": "python",
   "nbconvert_exporter": "python",
   "pygments_lexer": "ipython3",
   "version": "3.7.7"
  }
 },
 "nbformat": 4,
 "nbformat_minor": 4
}
