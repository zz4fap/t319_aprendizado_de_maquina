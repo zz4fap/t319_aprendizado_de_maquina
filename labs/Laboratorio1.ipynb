{
 "cells": [
  {
   "cell_type": "markdown",
   "metadata": {},
   "source": [
    "# Laboratório #1\n",
    "\n",
    "### Instruções\n",
    "\n",
    "1. Quando você terminar os exercícios do laboratório, vá ao menu do Jupyter ou Colab e selecione a opção para fazer download do notebook.\n",
    "    * Os notebooks tem extensão .ipynb. \n",
    "    * Este deve ser o arquivo que você irá entregar.\n",
    "    * No Jupyter vá até a opção **File** -> **Download as** -> **Notebook (.ipynb)**.\n",
    "    * No Colab vá até a opção **File** -> **Download .ipynb**.\n",
    "2. Após o download do notebook, vá até a aba de tarefas do MS Teams, localize a tarefa referente a este laboratório e faça o upload do seu notebook. Veja que há uma opção de anexar arquivos à tarefa."
   ]
  },
  {
   "cell_type": "markdown",
   "metadata": {},
   "source": [
    "**Nome**:\n",
    "\n",
    "**Matrícula**:"
   ]
  },
  {
   "cell_type": "markdown",
   "metadata": {},
   "source": [
    "## Exercícios"
   ]
  },
  {
   "cell_type": "markdown",
   "metadata": {},
   "source": [
    "#### 1)  Neste exercício você irá plotar um gráfico. \n",
    "\n",
    "Este tipo de gráfico é comumente utilizado para se analisar os dados de entrada e saída de um modelo de aprendizado de máquina. \n",
    "\n",
    "Para este exercício, faça o seguinte:\n",
    "\n",
    "1. Crie um vetor coluna, $y$, com $N = 1000$ elementos, o qual é dado pela seguinte equação\n",
    " $$y = 0.5 + 10x + w,$$\n",
    "onde $x$ é um vetor coluna com $N$ elementos retirados de uma **distribuição aleatória uniforme** com valores no intervalo `[0, 1)` e $w$ é um vetor coluna com $N$ elementos retirados de uma **distribuição aleatória Gaussiana normal padrão**, ou seja, com média 0 e variância unitária. \n",
    "\n",
    "**DICAS**: \n",
    "\n",
    "+ Para gerar um vetor **coluna** com elementos retirados de uma **distribuição aleatória uniforme** use a função `rand` do módulo `random` da biblioteca `numpy`. O código abaixo cria um vetor coluna, com 100 linhas e 1 coluna.\n",
    "```python\n",
    "import numpy as np\n",
    "x = np.random.rand(100,1)\n",
    "```\n",
    "\n",
    "+ Para gerar um vetor **coluna** com elementos retirados de uma **distribuição aleatória Gaussiana normal padrão** use a função `randn` do módulo `random` da biblioteca `numpy`. O código abaixo cria um vetor coluna, com 100 linhas e 1 coluna.\n",
    "```python\n",
    "import numpy as np\n",
    "y = np.random.randn(100,1)\n",
    "```"
   ]
  },
  {
   "cell_type": "code",
   "execution_count": 8,
   "metadata": {},
   "outputs": [],
   "source": [
    "# Digite aqui o código do exercício."
   ]
  },
  {
   "cell_type": "markdown",
   "metadata": {},
   "source": [
    "2. Plote um gráfico com os vetores $x$ e $y$ sendo os eixos $x$ e $y$, respectivamente. Cada par de valores $(x,y)$ deve ser mostrado no gráfico como sendo um **ponto**.\n",
    "\n",
    "**DICA**:\n",
    "+ Use a biblioteca matplotlib para plotar o gráfico. O código abaixo gera um gráfico simples com os vetores $x$ e $y$ sendo os eixos $x$ e $y$, respectivamente. \n",
    "```python\n",
    "import numpy as np\n",
    "import matplotlib.pyplot as plt\n",
    "x = np.random.rand(100,1)\n",
    "w = np.random.randn(100,1)\n",
    "y = x + w\n",
    "plt.plot(x,y, '.')\n",
    "plt.xlabel('x')\n",
    "plt.ylabel('y')\n",
    "plt.grid()\n",
    "plt.show()\n",
    "```"
   ]
  },
  {
   "cell_type": "code",
   "execution_count": null,
   "metadata": {},
   "outputs": [],
   "source": [
    "# Digite aqui o código do exercício."
   ]
  },
  {
   "cell_type": "markdown",
   "metadata": {},
   "source": [
    "3. Após plotar o gráfico e analisá-lo, responda, você acredita ser possível encontrar uma **reta** que consiga aproximar (com o menor erro possível) os valores de $y$ dado um valor de entrada $x$ variando entre 0 e 1?"
   ]
  },
  {
   "cell_type": "markdown",
   "metadata": {},
   "source": [
    "<span style=\"color:blue\">Digite aqui a resposta do exercício.</span>\n",
    "\n",
    "**Resposta**"
   ]
  },
  {
   "cell_type": "markdown",
   "metadata": {},
   "source": [
    "#### 2) Para mitigar desperdícios e aumentar seus lucros, o proprietário de uma sorveteria gostaria de saber previamente quantos picolés precisam ser produzidos baseado na previsão da temperatura média de um determinado dia. Para isso, ele anotou a temperatura média e a quantidade de picolés vendidos ao longo de vários dias. Em seguida, ele plotou o gráfico abaixo.\n",
    "\n",
    "1. Execute a célula de código abaixo e observe o gráfico plotado."
   ]
  },
  {
   "cell_type": "code",
   "execution_count": 4,
   "metadata": {},
   "outputs": [
    {
     "data": {
      "image/png": "[encoded data removed]",
      "text/plain": [
       "<Figure size 432x288 with 1 Axes>"
      ]
     },
     "metadata": {
      "needs_background": "light"
     },
     "output_type": "display_data"
    }
   ],
   "source": [
    "# Importando as bibliotecas necessárias.\n",
    "import numpy as np\n",
    "import matplotlib.pyplot as plt\n",
    "\n",
    "# Reseta o gerador de sequências pseudo-aleatórias.\n",
    "np.random.seed(42)\n",
    "\n",
    "# Vetor coluna com dimensão Nx1, com valores linearmente espaçados entre -1 e 1.\n",
    "x = np.array([[ 0.        ], [ 1.10344828], [ 2.20689655], [ 3.31034483], [ 4.4137931 ], [ 5.51724138], [ 6.62068966], [ 7.72413793], [ 8.82758621], [ 9.93103448], [11.03448276], [12.13793103], [13.24137931], [14.34482759], [15.44827586], [16.55172414], [17.65517241], [18.75862069], [19.86206897], [20.96551724], [22.06896552], [23.17241379], [24.27586207], [25.37931034], [26.48275862], [27.5862069 ], [28.68965517], [29.79310345], [30.89655172], [32.        ]])\n",
    "\n",
    "# Versão ruidosa de y.\n",
    "y_noisy = np.array([[ 5.99342831], [ 7.4820921 ], [11.81261845], [16.32192179], [15.566176  ], [18.32482954], [24.71014978], [25.84521428], [26.13001675], [30.91270629], [31.65937151], [34.41336807], [38.58737282], [37.03550849], [40.17085398], [45.25473529], [47.11226878], [52.52504639], [52.83912427], [54.5891857 ], [63.10371134], [62.47948187], [65.82471158], [65.59877948], [70.1181311 ], [74.18736243], [74.42215077], [80.23415466], [81.04010192], [84.4166125 ]])\n",
    "\n",
    "# Plote a figura.\n",
    "plt.plot(x, y_noisy, '.b', label='Amostras coletadas')\n",
    "plt.xlabel('x (temperatura)', fontsize=14)\n",
    "plt.ylabel('y (picoles vendidos)', fontsize=14)\n",
    "plt.legend()\n",
    "plt.xticks(range(0,34,4))\n",
    "plt.yticks(range(5,90,10))\n",
    "plt.xlim(0,32)\n",
    "plt.ylim(5,85)\n",
    "plt.grid()\n",
    "\n",
    "# Mostra a figura.\n",
    "plt.show()"
   ]
  },
  {
   "cell_type": "markdown",
   "metadata": {},
   "source": [
    "2. Após observar o gráfico, você acredita ser possível encontrar uma função que aproxime o comportamento das amostras coletadas, ou seja, uma função que ajude o proprietário a predizer quantos picolés devem ser produzidos em um determinado dia baseado na temperatura média? Se sim, qual seria a equação desta função?\n",
    "\n",
    "**DICAS**\n",
    "\n",
    "+ Uma reta da forma $y = a_0 + a_1 x$ pode ser uma boa opção para aproximar as amostras coletadas."
   ]
  },
  {
   "cell_type": "markdown",
   "metadata": {},
   "source": [
    "<span style=\"color:blue\">Digite aqui a resposta do exercício.</span>\n",
    "\n",
    "**Resposta**"
   ]
  },
  {
   "cell_type": "markdown",
   "metadata": {},
   "source": [
    "3. De posse da equação da função que aproxima as amostras do gráfico acima, plote um novo gráfico que compara as amostras coletadas e a função aproximadora.\n",
    "\n",
    "**DICAS**\n",
    "\n",
    "+ Use o código `np.linspace(0,32,30)` para gerar os valores de `x`, ou seja, da temperatura.\n",
    "+ Se baseie no código do seguinte exemplo para plotar o gráfico que compara as amostras coletadas e a função aproximadora: [Figura_2D.ipynb](https://colab.research.google.com/github/zz4fap/t319_aprendizado_de_maquina/blob/main/notebooks/jupyter/Figura_2D.ipynb)."
   ]
  },
  {
   "cell_type": "code",
   "execution_count": 5,
   "metadata": {},
   "outputs": [],
   "source": [
    "# Digite aqui o código do exercício."
   ]
  }
 ],
 "metadata": {
  "kernelspec": {
   "display_name": "Python 3",
   "language": "python",
   "name": "python3"
  },
  "language_info": {
   "codemirror_mode": {
    "name": "ipython",
    "version": 3
   },
   "file_extension": ".py",
   "mimetype": "text/x-python",
   "name": "python",
   "nbconvert_exporter": "python",
   "pygments_lexer": "ipython3",
   "version": "3.7.7"
  }
 },
 "nbformat": 4,
 "nbformat_minor": 4
}
