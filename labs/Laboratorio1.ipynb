{
 "cells": [
  {
   "cell_type": "markdown",
   "metadata": {},
   "source": [
    "# Laboratório #1\n",
    "\n",
    "### Instruções\n",
    "\n",
    "1. Antes de começar, você deve clicar na opção \"Copiar para o Drive\" na barra superior do Colab. Depois de clicar nela, verifique se você está trabalhando nessa versão do notebook para que seu trabalho seja salvo.\n",
    "2. Quando você terminar os exercícios do laboratório, vá ao menu do Colab ou Jupyter e selecione a opção para fazer download do notebook.\n",
    "    * Os notebooks tem extensão .ipynb. \n",
    "    * Este deve ser o arquivo que você irá entregar.\n",
    "    * No Colab vá até a opção **File** -> **Download .ipynb**.\n",
    "    * No Jupyter vá até a opção **File** -> **Download as** -> **Notebook (.ipynb)**.\n",
    "3. Após o download do notebook, vá até a aba de tarefas do MS Teams, localize a tarefa referente a este laboratório e faça o upload do seu notebook. Veja que há uma opção de anexar arquivos à tarefa.\n",
    "4. Não se esqueça de colocar seu **nome** e **matrícula** na célula de texto abaixo."
   ]
  },
  {
   "cell_type": "markdown",
   "metadata": {},
   "source": [
    "**Nome**:\n",
    "\n",
    "**Matrícula**:"
   ]
  },
  {
   "cell_type": "markdown",
   "metadata": {},
   "source": [
    "## Exercícios"
   ]
  },
  {
   "cell_type": "markdown",
   "metadata": {},
   "source": [
    "#### 1)  Neste exercício você irá plotar um gráfico em duas dimensões (2D). \n",
    "\n",
    "Este tipo de gráfico é comumente utilizado para se analisar os dados de entrada e saída de um modelo de aprendizado de máquina. \n",
    "\n",
    "Para este exercício, faça o seguinte:\n",
    "\n",
    "1. Crie um **vetor coluna**, $y$, com $N = 1000$ elementos, o qual é dado pela seguinte equação\n",
    " $$y = 0.5 + 10x + w,$$\n",
    "onde $x$ é um **vetor coluna** com $N$ elementos retirados de uma **distribuição aleatória uniforme** com valores no intervalo `[0, 1)` e $w$ é um **vetor coluna** com $N$ elementos retirados de uma **distribuição aleatória Gaussiana normal padrão**, ou seja, com média 0 e variância unitária. \n",
    "\n",
    "**DICAS**: \n",
    "\n",
    "+ Para gerar um vetor **coluna** com elementos retirados de uma **distribuição aleatória uniforme** use a função `rand` do módulo `random` da biblioteca `numpy`. O código abaixo cria um vetor coluna, com 100 linhas e 1 coluna.\n",
    "```python\n",
    "import numpy as np\n",
    "x = np.random.rand(100,1)\n",
    "```\n",
    "\n",
    "+ Para gerar um vetor **coluna** com elementos retirados de uma **distribuição aleatória Gaussiana normal padrão** use a função `randn` do módulo `random` da biblioteca `numpy`. O código abaixo cria um vetor coluna, com 100 linhas e 1 coluna.\n",
    "```python\n",
    "import numpy as np\n",
    "y = np.random.randn(100,1)\n",
    "```"
   ]
  },
  {
   "cell_type": "code",
   "execution_count": 8,
   "metadata": {},
   "outputs": [],
   "source": [
    "# Digite aqui o código do exercício."
   ]
  },
  {
   "cell_type": "markdown",
   "metadata": {},
   "source": [
    "2. Plote um gráfico com os vetores $x$ e $y$ sendo os eixos $x$ e $y$ da figura, respectivamente. Cada par de valores $(x,y)$ deve ser mostrado no gráfico como sendo um **ponto**.\n",
    "\n",
    "**DICA**:\n",
    "+ Use a biblioteca matplotlib para plotar o gráfico. O código abaixo gera um gráfico simples com os vetores $x$ e $y$ sendo os eixos $x$ e $y$, respectivamente. \n",
    "```python\n",
    "import numpy as np\n",
    "import matplotlib.pyplot as plt\n",
    "x = np.random.rand(100,1)\n",
    "w = np.random.randn(100,1)\n",
    "y = x + w\n",
    "plt.plot(x,y, '.')\n",
    "plt.xlabel('x')\n",
    "plt.ylabel('y')\n",
    "plt.grid()\n",
    "plt.show()\n",
    "```"
   ]
  },
  {
   "cell_type": "code",
   "execution_count": null,
   "metadata": {},
   "outputs": [],
   "source": [
    "# Digite aqui o código do exercício."
   ]
  },
  {
   "cell_type": "markdown",
   "metadata": {},
   "source": [
    "3. Após plotar o gráfico e analisá-lo, responda, você acredita ser possível encontrar uma **reta** que consiga aproximar (com o menor erro possível) os valores de $y$ dado um valor de entrada $x$ variando entre 0 e 1?"
   ]
  },
  {
   "cell_type": "markdown",
   "metadata": {},
   "source": [
    "<span style=\"color:blue\">Digite aqui a resposta do exercício.</span>\n",
    "\n",
    "**Resposta**"
   ]
  },
  {
   "cell_type": "markdown",
   "metadata": {},
   "source": [
    "#### 2) Para mitigar desperdícios e aumentar seus lucros, o proprietário de uma paleteria mexicana gostaria de saber previamente quantas paletas precisam ser produzidas baseado na previsão da temperatura média de um determinado dia. Para isso, ele anotou a temperatura média e a quantidade de paletas vendidas ao longo de vários dias. Em seguida, ele plotou o gráfico abaixo.\n",
    "\n",
    "1. Execute a célula de código abaixo e observe o gráfico plotado.\n",
    "\n",
    "**Obs**.: Não altere os dados abaixo em hipótese alguma."
   ]
  },
  {
   "cell_type": "code",
   "execution_count": 1,
   "metadata": {},
   "outputs": [
    {
     "data": {
      "image/png": "[encoded data removed]",
      "text/plain": [
       "<Figure size 432x288 with 1 Axes>"
      ]
     },
     "metadata": {
      "needs_background": "light"
     },
     "output_type": "display_data"
    }
   ],
   "source": [
    "# Importando as bibliotecas necessárias.\n",
    "import numpy as np\n",
    "import matplotlib.pyplot as plt\n",
    "\n",
    "# Vetor coluna com dimensão Nx1, onde N = 30.\n",
    "x = np.array([[0.0], [1.10344828], [2.20689655], [3.31034483], [4.4137931], [5.51724138], [6.62068966], [7.72413793], [8.82758621], [9.93103448], [11.03448276], [12.13793103], [13.24137931], [14.34482759], [15.44827586], [16.55172414], [17.65517241], [18.75862069], [19.86206897], [20.96551724], [22.06896552], [23.17241379], [24.27586207], [25.37931034], [26.48275862], [27.5862069 ], [28.68965517], [29.79310345], [30.89655172], [32.0]])\n",
    "\n",
    "# Vetor de saída.\n",
    "y_paletas = np.array([[6.0], [8.0], [12.0], [16.0], [17.0], [18.0], [25.0], [26.0], [28.0], [31.0], [32.0], [34.0], [39.0], [37.0], [40.0], [45.0], [47.0], [53.0], [54.0], [57.0], [63.0], [64.0], [66.0], [67.0], [70.0], [74.0], [75.0], [80.0], [82.0], [84.0]])\n",
    "\n",
    "# Plota a figura.\n",
    "plt.plot(x, y_paletas, '.b', label='Amostras coletadas')\n",
    "plt.xlabel('x (temperatura)', fontsize=14)\n",
    "plt.ylabel('y (paletas vendidas)', fontsize=14)\n",
    "plt.legend()\n",
    "plt.xticks(range(0,34,4))\n",
    "plt.yticks(range(5,90,10))\n",
    "plt.xlim(0,32)\n",
    "plt.ylim(5,85)\n",
    "plt.grid()\n",
    "\n",
    "# Mostra a figura.\n",
    "plt.show()"
   ]
  },
  {
   "cell_type": "markdown",
   "metadata": {},
   "source": [
    "2. Após observar o gráfico, você acredita ser possível encontrar uma função que aproxime o comportamento das amostras coletadas, ou seja, uma função que ajude o proprietário a predizer quantas paletas devem ser produzidas em um determinado dia baseado na temperatura média? Se sim, qual seria a equação desta função?\n",
    "\n",
    "**DICAS**\n",
    "\n",
    "+ Uma reta, da forma $y = a_0 + a_1 x$, pode ser uma boa opção para aproximar as amostras coletadas.\n",
    "+ Para encontrar os parâmetros $a_0$ e $a_1$, tome dois pares distintos de pontos $(x,y)$ e resolva o sistema de equações."
   ]
  },
  {
   "cell_type": "markdown",
   "metadata": {},
   "source": [
    "<span style=\"color:blue\">Digite aqui a resposta do exercício.</span>\n",
    "\n",
    "**Resposta**"
   ]
  },
  {
   "cell_type": "markdown",
   "metadata": {},
   "source": [
    "3. De posse da equação da função que aproxima as amostras do gráfico acima, plote um novo gráfico que compara as amostras coletadas e a função aproximadora.\n",
    "\n",
    "**DICAS**\n",
    "\n",
    "+ Use o código `np.linspace(0,32,30)` para gerar os valores de `x1`, ou seja, da temperatura.\n",
    "+ Após gerar os valores de `x1`, os passe através da função aproximadora. \n",
    "+ Chame a variável que irá receber os valores de saída da função aproximadora de `y_pred2` ou qualquer outro nome diferente de `y_pred`, pois este será o nome que usaremos no próximo item para receber os valores de saída da função quando sua entrada são os valores de `x` definidos no item 1.\n",
    "+ Criamos o vetor de entrada com o nome `x1` aqui neste item para que não haja confusão com o vetor `x` criado no item 1, pois você deverá usar o vetor `x` com os valores originais do item 1 no item 4 abaixo.\n",
    "+ Se baseie no código do seguinte exemplo para plotar o gráfico que compara as amostras coletadas e a função aproximadora: [Figura_2D.ipynb](https://colab.research.google.com/github/zz4fap/t319_aprendizado_de_maquina/blob/main/notebooks/jupyter/Figura_2D.ipynb)."
   ]
  },
  {
   "cell_type": "code",
   "execution_count": 5,
   "metadata": {},
   "outputs": [],
   "source": [
    "# Digite aqui o código do exercício."
   ]
  },
  {
   "cell_type": "markdown",
   "metadata": {},
   "source": [
    "4. Calcule e imprima o erro médio desta função aproximadora.\n",
    "\n",
    "Para podermos comparar a qualidade desta função aproximadora com outras, precisamos definir um métrica de qualidade da aproximação e, para isso, iremos utilizar a equação do **erro quadrático médio** (EQM).\n",
    "\n",
    "O erro quadrático médio calcula o erro médio entre as **saídas esperadas** e os **valores de saída da função aproximadora** para cada valor de entrada, $x$.\n",
    "\n",
    "$$\\text{EQM} = \\frac{1}{N}\\sum_{i=0}^{N}(y_{paletas}-y_{pred})^2,$$\n",
    "onde $y_{pred}$ é o valor da predição feita pela função aproximadora, ou seja, valor de saída da função aproximadora e $y_{paletas}$ são os valores de saída esperados para um dado valor de entrada, ou seja, um valor de temperatura.\n",
    "\n",
    "**DICAS**:\n",
    "\n",
    "+ Passe os valores de `x`, definidos no item 1, através da função aproximadora.\n",
    "+ Para que você consiga calcular o EQM corretamente, a variável que recebe os valores de saída da função aproximadora deve se chamar `y_pred`.\n",
    "+ O erro quadrático médio pode ser calculado em python através da sequinte expressão:\n",
    "```python\n",
    "erro = (1/len(y_pred))*np.sum((y_paletas - y_pred)**2)\n",
    "```\n",
    "onde `y_pred` é a variável com os valores de saída da função aproximadora e `y_paletas` é a variável com os valores esperados definidos no item 1."
   ]
  },
  {
   "cell_type": "code",
   "execution_count": null,
   "metadata": {},
   "outputs": [],
   "source": [
    "# Digite aqui o código do exercício."
   ]
  },
  {
   "cell_type": "markdown",
   "metadata": {},
   "source": [
    "5. Qual é o erro de uma função que se adequa perfeitamente aos dados coletados?\n",
    "\n",
    "+ Execute a célula de código abaixo, onde treina-se um modelo de regressão polinomial de ordem igual a 60 que se **adequa perfeitamente** aos dados de treinamento, e analise a figura gerada.\n",
    "\n",
    "**DICAS**\n",
    "\n",
    "+ Por enquanto, não é necessário que você entenda o código abaixo, apenas analise a figura gerada.\n",
    "+ Percebam que o polinômio aproxima exatamente os valores coletados (ou seja, o conjunto de treinamento)."
   ]
  },
  {
   "cell_type": "code",
   "execution_count": 2,
   "metadata": {},
   "outputs": [
    {
     "data": {
      "image/png": "[encoded data removed]",
      "text/plain": [
       "<Figure size 432x288 with 1 Axes>"
      ]
     },
     "metadata": {
      "needs_background": "light"
     },
     "output_type": "display_data"
    },
    {
     "name": "stdout",
     "output_type": "stream",
     "text": [
      "EQM (polinômio): 0.0745864025215983\n"
     ]
    }
   ],
   "source": [
    "# Import all the necessary libraries.\n",
    "from sklearn.preprocessing import PolynomialFeatures\n",
    "from sklearn.linear_model import LinearRegression\n",
    "from sklearn.preprocessing import StandardScaler\n",
    "from sklearn.pipeline import Pipeline\n",
    "\n",
    "# Instantiate a polynomial with the given degree.\n",
    "poly = PolynomialFeatures(degree=60, include_bias=True)\n",
    "# Instantiate a scaler that will standardize the features.\n",
    "scaler = StandardScaler()\n",
    "# Instantiate a linear regressor.\n",
    "reg = LinearRegression()\n",
    "\n",
    "# Create a pipeline of actions.\n",
    "polynomial_regression = Pipeline([\n",
    "    (\"poly\", poly),\n",
    "    (\"scaler\", scaler),\n",
    "    (\"reg\", reg),\n",
    "])\n",
    "\n",
    "# Train the polinomial model, i.e., the hypothesis.\n",
    "polynomial_regression.fit(x, y_paletas)\n",
    "    \n",
    "# Use the trained model for prediction.\n",
    "y_pred2 = polynomial_regression.predict(x)\n",
    "\n",
    "# Plote a figura.\n",
    "plt.plot(x, y_paletas, '.b', label='Amostras coletadas (treinamento)')\n",
    "plt.plot(x, y_pred2, 'k', label='Função aproximadora (polinômio)')\n",
    "plt.xlabel('x (temperatura)', fontsize=14)\n",
    "plt.ylabel('y (picoles vendidos)', fontsize=14)\n",
    "plt.legend()\n",
    "plt.xticks(range(0,34,4))\n",
    "plt.yticks(range(5,90,10))\n",
    "plt.xlim(0,32)\n",
    "plt.ylim(5,85)\n",
    "plt.grid()\n",
    "plt.show()\n",
    "\n",
    "# Calculando o erro quadrático médio (EQM).\n",
    "erro2 = (1/len(y_pred2))*np.sum((y_paletas - y_pred2)**2)\n",
    "\n",
    "print('EQM (polinômio):', erro2)"
   ]
  },
  {
   "cell_type": "markdown",
   "metadata": {},
   "source": [
    "6. Compare os valores de erro quadrático médio obtidos com as duas funções aproximadoras e, em seguida, responda:\n",
    "\n",
    "+ Qual deles têm o menor EQM?\n",
    "+ Qual o motivo da diferença de valores?\n",
    "+ O que você acha que aconteceria se apresentássemos valores de temperaturas que não estavam presentes no conjunto de amostras coletadas inicialmente?"
   ]
  },
  {
   "cell_type": "markdown",
   "metadata": {},
   "source": [
    "<span style=\"color:blue\">Digite aqui a resposta do exercício.</span>\n",
    "\n",
    "**Resposta**"
   ]
  },
  {
   "cell_type": "markdown",
   "metadata": {},
   "source": [
    "7. Agora de posse destas duas funções aproximadoras, queremos verificar o quão boas elas são na predição da quantidade de paletas vendidas para valores de temperatura que **não** não estavam presentes no conjunto de amostras coletadas inicialmente. Ou seja, queremos mensurar a **capacidade de generalização** das duas funções.\n",
    "\n",
    "+ Execute a célula de código abaixo, analise a figura e os novos valores coletados.\n",
    "\n",
    "**DICAS**\n",
    "\n",
    "+ Perceba que as novas amostras são diferentes das coletadas inicialmente, ou seja, temos outras temperaturas e quantidades de paletas vendidas.\n",
    "+ Geralmente, estas novas amostras são utilizadas para medir a capacidade de generalização de funções aproximadoras. Ou seja, elas são usadas para verificar se a função consegue aproximar bem valores que não foram vistos durante o treinamento."
   ]
  },
  {
   "cell_type": "code",
   "execution_count": 4,
   "metadata": {},
   "outputs": [
    {
     "data": {
      "image/png": "[encoded data removed]",
      "text/plain": [
       "<Figure size 432x288 with 1 Axes>"
      ]
     },
     "metadata": {
      "needs_background": "light"
     },
     "output_type": "display_data"
    }
   ],
   "source": [
    "# Novos valores coletados.\n",
    "x_test = np.array([[1.5], [4.0], [6.0], [11.5], [12.75], [16.0], [18.25], [21.5], [23.5], [29.3]])\n",
    "\n",
    "y_test = np.array([[9.0], [15.0], [21.0], [34.0], [36.0], [45.0], [50.0], [57.0], [64.0], [78.0]])\n",
    "\n",
    "# Plota a figura.\n",
    "plt.plot(x, y_paletas, '.b', label='Amostras coletadas (treinamento)')\n",
    "plt.plot(x_test, y_test, 'xr', label='Amostras coletadas (teste)')\n",
    "plt.xlabel('x (temperatura)', fontsize=14)\n",
    "plt.ylabel('y (paletas vendidas)', fontsize=14)\n",
    "plt.legend()\n",
    "plt.xticks(range(0,34,4))\n",
    "plt.yticks(range(5,90,10))\n",
    "plt.xlim(0,32)\n",
    "plt.ylim(5,85)\n",
    "plt.grid()\n",
    "\n",
    "# Mostra a figura.\n",
    "plt.show()"
   ]
  },
  {
   "cell_type": "markdown",
   "metadata": {},
   "source": [
    "8. Agora, com as novas amostras, geradas no item anterior, calcule e imprima o erro quadrático médio para a reta.\n",
    "\n",
    "**DICAS**\n",
    "\n",
    "+ Para calcular e imprimir o erro quadrático médio da reta, use as linhas de código abaixo.\n",
    "```python\n",
    "y_pred_reta = a0 + a1*x_test\n",
    "erro_reta = (1/len(y_pred_reta))*np.sum((y_test - y_pred_reta)**2)\n",
    "print('EQM da reta é', erro_reta)\n",
    "```\n",
    "onde a0 e a1 são os parâmetros encontrados no item 2 deste exercício."
   ]
  },
  {
   "cell_type": "code",
   "execution_count": 1,
   "metadata": {},
   "outputs": [],
   "source": [
    "# Digite aqui o código do exercício."
   ]
  },
  {
   "cell_type": "markdown",
   "metadata": {},
   "source": [
    "9. Com as novas amostras, calcule e imprima o erro quadrático médio para o polinômio de ordem 60 obtido no item 5 deste exercício.\n",
    "\n",
    "**DICAS**\n",
    "\n",
    "+ Para calcular e imprimir o erro quadrático médio do polinômio de ordem 60, use as linhas de código abaixo.\n",
    "```python\n",
    "y_pred_poly = polynomial_regression.predict(x_test)\n",
    "erro_poly = (1/len(y_pred_poly))*np.sum((y_test - y_pred_poly)**2)\n",
    "print('EQM do polinômio é', erro_poly)\n",
    "```"
   ]
  },
  {
   "cell_type": "code",
   "execution_count": 7,
   "metadata": {},
   "outputs": [],
   "source": [
    "# Digite aqui o código do exercício."
   ]
  },
  {
   "cell_type": "markdown",
   "metadata": {},
   "source": [
    "10. Após comparar os dois erros, responda:\n",
    "\n",
    "+ O que você pode concluir a respeito das duas funções aproximadoras?\n",
    "+ Qual das duas funções você utilizaria para fazer predições?"
   ]
  },
  {
   "cell_type": "markdown",
   "metadata": {},
   "source": [
    "<span style=\"color:blue\">Digite aqui a resposta do exercício.</span>\n",
    "\n",
    "**Resposta**"
   ]
  }
 ],
 "metadata": {
  "kernelspec": {
   "display_name": "Python 3 (ipykernel)",
   "language": "python",
   "name": "python3"
  },
  "language_info": {
   "codemirror_mode": {
    "name": "ipython",
    "version": 3
   },
   "file_extension": ".py",
   "mimetype": "text/x-python",
   "name": "python",
   "nbconvert_exporter": "python",
   "pygments_lexer": "ipython3",
   "version": "3.10.9"
  }
 },
 "nbformat": 4,
 "nbformat_minor": 4
}
