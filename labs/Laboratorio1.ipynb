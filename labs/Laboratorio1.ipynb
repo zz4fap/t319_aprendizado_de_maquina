{
 "cells": [
  {
   "cell_type": "markdown",
   "metadata": {},
   "source": [
    "# Laboratório #1\n",
    "\n",
    "### Instruções\n",
    "\n",
    "1. Quando você terminar os exercícios do laboratório, vá ao menu do Jupyter ou Colab e selecione a opção para fazer download do notebook.\n",
    "    * Os notebooks tem extensão .ipynb. \n",
    "    * Este deve ser o arquivo que você irá entregar.\n",
    "    * No Jupyter vá até a opção **File** -> **Download as** -> **Notebook (.ipynb)**.\n",
    "    * No Colab vá até a opção **File** -> **Download .ipynb**.\n",
    "2. Após o download do notebook, vá até a aba de tarefas do MS Teams, localize a tarefa referente a este laboratório e faça o upload do seu notebook. Veja que há uma opção de anexar arquivos à tarefa."
   ]
  },
  {
   "cell_type": "markdown",
   "metadata": {},
   "source": [
    "**Nome**:\n",
    "\n",
    "**Matrícula**:"
   ]
  },
  {
   "cell_type": "markdown",
   "metadata": {},
   "source": [
    "## Exercícios"
   ]
  },
  {
   "cell_type": "markdown",
   "metadata": {},
   "source": [
    "#### 1)  Copie o código do exemplo `Figura 3D`, presente no material de introdução, e o execute. \n",
    "\n",
    "**DICAS**\n",
    "\n",
    "+ Copie o código do slide ou do notebook de exemplo e o cole na célula abaixo, em seguida, execute-o.\n",
    "+ Após a correta execução do código, uma figura será plotada."
   ]
  },
  {
   "cell_type": "code",
   "execution_count": 1,
   "metadata": {},
   "outputs": [],
   "source": [
    "# Digite aqui o código do exercício."
   ]
  },
  {
   "cell_type": "markdown",
   "metadata": {},
   "source": [
    "#### 2)  Copie o código do exemplo `Histograma`, presente no material de introdução, e o execute. \n",
    "\n",
    "**DICAS**\n",
    "\n",
    "+ Copie o código do slide ou do notebook de exemplo e o cole na célula abaixo, em seguida, execute-o.\n",
    "+ Após a correta execução do código, uma figura será plotada."
   ]
  },
  {
   "cell_type": "code",
   "execution_count": 2,
   "metadata": {},
   "outputs": [],
   "source": [
    "# Digite aqui o código do exercício."
   ]
  },
  {
   "cell_type": "markdown",
   "metadata": {},
   "source": [
    "#### 3)  Neste exercício você irá plotar um gráfico 2D. \n",
    "\n",
    "Este tipo de gráfico é comumente utilizado para se analisar os dados de entrada e saída de um modelo de aprendizado de máquina. \n",
    "\n",
    "Para este exercício, faça o seguinte:\n",
    "\n",
    "1. Crie um vetor coluna, $y$, com $N = 1000$ elementos, o qual é dado pela seguinte equação\n",
    " $$y = 0.5 + 10x + w,$$\n",
    "onde $x$ é um vetor coluna com $N$ elementos retirados de uma **distribuição aleatória uniforme** com valores no intervalo `[0, 1)` e $w$ é um vetor coluna com $N$ elementos retirados de uma **distribuição aleatória Gaussiana normal padrão**, ou seja, com média 0 e variância unitária. \n",
    "\n",
    "**DICAS**: \n",
    "\n",
    "+ Para gerar um vetor **coluna** com elementos retirados de uma **distribuição aleatória uniforme** use a função `rand` do módulo `random` da biblioteca `numpy`. O código abaixo cria um vetor coluna, com 100 linhas e 1 coluna.\n",
    "```python\n",
    "import numpy as np\n",
    "x = np.random.rand(100,1)\n",
    "```\n",
    "\n",
    "+ Para gerar um vetor **coluna** com elementos retirados de uma **distribuição aleatória Gaussiana normal padrão** use a função `randn` do módulo `random` da biblioteca `numpy`. O código abaixo cria um vetor coluna, com 100 linhas e 1 coluna.\n",
    "```python\n",
    "import numpy as np\n",
    "y = np.random.randn(100,1)\n",
    "```"
   ]
  },
  {
   "cell_type": "code",
   "execution_count": 8,
   "metadata": {},
   "outputs": [],
   "source": [
    "# Digite aqui o código do exercício."
   ]
  },
  {
   "cell_type": "markdown",
   "metadata": {},
   "source": [
    "2. Plote um gráfico com os vetores $x$ e $y$ sendo os eixos $x$ e $y$, respectivamente. Cada par de valores $(x,y)$ deve ser mostrado no gráfico como sendo um **ponto**.\n",
    "\n",
    "**DICA**:\n",
    "+ Use a biblioteca matplotlib para plotar o gráfico. O código abaixo gera um gráfico simples com os vetores $x$ e $y$ sendo os eixos $x$ e $y$, respectivamente. \n",
    "```python\n",
    "import numpy as np\n",
    "import matplotlib.pyplot as plt\n",
    "x = np.random.rand(100,1)\n",
    "w = np.random.randn(100,1)\n",
    "y = x + w\n",
    "plt.plot(x,y, '.')\n",
    "plt.xlabel('x')\n",
    "plt.ylabel('y')\n",
    "plt.grid()\n",
    "plt.show()\n",
    "```"
   ]
  },
  {
   "cell_type": "code",
   "execution_count": null,
   "metadata": {},
   "outputs": [],
   "source": [
    "# Digite aqui o código do exercício."
   ]
  },
  {
   "cell_type": "markdown",
   "metadata": {},
   "source": [
    "3. Após plotar o gráfico e analisá-lo, responda, você acredita ser possível encontrar uma **reta** que consiga aproximar (com o menor erro possível) os valores de $y$ dado um valor de entrada $x$ variando entre 0 e 1?"
   ]
  },
  {
   "cell_type": "markdown",
   "metadata": {},
   "source": [
    "<span style=\"color:blue\">Digite aqui a resposta do exercício.</span>\n",
    "\n",
    "**Resposta**"
   ]
  },
  {
   "cell_type": "markdown",
   "metadata": {},
   "source": [
    "#### 4)  Copie o código do exemplo `Ajuste de curva com Redes Neurais`, presente no material de introdução, o cole na célula abaixo e em seguida, o execute. \n",
    "\n",
    "**OBSERVAÇÃO**: Após a execução do código, perceba na figura gerada que podemos também encontrar aproximações para valores que não podem ser modelados por simples retas da forma $y = a_0 + a_1 x$.\n",
    "\n",
    "Neste exemplo, os dados originais foram aproximados através de uma **rede neural**. As redes neurais são conhecidas como aproximadoras universais de funções. Como veremos nas próximas aulas, existem outras formas de aproximar os dados originais utilizando-se o que se chama de **regressão linear**.\n",
    "\n",
    "**DICAS**\n",
    "\n",
    "+ Copie o código do slide ou do notebook de exemplo e o cole na célula abaixo, em seguida, execute-o.\n",
    "+ Após a correta execução do código, uma figura será plotada."
   ]
  },
  {
   "cell_type": "code",
   "execution_count": 4,
   "metadata": {},
   "outputs": [],
   "source": [
    "# Digite aqui o código do exercício."
   ]
  }
 ],
 "metadata": {
  "kernelspec": {
   "display_name": "Python 3",
   "language": "python",
   "name": "python3"
  },
  "language_info": {
   "codemirror_mode": {
    "name": "ipython",
    "version": 3
   },
   "file_extension": ".py",
   "mimetype": "text/x-python",
   "name": "python",
   "nbconvert_exporter": "python",
   "pygments_lexer": "ipython3",
   "version": "3.7.7"
  }
 },
 "nbformat": 4,
 "nbformat_minor": 4
}
