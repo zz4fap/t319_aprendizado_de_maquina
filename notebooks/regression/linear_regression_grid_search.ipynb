{
 "cells": [
  {
   "cell_type": "code",
   "execution_count": 1,
   "metadata": {},
   "outputs": [
    {
     "name": "stderr",
     "output_type": "stream",
     "text": [
      "C:\\Users\\felipe.figueiredo\\Anaconda3\\lib\\site-packages\\numpy\\_distributor_init.py:32: UserWarning: loaded more than 1 DLL from .libs:\n",
      "C:\\Users\\felipe.figueiredo\\Anaconda3\\lib\\site-packages\\numpy\\.libs\\libopenblas.NOIJJG62EMASZI6NYURL6JBKM4EVBGM7.gfortran-win_amd64.dll\n",
      "C:\\Users\\felipe.figueiredo\\Anaconda3\\lib\\site-packages\\numpy\\.libs\\libopenblas.PYQHXLVVQ7VESDPUVUADXEVJOBGHJPAY.gfortran-win_amd64.dll\n",
      "  stacklevel=1)\n"
     ]
    }
   ],
   "source": [
    "# Import all necessary libraries\n",
    "import matplotlib\n",
    "from matplotlib import cm\n",
    "import matplotlib.pyplot as plt\n",
    "import numpy as np\n",
    "import random\n",
    "\n",
    "%matplotlib inline"
   ]
  },
  {
   "cell_type": "code",
   "execution_count": 2,
   "metadata": {},
   "outputs": [],
   "source": [
    "# Always reset the pseudo-random numbers generator to a known value so that your results are always the same.\n",
    "np.random.seed(1234)"
   ]
  },
  {
   "cell_type": "code",
   "execution_count": 3,
   "metadata": {},
   "outputs": [],
   "source": [
    "# Number of pairs feature/label.\n",
    "N = 10000"
   ]
  },
  {
   "cell_type": "code",
   "execution_count": 4,
   "metadata": {},
   "outputs": [],
   "source": [
    "# Input values (features)\n",
    "x1 = np.random.rand(N, 1)\n",
    "x2 = np.random.rand(N, 1)\n",
    "x3 = np.random.rand(N, 1)\n",
    "\n",
    "# True model.\n",
    "y = x1 + x2 + x3\n",
    "\n",
    "# Observable function.\n",
    "y_noisy = y + np.random.randn(N, 1)"
   ]
  },
  {
   "cell_type": "code",
   "execution_count": 5,
   "metadata": {},
   "outputs": [],
   "source": [
    "# Closed-form solution.\n",
    "X = np.block([x1,x2,x3])\n",
    "\n",
    "a_opt = np.linalg.pinv(np.transpose(X).dot(X)).dot(np.transpose(X).dot(y_noisy))\n",
    "\n",
    "yhat = X.dot(a_opt)\n",
    "Joptimum = (1.0/N)*np.sum(np.power((y_noisy - yhat), 2))"
   ]
  },
  {
   "cell_type": "code",
   "execution_count": 6,
   "metadata": {},
   "outputs": [],
   "source": [
    "class MyGD:\n",
    "    \n",
    "    maxEpochs = 0\n",
    "    alpha = 0.1\n",
    "    maxEpochs = 10000\n",
    "    iteration = 0\n",
    "    \n",
    "    def __init__(self, alpha, maxEpochs):\n",
    "        self.alpha = alpha\n",
    "        self.maxEpochs = maxEpochs\n",
    "        # Create empty structures.\n",
    "        self.a_hist = np.zeros((3, self.maxEpochs))\n",
    "        self.Jgd = np.zeros(self.maxEpochs)\n",
    "        # Intialize the weights.\n",
    "        self.a = np.array([-20.0, -20.0, -20.0]).reshape(3, 1)        \n",
    "        \n",
    "    def getResults(self):\n",
    "        return self.a, self.Jgd, self.a_hist, self.iteration\n",
    "    \n",
    "    def get_params(self, deep):\n",
    "        return {'alpha' : self.alpha}\n",
    "    \n",
    "    def set_params(self, **params):\n",
    "        self.alpha = params['alpha']\n",
    "    \n",
    "    def score(self, X, y_noisy):\n",
    "        N = len(y_noisy)\n",
    "        yhat = X.dot(self.a)\n",
    "        return (1.0/N)*sum(np.power(y_noisy - yhat, 2)) \n",
    "\n",
    "    def fit(self, X, y_noisy):\n",
    "        # Calculate the error for the initial weights.\n",
    "        N = len(y_noisy)\n",
    "        yhat = X.dot(self.a)\n",
    "        self.Jgd[0] = (1.0/N)*np.sum(np.power(y_noisy - yhat, 2))\n",
    "\n",
    "        error = 1\n",
    "        while(error > 0.001 and self.iteration < self.maxEpochs-1):\n",
    "\n",
    "            # Hypothesis function.\n",
    "            h = X.dot(self.a)\n",
    "\n",
    "            # Calculate gradient vector.\n",
    "            gradients = -(2.0/N)*X.T.dot(y_noisy - h)\n",
    "\n",
    "            # Weight update rule.\n",
    "            self.a = self.a - alpha*gradients\n",
    "\n",
    "            # Store weight variation.\n",
    "            self.a_hist[:, self.iteration+1] = self.a.reshape(3,)\n",
    "\n",
    "            # Calculate and store actual error.\n",
    "            yhat = X.dot(self.a)\n",
    "            self.Jgd[self.iteration+1] = (1.0/N)*sum(np.power(y_noisy - yhat, 2))    \n",
    "\n",
    "            # Error difference between actual and previous iteration.\n",
    "            error = np.abs(self.Jgd[self.iteration]-self.Jgd[self.iteration+1])   \n",
    "\n",
    "            self.iteration += 1"
   ]
  },
  {
   "cell_type": "code",
   "execution_count": 7,
   "metadata": {},
   "outputs": [],
   "source": [
    "# Gradient-descent solution.\n",
    "maxEpochs = 10000\n",
    "\n",
    "alphas = [0.001, 0.01, 0.1, 1.0]\n",
    "\n",
    "interations = []\n",
    "scores = []\n",
    "for i in range(0,len(alphas)):\n",
    "    alpha = alphas[i]\n",
    "    gd = MyGD(alpha, maxEpochs)\n",
    "    gd.fit(X, y_noisy)\n",
    "    scores.append(gd.score(X, y_noisy))\n",
    "    interations.append(gd.iteration)"
   ]
  },
  {
   "cell_type": "code",
   "execution_count": 8,
   "metadata": {},
   "outputs": [
    {
     "data": {
      "image/png": "[encoded data removed]",
      "text/plain": [
       "<Figure size 432x288 with 1 Axes>"
      ]
     },
     "metadata": {
      "needs_background": "light"
     },
     "output_type": "display_data"
    }
   ],
   "source": [
    "plt.plot(alphas, scores, label='error')\n",
    "plt.xlabel('alpha', fontsize=14)\n",
    "plt.ylabel('MSE', fontsize=14)\n",
    "plt.legend()\n",
    "plt.show()"
   ]
  },
  {
   "cell_type": "code",
   "execution_count": 9,
   "metadata": {},
   "outputs": [
    {
     "data": {
      "image/png": "[encoded data removed]",
      "text/plain": [
       "<Figure size 432x288 with 1 Axes>"
      ]
     },
     "metadata": {
      "needs_background": "light"
     },
     "output_type": "display_data"
    }
   ],
   "source": [
    "plt.plot(alphas, interations, label='# of iterations')\n",
    "plt.xlabel('alpha', fontsize=14)\n",
    "plt.ylabel('Epochs', fontsize=14)\n",
    "plt.yscale('log')\n",
    "plt.legend()\n",
    "plt.show()"
   ]
  },
  {
   "cell_type": "code",
   "execution_count": 10,
   "metadata": {},
   "outputs": [],
   "source": [
    "# Gradient-descent solution.\n",
    "maxEpochs = 10000\n",
    "\n",
    "alphas = [0.5, 0.6, 0.7, 0.8, 0.9, 1]\n",
    "\n",
    "interations = []\n",
    "scores = []\n",
    "for i in range(0,len(alphas)):\n",
    "    alpha = alphas[i]\n",
    "    gd = MyGD(alpha, maxEpochs)\n",
    "    gd.fit(X, y_noisy)\n",
    "    scores.append(gd.score(X, y_noisy))\n",
    "    interations.append(gd.iteration)"
   ]
  },
  {
   "cell_type": "code",
   "execution_count": 11,
   "metadata": {},
   "outputs": [
    {
     "data": {
      "image/png": "[encoded data removed]",
      "text/plain": [
       "<Figure size 432x288 with 1 Axes>"
      ]
     },
     "metadata": {
      "needs_background": "light"
     },
     "output_type": "display_data"
    }
   ],
   "source": [
    "plt.plot(alphas, scores, label='error')\n",
    "plt.xlabel('alpha', fontsize=14)\n",
    "plt.ylabel('MSE', fontsize=14)\n",
    "plt.legend()\n",
    "plt.show()"
   ]
  },
  {
   "cell_type": "code",
   "execution_count": 12,
   "metadata": {},
   "outputs": [
    {
     "data": {
      "image/png": "[encoded data removed]",
      "text/plain": [
       "<Figure size 432x288 with 1 Axes>"
      ]
     },
     "metadata": {
      "needs_background": "light"
     },
     "output_type": "display_data"
    }
   ],
   "source": [
    "plt.plot(alphas, interations, label='# of iterations')\n",
    "plt.xlabel('alpha', fontsize=14)\n",
    "plt.ylabel('Epochs', fontsize=14)\n",
    "plt.legend()\n",
    "plt.show()"
   ]
  }
 ],
 "metadata": {
  "kernelspec": {
   "display_name": "Python 3",
   "language": "python",
   "name": "python3"
  },
  "language_info": {
   "codemirror_mode": {
    "name": "ipython",
    "version": 3
   },
   "file_extension": ".py",
   "mimetype": "text/x-python",
   "name": "python",
   "nbconvert_exporter": "python",
   "pygments_lexer": "ipython3",
   "version": "3.7.7"
  }
 },
 "nbformat": 4,
 "nbformat_minor": 4
}
