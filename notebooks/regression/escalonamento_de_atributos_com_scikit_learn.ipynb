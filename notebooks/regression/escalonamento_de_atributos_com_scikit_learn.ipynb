{
 "cells": [
  {
   "cell_type": "markdown",
   "metadata": {},
   "source": [
    "# Escalonando os atributos\n",
    "\n",
    "Neste exemplo, veremos como o escalonamento dos atributos afeta o desempenho do algoritmo do gradiente descendente."
   ]
  },
  {
   "cell_type": "code",
   "execution_count": 1,
   "metadata": {
    "id": "An-GZ84lD3tP"
   },
   "outputs": [],
   "source": [
    "# Import all necessary libraries\n",
    "from mpl_toolkits.mplot3d import Axes3D\n",
    "from matplotlib import cm\n",
    "import matplotlib.pyplot as plt\n",
    "import matplotlib\n",
    "import numpy as np\n",
    "import random\n",
    "import urllib\n",
    "# Retrieve file from github.\n",
    "url = 'https://raw.githubusercontent.com/zz4fap/t319_aprendizado_de_maquina/main/misc/util_functions.py'\n",
    "urllib.request.urlretrieve(url, filename='./util_functions.py')\n",
    "import util_functions as util"
   ]
  },
  {
   "cell_type": "code",
   "execution_count": 2,
   "metadata": {
    "id": "CPS65M4mD3tY"
   },
   "outputs": [],
   "source": [
    "# Always reset the pseudo-random numbers generator to a known value so that your results are always the same.\n",
    "np.random.seed(1234)"
   ]
  },
  {
   "cell_type": "markdown",
   "metadata": {
    "id": "n2D5VlOsD3ta"
   },
   "source": [
    "## Gerando o conjunto de treinamento"
   ]
  },
  {
   "cell_type": "code",
   "execution_count": 3,
   "metadata": {
    "id": "167nOz-TD3tf"
   },
   "outputs": [],
   "source": [
    "# Number of pairs attribute/label.\n",
    "N = 10000"
   ]
  },
  {
   "cell_type": "code",
   "execution_count": 4,
   "metadata": {
    "id": "2xTtO7ZhD3th"
   },
   "outputs": [],
   "source": [
    "# Attribute 1\n",
    "x1 = 10.0*np.random.randn(N, 1) + 10.0\n",
    "\n",
    "# Attribute 2\n",
    "x2 = np.random.randn(N, 1) \n",
    "\n",
    "# Target function.\n",
    "y = x1 + x2\n",
    "\n",
    "# Noise.\n",
    "w = np.random.randn(N, 1)\n",
    "\n",
    "# Noisy version.\n",
    "y_noisy = y + w\n",
    "\n",
    "# Concatenate both column vectors to create the attribute matrix.\n",
    "X = np.c_[x1, x2]"
   ]
  },
  {
   "cell_type": "markdown",
   "metadata": {},
   "source": [
    "**OBS**.: Percebam que o atributo $x_1$ tem um intervalo de variação maior do que o de $x_2$, pois sua variância é maior, e, além disso, sua média não é 0 e sim, 10. Isso pode ser melhor visualizado através dos histogramas mostrados na figura abaixo."
   ]
  },
  {
   "cell_type": "markdown",
   "metadata": {
    "id": "GFRKdk-_D3ti"
   },
   "source": [
    "## Sem escalonamento dos atributos\n",
    "\n",
    "Plotando os histogramas dos atributos x1 e x2"
   ]
  },
  {
   "cell_type": "code",
   "execution_count": 5,
   "metadata": {
    "colab": {
     "base_uri": "https://localhost:8080/",
     "height": 281
    },
    "id": "VfGy-FOCD3tj",
    "outputId": "c1058fa2-8e8d-4404-f57a-5581cac3b216"
   },
   "outputs": [
    {
     "data": {
      "image/png": "[encoded data removed]",
      "text/plain": [
       "<Figure size 640x480 with 1 Axes>"
      ]
     },
     "metadata": {},
     "output_type": "display_data"
    }
   ],
   "source": [
    "# Histograma dos atributos x1 e x2\n",
    "util.plotHistogram(x1, x2)"
   ]
  },
  {
   "cell_type": "code",
   "execution_count": 6,
   "metadata": {
    "colab": {
     "base_uri": "https://localhost:8080/",
     "height": 295
    },
    "id": "8BfSniJXD3tm",
    "outputId": "33eeeb20-3e03-4fc9-b2e0-5a5d439dec9d"
   },
   "outputs": [
    {
     "ename": "NameError",
     "evalue": "name 'lab5' is not defined",
     "output_type": "error",
     "traceback": [
      "\u001b[1;31m---------------------------------------------------------------------------\u001b[0m",
      "\u001b[1;31mNameError\u001b[0m                                 Traceback (most recent call last)",
      "Cell \u001b[1;32mIn[6], line 8\u001b[0m\n\u001b[0;32m      5\u001b[0m n_iterations \u001b[38;5;241m=\u001b[39m \u001b[38;5;241m10000\u001b[39m\n\u001b[0;32m      7\u001b[0m \u001b[38;5;66;03m# Execute the gradient descent algorithm to find a solution to this regression problem.\u001b[39;00m\n\u001b[1;32m----> 8\u001b[0m a, Jgd, a_hist, grad_hist, iteration \u001b[38;5;241m=\u001b[39m \u001b[43mlab5\u001b[49m\u001b[38;5;241m.\u001b[39mbatchGradientDescent(X, y_noisy, alpha, n_iterations)\n\u001b[0;32m     10\u001b[0m \u001b[38;5;66;03m# Plot the error versus the number of iterations.\u001b[39;00m\n\u001b[0;32m     11\u001b[0m lab5\u001b[38;5;241m.\u001b[39mplotErroVersusIteration(Jgd, iteration)\n",
      "\u001b[1;31mNameError\u001b[0m: name 'lab5' is not defined"
     ]
    }
   ],
   "source": [
    "# learning rate.\n",
    "alpha = 0.001\n",
    "\n",
    "# Maximum number of iterations.\n",
    "n_iterations = 10000\n",
    "\n",
    "# Execute the gradient descent algorithm to find a solution to this regression problem.\n",
    "a, Jgd, a_hist, grad_hist, iteration = util.batchGradientDescent(X, y_noisy, alpha, n_iterations)\n",
    "\n",
    "# Plot the error versus the number of iterations.\n",
    "util.plotErroVersusIteration(Jgd, iteration)"
   ]
  },
  {
   "cell_type": "code",
   "execution_count": null,
   "metadata": {
    "id": "HYYh--ttD3tn"
   },
   "outputs": [],
   "source": [
    "# Closed-form solution.\n",
    "a_opt = util.calculateOptimumWeights(X, y_noisy)"
   ]
  },
  {
   "cell_type": "code",
   "execution_count": null,
   "metadata": {
    "id": "U-Thg1fUD3to"
   },
   "outputs": [],
   "source": [
    "# Generate points for plotting the cost-function surface without feature scaling.\n",
    "J, A1, A2 = util.calculateErrorSurface(X, y_noisy)"
   ]
  },
  {
   "cell_type": "code",
   "execution_count": null,
   "metadata": {
    "colab": {
     "base_uri": "https://localhost:8080/",
     "height": 354
    },
    "id": "U8pEXCkSD3tp",
    "outputId": "03feec34-d291-46a8-c0ac-c5f234d07138"
   },
   "outputs": [],
   "source": [
    "# Plot cost-function surface.\n",
    "util.plotCostFunction(A1, A2, J, a_opt, a_hist, iteration)"
   ]
  },
  {
   "cell_type": "code",
   "execution_count": null,
   "metadata": {
    "colab": {
     "base_uri": "https://localhost:8080/",
     "height": 350
    },
    "id": "-IfkjZCID3tp",
    "outputId": "859c5eab-f98f-4217-8b22-3c4aba089ecd"
   },
   "outputs": [],
   "source": [
    "util.plotGradientHistory(grad_hist, iteration, x_max=50)"
   ]
  },
  {
   "cell_type": "markdown",
   "metadata": {
    "id": "RQWoExrgD3tq"
   },
   "source": [
    "## 2. Padronizando os atributos"
   ]
  },
  {
   "cell_type": "code",
   "execution_count": null,
   "metadata": {
    "id": "TNej5NaVD3tr"
   },
   "outputs": [],
   "source": [
    "# Import Class StandardScaler from module Preprocessing of \n",
    "# library sklearn responsible for standardizing the data.\n",
    "from sklearn.preprocessing import StandardScaler\n",
    "\n",
    "# Instantiate a Standard scaler.\n",
    "stdScaler = StandardScaler()\n",
    "\n",
    "# Standardize the features.\n",
    "scaled_X = stdScaler.fit_transform(X)\n",
    "\n",
    "scaled_x1 = scaled_X[:,0].reshape(N,1)\n",
    "scaled_x2 = scaled_X[:,1].reshape(N,1)"
   ]
  },
  {
   "cell_type": "code",
   "execution_count": null,
   "metadata": {
    "colab": {
     "base_uri": "https://localhost:8080/",
     "height": 281
    },
    "id": "R8-hei8sD3ts",
    "outputId": "873ecf2a-1008-48bb-af58-d3d6d87056d1"
   },
   "outputs": [],
   "source": [
    "lab5.plotHistogram(scaled_x1, scaled_x2)"
   ]
  },
  {
   "cell_type": "code",
   "execution_count": null,
   "metadata": {
    "colab": {
     "base_uri": "https://localhost:8080/",
     "height": 295
    },
    "id": "onAHQEJQD3tu",
    "outputId": "ed8908a6-3bf1-461c-a717-a000c9b83159"
   },
   "outputs": [],
   "source": [
    "# learning rate.\n",
    "alpha = 0.3\n",
    "\n",
    "# Maximum number of iterations.\n",
    "n_iterations = 10000\n",
    "\n",
    "# Execute the gradient descent algorithm to find a solution to this regression problem.\n",
    "a, Jgd, a_hist, grad_hist, iteration = util.batchGradientDescent(scaled_X, y_noisy, alpha, n_iterations)\n",
    "\n",
    "# Plot the error versus the number of iterations.\n",
    "util.plotErroVersusIteration(Jgd, iteration)"
   ]
  },
  {
   "cell_type": "code",
   "execution_count": null,
   "metadata": {
    "id": "j9I1NgDKD3tw"
   },
   "outputs": [],
   "source": [
    "# Closed-form solution.\n",
    "a_opt_pad = np.linalg.pinv(np.transpose(scaled_X).dot(scaled_X)).dot(np.transpose(scaled_X).dot(y_noisy))"
   ]
  },
  {
   "cell_type": "code",
   "execution_count": null,
   "metadata": {
    "id": "HWub5dJOD3tw"
   },
   "outputs": [],
   "source": [
    "# Generate points for plotting the cost-function surface without feature scaling.\n",
    "J, A1, A2 = util.calculateErrorSurface(scaled_X, y_noisy, -10.0, 30.0, -19.0, 21.0)"
   ]
  },
  {
   "cell_type": "code",
   "execution_count": null,
   "metadata": {
    "colab": {
     "base_uri": "https://localhost:8080/",
     "height": 354
    },
    "id": "xmSbRWkoD3tx",
    "outputId": "914d335b-5de6-48f2-b001-32bda3481754"
   },
   "outputs": [],
   "source": [
    "# Plot cost-function surface.\n",
    "util.plotCostFunction(A1, A2, J, a_opt_pad, a_hist, iteration)"
   ]
  },
  {
   "cell_type": "code",
   "execution_count": null,
   "metadata": {
    "colab": {
     "base_uri": "https://localhost:8080/",
     "height": 350
    },
    "id": "qU2tOM03D3ty",
    "outputId": "93412e1f-b982-4c67-a8d3-9c6b08b562f3"
   },
   "outputs": [],
   "source": [
    "# Plot gradient history.\n",
    "util.plotGradientHistory(grad_hist, iteration, x_max=10)"
   ]
  },
  {
   "cell_type": "markdown",
   "metadata": {
    "id": "Gl2_7rAKD3tz"
   },
   "source": [
    "## 3. Normalizando os atributos"
   ]
  },
  {
   "cell_type": "code",
   "execution_count": null,
   "metadata": {
    "id": "wFpOGj1VD3tz"
   },
   "outputs": [],
   "source": [
    "# Import Class MinMaxScaler from module Preprocessing of library sklearn responsible for normalizing the data.\n",
    "from sklearn.preprocessing import MinMaxScaler\n",
    "\n",
    "# Instantiate a MinMax scaler.\n",
    "minMaxScaler = MinMaxScaler()\n",
    "\n",
    "# Standardize the features.\n",
    "scaled_X = minMaxScaler.fit_transform(X)\n",
    "\n",
    "scaled_x1 = scaled_X[:,0].reshape(N,1)\n",
    "scaled_x2 = scaled_X[:,1].reshape(N,1)"
   ]
  },
  {
   "cell_type": "code",
   "execution_count": null,
   "metadata": {
    "colab": {
     "base_uri": "https://localhost:8080/",
     "height": 281
    },
    "id": "LxUKDPgrD3t0",
    "outputId": "a37e7356-b0b6-47ec-a0bb-6f0be01679aa"
   },
   "outputs": [],
   "source": [
    "util.plotHistogram(scaled_x1, scaled_x2)"
   ]
  },
  {
   "cell_type": "code",
   "execution_count": null,
   "metadata": {
    "colab": {
     "base_uri": "https://localhost:8080/",
     "height": 295
    },
    "id": "xGndEIGnD3t1",
    "outputId": "53baf750-79f3-44a4-979f-fde126df48e8"
   },
   "outputs": [],
   "source": [
    "# learning rate.\n",
    "alpha = 0.3\n",
    "\n",
    "# Maximum number of iterations.\n",
    "n_iterations = 10000\n",
    "\n",
    "# Execute the gradient descent algorithm to find a solution to this regression problem.\n",
    "a, Jgd, a_hist, grad_hist, iteration = lab5.batchGradientDescent(scaled_X, y_noisy, alpha, n_iterations)\n",
    "\n",
    "# Plot the error versus the number of iterations.\n",
    "util.plotErroVersusIteration(Jgd, iteration)"
   ]
  },
  {
   "cell_type": "code",
   "execution_count": null,
   "metadata": {
    "id": "5AfAbeerD3t2"
   },
   "outputs": [],
   "source": [
    "# Closed-form solution.\n",
    "a_opt_norm = np.linalg.pinv(np.transpose(scaled_X).dot(scaled_X)).dot(np.transpose(scaled_X).dot(y_noisy))"
   ]
  },
  {
   "cell_type": "code",
   "execution_count": null,
   "metadata": {
    "id": "KnX62FPfD3t2"
   },
   "outputs": [],
   "source": [
    "# Generate points for plotting the cost-function surface without feature scaling.\n",
    "J, A1, A2 = util.calculateErrorSurface(scaled_X, y_noisy, -10.0, 94.0, -72.0, 30.0)"
   ]
  },
  {
   "cell_type": "code",
   "execution_count": null,
   "metadata": {
    "colab": {
     "base_uri": "https://localhost:8080/",
     "height": 354
    },
    "id": "zH6-e0-kD3t3",
    "outputId": "1e5bbe87-fd6e-4f75-8a1a-3c2ecbbbdae7"
   },
   "outputs": [],
   "source": [
    "# Plot cost-function surface.\n",
    "util.plotCostFunction(A1, A2, J, a_opt_norm, a_hist, iteration)"
   ]
  },
  {
   "cell_type": "code",
   "execution_count": null,
   "metadata": {
    "colab": {
     "base_uri": "https://localhost:8080/",
     "height": 350
    },
    "id": "buFi6FEID3t3",
    "outputId": "b9383555-7a7a-4bdf-bd69-d375284830eb"
   },
   "outputs": [],
   "source": [
    "util.plotGradientHistory(grad_hist, iteration, x_max=60)"
   ]
  }
 ],
 "metadata": {
  "colab": {
   "provenance": []
  },
  "kernelspec": {
   "display_name": "Python 3 (ipykernel)",
   "language": "python",
   "name": "python3"
  },
  "language_info": {
   "codemirror_mode": {
    "name": "ipython",
    "version": 3
   },
   "file_extension": ".py",
   "mimetype": "text/x-python",
   "name": "python",
   "nbconvert_exporter": "python",
   "pygments_lexer": "ipython3",
   "version": "3.10.9"
  }
 },
 "nbformat": 4,
 "nbformat_minor": 1
}
