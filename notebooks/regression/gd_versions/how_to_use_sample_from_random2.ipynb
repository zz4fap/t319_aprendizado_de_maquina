{
 "cells": [
  {
   "cell_type": "code",
   "execution_count": 5,
   "metadata": {},
   "outputs": [],
   "source": [
    "# Import all the necessary libraries.\n",
    "import numpy as np\n",
    "import matplotlib.pyplot as plt\n",
    "from mpl_toolkits.mplot3d import Axes3D\n",
    "from matplotlib import cm\n",
    "import random\n",
    "\n",
    "%matplotlib inline"
   ]
  },
  {
   "cell_type": "markdown",
   "metadata": {},
   "source": [
    "Este notebook apresenta um exemplo de como utilizar a função `sample` da biblioteca `random`. Este exemplo pode servir de base para a implementação do gradiente descendente em mini-batches."
   ]
  },
  {
   "cell_type": "code",
   "execution_count": 2,
   "metadata": {},
   "outputs": [],
   "source": [
    "# Reset the pseudo random number generator to the same value.\n",
    "np.random.seed(1012019)"
   ]
  },
  {
   "cell_type": "code",
   "execution_count": 3,
   "metadata": {},
   "outputs": [],
   "source": [
    "# Define the number of examples.\n",
    "N = 100\n",
    "\n",
    "# Generate target function.\n",
    "x1 = np.random.randn(N, 1)\n",
    "x2 = np.random.randn(N, 1)\n",
    "y = x1 + x2 + np.random.randn(N, 1)\n",
    "\n",
    "# Concatenate both column vectors, x1 and x2.\n",
    "X = np.c_[x1, x2]"
   ]
  },
  {
   "cell_type": "code",
   "execution_count": 9,
   "metadata": {},
   "outputs": [],
   "source": [
    "# Maximum number of iterations.\n",
    "numEpoch = 2\n",
    "\n",
    "# Mini-batch size.\n",
    "mbSize = 10\n",
    "\n",
    "# Stocastic gradient-descent loop.\n",
    "epoch = 0\n",
    "error = 1\n",
    "while epoch < numEpoch:\n",
    "    shuffled_data_set_indexes = random.sample(range(0, N), N)\n",
    "    \n",
    "    for iteration in range(0, N//mbSize):\n",
    "        \n",
    "        start = iteration*mbSize\n",
    "        end = mbSize*(iteration+1)\n",
    "        \n",
    "        batch_indexes = shuffled_data_set_indexes[start:end]\n",
    "    \n",
    "        xi = X[batch_indexes]\n",
    "        yi = y[batch_indexes]\n",
    "        # O código para atualização, cálculo do erro e critério de parada vai aqui.\n",
    "        \n",
    "    epoch += 1"
   ]
  },
  {
   "cell_type": "code",
   "execution_count": null,
   "metadata": {},
   "outputs": [],
   "source": []
  }
 ],
 "metadata": {
  "kernelspec": {
   "display_name": "Python 3",
   "language": "python",
   "name": "python3"
  },
  "language_info": {
   "codemirror_mode": {
    "name": "ipython",
    "version": 3
   },
   "file_extension": ".py",
   "mimetype": "text/x-python",
   "name": "python",
   "nbconvert_exporter": "python",
   "pygments_lexer": "ipython3",
   "version": "3.7.7"
  }
 },
 "nbformat": 4,
 "nbformat_minor": 4
}
