{
 "cells": [
  {
   "cell_type": "markdown",
   "metadata": {},
   "source": [
    "### SGDRegressor\n",
    "\n",
    "+ A biblioteca Scikit-Learn disponibiliza a classe `SGDRegressor` para realizar regressão linear utilizando o Gradiente Descendente Estocástico.\n",
    "+ A classe possui vários parâmetros que podem ser configurados (e.g., tipo de função de erro, esquema de variação do passo de aprendizagem, etc.).\n",
    "+ Após instanciarmos um objeto dessa classe, o treinamento é feito com o método `fit` e a predição é feita com o método `predict`.\n",
    "+ Além da versão estocástica, podemos implementar a versão em mini-batches com a classe `SGDRegressor` usando o método `partial_fit`.\n",
    "+ Os pesos são acessados através dos atributos `intercept_` e `coef_` do objeto da classe `SGDRegressor`.\n",
    "+ Porém, não conseguimos implementar a versão em batelada.\n",
    "+ Para mais informações sobre a classe `SGDRegressor`, acesse sua documentação: https://scikit-learn.org/stable/modules/generated/sklearn.linear_model.SGDRegressor.html\n",
    "\n",
    "<img src=\"../../../figures/scikitlearn.png\">"
   ]
  },
  {
   "cell_type": "code",
   "execution_count": 1,
   "metadata": {},
   "outputs": [],
   "source": [
    "import numpy as np\n",
    "import random\n",
    "# Importamos a classe SGDRegressor do módulo Linear da biblioteca sklearn.\n",
    "from sklearn.linear_model import SGDRegressor"
   ]
  },
  {
   "cell_type": "code",
   "execution_count": 2,
   "metadata": {},
   "outputs": [],
   "source": [
    "# Reseta gerador de sequências pseudo-aleatórias.\n",
    "random.seed(42)"
   ]
  },
  {
   "cell_type": "markdown",
   "metadata": {},
   "source": [
    "#### Gerando o conjunto de treinamento."
   ]
  },
  {
   "cell_type": "code",
   "execution_count": 3,
   "metadata": {},
   "outputs": [],
   "source": [
    "# Número de exemplos\n",
    "N = 1000\n",
    "\n",
    "# Atributos.\n",
    "x1 = np.random.randn(N, 1)\n",
    "x2 = np.random.randn(N, 1)\n",
    "\n",
    "# Ruído.\n",
    "w = np.random.randn(N, 1)\n",
    "\n",
    "# Modelo gerador.\n",
    "y = 2*x1 + 4*x2\n",
    "\n",
    "# Função observável.\n",
    "y_noisy = y + w"
   ]
  },
  {
   "cell_type": "markdown",
   "metadata": {},
   "source": [
    "#### Instancia o regressor baseado no gradiente descendente estocástico. "
   ]
  },
  {
   "cell_type": "code",
   "execution_count": 4,
   "metadata": {},
   "outputs": [],
   "source": [
    "# Concatena os vetores coluna x1 e x2.\n",
    "X = np.c_[x1, x2]\n",
    "\n",
    "# Instancia a classe SGDRegressor.\n",
    "# 'fit_intercept=False': como modelo gerador não tem peso a0 (intercept), não precisamos encontrá-lo.\n",
    "sgd_reg = SGDRegressor(fit_intercept=False)"
   ]
  },
  {
   "cell_type": "markdown",
   "metadata": {},
   "source": [
    "#### Treina o regressor."
   ]
  },
  {
   "cell_type": "code",
   "execution_count": 5,
   "metadata": {},
   "outputs": [
    {
     "name": "stdout",
     "output_type": "stream",
     "text": [
      "Number of iterations: 9\n"
     ]
    }
   ],
   "source": [
    "# Treina o modelo.\n",
    "sgd_reg.fit(X, y.ravel())\n",
    "\n",
    "# Imprime o número de iterações até que o algoritmo pare de treinar.\n",
    "print('Number of iterations:', sgd_reg.n_iter_)"
   ]
  },
  {
   "cell_type": "markdown",
   "metadata": {},
   "source": [
    "#### Realiza predições com o regressor."
   ]
  },
  {
   "cell_type": "code",
   "execution_count": 6,
   "metadata": {},
   "outputs": [],
   "source": [
    "# Faz previsão com o modelo treinado.\n",
    "y_pred = sgd_reg.predict(X)"
   ]
  },
  {
   "cell_type": "markdown",
   "metadata": {},
   "source": [
    "#### Cálculo do erro quadrático médio (MSE)."
   ]
  },
  {
   "cell_type": "code",
   "execution_count": 7,
   "metadata": {},
   "outputs": [
    {
     "name": "stdout",
     "output_type": "stream",
     "text": [
      "Jgde: 1.051326985814701\n"
     ]
    }
   ],
   "source": [
    "Jgde = (1.0/N)*np.sum(np.square(y_noisy - y_pred.reshape(N,1)))\n",
    "print('Jgde:', Jgde)"
   ]
  },
  {
   "cell_type": "markdown",
   "metadata": {},
   "source": [
    "#### Imprime pesos encontrados."
   ]
  },
  {
   "cell_type": "code",
   "execution_count": 8,
   "metadata": {},
   "outputs": [
    {
     "name": "stdout",
     "output_type": "stream",
     "text": [
      "a0: 0.0000\n",
      "a1: 1.9998\n",
      "a2: 3.9996\n"
     ]
    }
   ],
   "source": [
    "# Imprime valores encontrados pelo GDE.\n",
    "print('a0: %1.4f' % (sgd_reg.intercept_))\n",
    "print('a1: %1.4f' % (sgd_reg.coef_[0]))\n",
    "print('a2: %1.4f' % (sgd_reg.coef_[1]))"
   ]
  }
 ],
 "metadata": {
  "kernelspec": {
   "display_name": "Python 3 (ipykernel)",
   "language": "python",
   "name": "python3"
  },
  "language_info": {
   "codemirror_mode": {
    "name": "ipython",
    "version": 3
   },
   "file_extension": ".py",
   "mimetype": "text/x-python",
   "name": "python",
   "nbconvert_exporter": "python",
   "pygments_lexer": "ipython3",
   "version": "3.9.7"
  }
 },
 "nbformat": 4,
 "nbformat_minor": 4
}
