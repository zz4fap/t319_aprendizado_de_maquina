{
 "cells": [
  {
   "cell_type": "code",
   "execution_count": 1,
   "metadata": {},
   "outputs": [],
   "source": [
    "# Import all the necessary libraries.\n",
    "import numpy as np\n",
    "import matplotlib.pyplot as plt\n",
    "\n",
    "# Import the linear regression module from the scikit learn library.\n",
    "from sklearn.linear_model import LinearRegression"
   ]
  },
  {
   "cell_type": "markdown",
   "metadata": {},
   "source": [
    "**OBS**.: A classe `LinearRegression` da bibioteca SciKit-Learn implementa a equação normal."
   ]
  },
  {
   "cell_type": "code",
   "execution_count": 2,
   "metadata": {},
   "outputs": [],
   "source": [
    "# Resetando gerador de sequências pseudo-aleatórias de forma que os resultados apresentados sejam sempre os mesmos.\n",
    "np.random.seed(1234)"
   ]
  },
  {
   "cell_type": "markdown",
   "metadata": {},
   "source": [
    "### Gerando a função observável.\n",
    "\n",
    "A **função objetivo** é dada por\n",
    "\n",
    "$$y = 4 + 3x,$$\n",
    "\n",
    "e a **função observável** (versão ruidosa da função objetivo, $y$) por\n",
    "\n",
    "$$y_{noisy} = y + w,$$\n",
    "\n",
    "onde $w$ é o ruído adicionado às amostras da função objetivo."
   ]
  },
  {
   "cell_type": "code",
   "execution_count": 3,
   "metadata": {},
   "outputs": [],
   "source": [
    "# Number of observations (pairs of features and labels).\n",
    "N = 100 \n",
    "\n",
    "# Attribute.\n",
    "x = 2.0*np.random.rand(N, 1)\n",
    "\n",
    "# Target function.\n",
    "y = 4.0 + 3.0*x  # equação de uma reta.\n",
    "\n",
    "# Standard Normal Gaussian Noise.\n",
    "w = np.random.randn(N, 1)\n",
    "\n",
    "# Observable function.\n",
    "y_noisy = y + w"
   ]
  },
  {
   "cell_type": "markdown",
   "metadata": {},
   "source": [
    "### Comparando a função observável com a função objetivo."
   ]
  },
  {
   "cell_type": "code",
   "execution_count": 4,
   "metadata": {},
   "outputs": [
    {
     "data": {
      "image/png": "[encoded data removed]",
      "text/plain": [
       "<Figure size 432x288 with 1 Axes>"
      ]
     },
     "metadata": {
      "needs_background": "light"
     },
     "output_type": "display_data"
    }
   ],
   "source": [
    "# Plot pair example/label.\n",
    "fig = plt.figure()\n",
    "plt.plot(x, y, label='Função objetivo')\n",
    "plt.plot(x, y_noisy, '.', label='Função observável (versão ruidosa)')\n",
    "plt.xlabel('x', fontsize=14)\n",
    "plt.ylabel('y', fontsize=14)\n",
    "plt.legend()\n",
    "plt.grid()\n",
    "plt.show()"
   ]
  },
  {
   "cell_type": "markdown",
   "metadata": {},
   "source": [
    "### Encontrando a solução ótima com a equação normal implementada com a biblioteca NumPy.\n",
    "\n",
    "A função hipótese utilizada neste exemplo é dada por\n",
    "\n",
    "$$h(\\textbf{x}) = \\hat{y} = \\hat{a}_0 + \\hat{a}_1 x,$$\n",
    "\n",
    "a qual pode ser re-escrita em formato matricial como\n",
    "\n",
    "$$ \\hat{\\textbf{y}} = X\\hat{\\textbf{a}}.$$\n",
    "\n",
    "**OBS**.: percebam que temos o peso de bias, $\\hat{a}_0$, portanto, precisamos criar um vetor com todos os valores iguais a 1 para poder representar a função hipótese na forma matricial."
   ]
  },
  {
   "cell_type": "code",
   "execution_count": 5,
   "metadata": {},
   "outputs": [
    {
     "name": "stdout",
     "output_type": "stream",
     "text": [
      "a0: 4.0763\n",
      "a1: 2.9413\n"
     ]
    }
   ],
   "source": [
    "# np.c_ concatenates vectors.\n",
    "X = np.c_[np.ones((N, 1)), x] # add column vector x0 with all values equal to 1.\n",
    "\n",
    "# Solve by applying the least-Squares method.\n",
    "# We use the inv() function from NumPy’s Linear Algebra module (np.linalg) to compute the inverse of a matrix.\n",
    "# We use dot() method for matrix multiplication.\n",
    "a_numpy = np.linalg.inv(X.T.dot(X)).dot(X.T).dot(y_noisy)\n",
    "\n",
    "# Print best solution.\n",
    "print('a0: %1.4f' % (a_numpy[0, 0]))\n",
    "print('a1: %1.4f' % (a_numpy[1, 0]))"
   ]
  },
  {
   "cell_type": "markdown",
   "metadata": {},
   "source": [
    "#### Realizando predições com a função hipótese e calculando o erro quadrático médio obtido com ela.\n",
    "\n",
    "Usamos a função hipótese em sua forma matricial,\n",
    "\n",
    "$$ \\hat{\\textbf{y}} = X\\hat{\\textbf{a}},$$\n",
    "para realizar predições com os valores de $x$."
   ]
  },
  {
   "cell_type": "code",
   "execution_count": 6,
   "metadata": {},
   "outputs": [
    {
     "name": "stdout",
     "output_type": "stream",
     "text": [
      "MSE: 0.927258\n"
     ]
    }
   ],
   "source": [
    "# Performing predictions with the hypothesis function.\n",
    "yhat_numpy = X.dot(a_numpy)\n",
    "\n",
    "# Calculating the Mean Squared Error (MSE).\n",
    "Je_optimum = (1.0/N)*np.sum(np.power((y_noisy - yhat_numpy), 2))\n",
    "\n",
    "# Print the MSE.\n",
    "print('MSE: %1.6f' % Je_optimum)"
   ]
  },
  {
   "cell_type": "markdown",
   "metadata": {},
   "source": [
    "### Encontrando a solução ótima com a equação normal implementada pela biblioteca Scikit-learn\n",
    "\n",
    "Solução equivalente à implementada com a biblioteca NumPy usando a biblioteca Scikit-Learn."
   ]
  },
  {
   "cell_type": "code",
   "execution_count": 7,
   "metadata": {},
   "outputs": [
    {
     "name": "stdout",
     "output_type": "stream",
     "text": [
      "a0: 4.0763\n",
      "a1: 2.9413\n"
     ]
    }
   ],
   "source": [
    "# Instantiate the LinearRegression class.\n",
    "reg = LinearRegression()\n",
    "\n",
    "# Train the model.\n",
    "reg.fit(x, y_noisy)\n",
    "\n",
    "print('a0: %1.4f' % (reg.intercept_[0])) # Value that crosses the y-axis when all features are equal to 0.\n",
    "print('a1: %1.4f' % (reg.coef_[0, 0]))   # parameters associated with the features."
   ]
  },
  {
   "cell_type": "markdown",
   "metadata": {},
   "source": [
    "### Observações\n",
    "\n",
    "+ Toda classe da biblioteca SciKit-Learn possui um método `fit` para treinamento do modelo.\n",
    "+ Percebam que o argumento $x$ passado para o método `fit` da classe `LinearRegression` é uma matriz com $N \\times K$.\n",
    "+ Porém, lembrem-se que neste exemplo temos peso $a_0$ e, portanto, $x$ deveria ter dimensão $N \\times K+1$. \n",
    "+ Entretanto, **por padrão**, a classe `LinearRegression` já faz isso automaticamente. \n",
    "+ Caso sua função hipótese não considere o peso $a_0$, então, durante a instanciação da classe `LinearRegression` vocês devem configurar o parâmetro `fit_intercept=False`.\n",
    "+ Documentação da classe:\n",
    "    + https://scikit-learn.org/stable/modules/generated/sklearn.linear_model.LinearRegression.html"
   ]
  },
  {
   "cell_type": "markdown",
   "metadata": {},
   "source": [
    "#### Realizando predições com a função hipótese e calculando o erro quadrático médio obtido com ela.\n",
    "\n",
    "+ A classe `LinearRegression` possui um método `predict` que realiza as predições para o vetor ou matriz de atributos passado como parâmetro de entrada."
   ]
  },
  {
   "cell_type": "code",
   "execution_count": 8,
   "metadata": {},
   "outputs": [
    {
     "name": "stdout",
     "output_type": "stream",
     "text": [
      "MSE: 0.927258\n"
     ]
    }
   ],
   "source": [
    "# Performing predictions with the hypothesis function.\n",
    "yhat_sklearn = reg.predict(x)\n",
    "\n",
    "# Calculating the Mean Squared Error (MSE).\n",
    "Je_sklearn = (1.0/N)*np.sum(np.power((y_noisy - yhat_sklearn), 2))\n",
    "\n",
    "# Print the MSE.\n",
    "print('MSE: %1.6f' % Je_sklearn)"
   ]
  },
  {
   "cell_type": "markdown",
   "metadata": {},
   "source": [
    "### Comparando os resultados."
   ]
  },
  {
   "cell_type": "code",
   "execution_count": 9,
   "metadata": {},
   "outputs": [
    {
     "data": {
      "image/png": "[encoded data removed]",
      "text/plain": [
       "<Figure size 432x288 with 1 Axes>"
      ]
     },
     "metadata": {
      "needs_background": "light"
     },
     "output_type": "display_data"
    }
   ],
   "source": [
    "# Plot pair example/label.\n",
    "fig = plt.figure()\n",
    "plt.plot(x, y, label='Função objetivo', linewidth=7)\n",
    "plt.plot(x, y_noisy, '.', label='Função observável (versão ruidosa)')\n",
    "plt.plot(x, yhat_numpy, 'r.', label='NumPy', linewidth=4)\n",
    "plt.plot(x, yhat_sklearn, 'k--', label='Sckit-learn')\n",
    "plt.xlabel('x', fontsize=14)\n",
    "plt.ylabel('y', fontsize=14)\n",
    "plt.legend()\n",
    "plt.grid()\n",
    "plt.show()"
   ]
  },
  {
   "cell_type": "markdown",
   "metadata": {},
   "source": [
    "### Observações\n",
    "\n",
    "+ Com apenas 100 amostras, os valores obtidos são próximos dos exatos, porém, o ruído limita a aproximação.\n",
    "+ Se aumentarmos o número de exemplos, conseguimos melhorar a aproximação $N \\to \\infty \\therefore \\hat{a}_0 \\to a_0$ e $\\hat{a}_1 \\to a_1$.\n",
    "+ Porém, percebam que para termos valores idênticos aos exatos, teríamos que ter um número de amostras tendendo ao infinito, o que na prática, não é possível devido a limitações computacionais (e.g., memória e CPU).\n",
    "+ Outra possibilidade para melhorar a aproximação é obter amostras com menor quantidade de ruído (e.g., ruído com menor variância), mas na maioria dos casos, por não termos controle sobre o processo de geração das amostras, isso se torna impossível.\n",
    "+ Idealmente, para $N \\to \\infty$, então $\\hat{a}_0 =  a_0$, $\\hat{a}_1 = a_1$ e $\\hat{y} = y$. Portanto\n",
    "$$\\lim_{N \\to \\infty} \\frac{1}{N} \\sum_{n=0}^{N-1} (y_{noisy} - \\hat{y})^2 = E[w^2].$$\n",
    "ou seja, o menor valor possível para o MSE será igual ao momento de ordem 2 do ruído, e, como ele tem média igual a zero, ele torna igual a sua variância."
   ]
  },
  {
   "cell_type": "code",
   "execution_count": null,
   "metadata": {},
   "outputs": [],
   "source": []
  }
 ],
 "metadata": {
  "kernelspec": {
   "display_name": "Python 3 (ipykernel)",
   "language": "python",
   "name": "python3"
  },
  "language_info": {
   "codemirror_mode": {
    "name": "ipython",
    "version": 3
   },
   "file_extension": ".py",
   "mimetype": "text/x-python",
   "name": "python",
   "nbconvert_exporter": "python",
   "pygments_lexer": "ipython3",
   "version": "3.9.7"
  }
 },
 "nbformat": 4,
 "nbformat_minor": 4
}
