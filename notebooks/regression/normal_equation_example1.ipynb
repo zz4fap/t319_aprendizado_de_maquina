{
 "cells": [
  {
   "cell_type": "code",
   "execution_count": 96,
   "metadata": {},
   "outputs": [],
   "source": [
    "# Import all the necessary libraries.\n",
    "import numpy as np\n",
    "import matplotlib.pyplot as plt\n",
    "\n",
    "# Import the linear regression module form the library.\n",
    "from sklearn.linear_model import LinearRegression"
   ]
  },
  {
   "cell_type": "code",
   "execution_count": 97,
   "metadata": {},
   "outputs": [],
   "source": [
    "# Always reset the pseudo-random numbers generator to a known value so that your results are always the same.\n",
    "np.random.seed(1234)"
   ]
  },
  {
   "cell_type": "code",
   "execution_count": 98,
   "metadata": {},
   "outputs": [],
   "source": [
    "# Generate input/ouput (features/labels) values.\n",
    "N = 100 # Number of observations (pairs of features and labels).\n",
    "\n",
    "# True function.\n",
    "x = 2.0*np.random.rand(N, 1)\n",
    "y = 4.0 + 3.0*x \n",
    "\n",
    "# Observable function.\n",
    "y_noisy = y + np.random.randn(N, 1)"
   ]
  },
  {
   "cell_type": "code",
   "execution_count": 99,
   "metadata": {},
   "outputs": [
    {
     "data": {
      "image/png": "[encoded data removed]",
      "text/plain": [
       "<Figure size 432x288 with 1 Axes>"
      ]
     },
     "metadata": {
      "needs_background": "light"
     },
     "output_type": "display_data"
    }
   ],
   "source": [
    "# Plot pair example/label.\n",
    "fig = plt.figure()\n",
    "plt.plot(x, y_noisy, '.')\n",
    "plt.xlabel('x')\n",
    "plt.ylabel('y')\n",
    "plt.grid()\n",
    "plt.show()"
   ]
  },
  {
   "cell_type": "markdown",
   "metadata": {},
   "source": [
    "## Manual solution"
   ]
  },
  {
   "cell_type": "code",
   "execution_count": 100,
   "metadata": {},
   "outputs": [
    {
     "name": "stdout",
     "output_type": "stream",
     "text": [
      "a0: 4.0763\n",
      "a1: 2.9413\n"
     ]
    }
   ],
   "source": [
    "# Solve by applying the least-Squares method.\n",
    "# We use the inv() function from NumPy’s Linear Algebra module (np.linalg) to compute the inverse of a matrix.\n",
    "# We use dot() method for matrix multiplication.\n",
    "X_b = np.c_[np.ones((N, 1)), x] # add x0 = 1 to each instance\n",
    "a_optimum = np.linalg.inv(X_b.T.dot(X_b)).dot(X_b.T).dot(y_noisy)\n",
    "\n",
    "# Print best solution.\n",
    "print('a0: %1.4f' % (a_optimum[0][0]))\n",
    "print('a1: %1.4f' % (a_optimum[1][0]))"
   ]
  },
  {
   "cell_type": "code",
   "execution_count": 101,
   "metadata": {},
   "outputs": [
    {
     "name": "stdout",
     "output_type": "stream",
     "text": [
      "MSE: 0.9272583695173344\n"
     ]
    }
   ],
   "source": [
    "yhat = X_b.dot(a_optimum)\n",
    "\n",
    "Je_optimum = (1/N)*np.sum(np.power((y_noisy - yhat), 2))\n",
    "print('MSE:', Je_optimum)"
   ]
  },
  {
   "cell_type": "markdown",
   "metadata": {},
   "source": [
    "## Scikit-learn's solution"
   ]
  },
  {
   "cell_type": "code",
   "execution_count": 102,
   "metadata": {},
   "outputs": [
    {
     "name": "stdout",
     "output_type": "stream",
     "text": [
      "a0: 4.0763\n",
      "a1: 2.9413\n"
     ]
    }
   ],
   "source": [
    "# Instantiate the LinearRegression class.\n",
    "lin_reg = LinearRegression()\n",
    "\n",
    "# Train the model.\n",
    "lin_reg.fit(x, y_noisy)\n",
    "\n",
    "print('a0: %1.4f' % (lin_reg.intercept_[0])) # Value that crosses the y-axis when all features are equal to 0.\n",
    "print('a1: %1.4f' % (lin_reg.coef_[0][0])) # parameters associated with the features.\n",
    "\n",
    "# Create column vector.\n",
    "a_sklearn = np.zeros((2, 1))\n",
    "a_sklearn[0][0] = lin_reg.intercept_[0]\n",
    "a_sklearn[1][0] = lin_reg.coef_[0][0]"
   ]
  },
  {
   "cell_type": "code",
   "execution_count": 103,
   "metadata": {},
   "outputs": [
    {
     "name": "stdout",
     "output_type": "stream",
     "text": [
      "MSE: 0.9272583695173342\n"
     ]
    }
   ],
   "source": [
    "yhat = X_b.dot(a_sklearn)\n",
    "\n",
    "Je_sklearn = (1/N)*np.sum(np.power((y_noisy - yhat), 2))\n",
    "print('MSE:', Je_sklearn)"
   ]
  },
  {
   "cell_type": "code",
   "execution_count": 104,
   "metadata": {},
   "outputs": [
    {
     "data": {
      "image/png": "[encoded data removed]",
      "text/plain": [
       "<Figure size 432x288 with 1 Axes>"
      ]
     },
     "metadata": {
      "needs_background": "light"
     },
     "output_type": "display_data"
    }
   ],
   "source": [
    "# Plot pair example/label.\n",
    "fig = plt.figure()\n",
    "plt.plot(x, y_noisy, '.', label='noisy data')\n",
    "plt.plot(x, X_b.dot(a_optimum), 'r.', label='equação normal')\n",
    "plt.plot(x, X_b.dot(a_sklearn), 'k--', label='Sckit-learn')\n",
    "plt.xlabel('x')\n",
    "plt.ylabel('y')\n",
    "plt.legend()\n",
    "plt.grid()\n",
    "plt.show()"
   ]
  },
  {
   "cell_type": "code",
   "execution_count": null,
   "metadata": {},
   "outputs": [],
   "source": []
  }
 ],
 "metadata": {
  "kernelspec": {
   "display_name": "Python 3",
   "language": "python",
   "name": "python3"
  },
  "language_info": {
   "codemirror_mode": {
    "name": "ipython",
    "version": 3
   },
   "file_extension": ".py",
   "mimetype": "text/x-python",
   "name": "python",
   "nbconvert_exporter": "python",
   "pygments_lexer": "ipython3",
   "version": "3.7.7"
  }
 },
 "nbformat": 4,
 "nbformat_minor": 4
}
