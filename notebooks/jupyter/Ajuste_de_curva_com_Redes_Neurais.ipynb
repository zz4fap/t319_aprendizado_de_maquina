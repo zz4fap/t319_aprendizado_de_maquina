{
 "cells": [
  {
   "cell_type": "markdown",
   "metadata": {},
   "source": [
    "### Exemplo de aproximação de curvas (ou funções).\n",
    "\n",
    "Este exemplo utiliza uma rede neural para aproximar a função original por trás de dados ruidosos.\n",
    "\n",
    "A função original é mostrada abaixo.\n",
    "$$y = 2 + 1.4 \\sin(1.2x) + 2.1 \\cos(-2.2x + 3)$$"
   ]
  },
  {
   "cell_type": "code",
   "execution_count": 151,
   "metadata": {},
   "outputs": [],
   "source": [
    "import numpy as np\n",
    "import matplotlib.pyplot as plt\n",
    "\n",
    "# importa classe MLPRegressor do modulo neural network\n",
    "from sklearn.neural_network import MLPRegressor\n",
    "\n",
    "# módulo com classes para pré-processamento.\n",
    "from sklearn import preprocessing\n",
    "\n",
    "%matplotlib inline"
   ]
  },
  {
   "cell_type": "code",
   "execution_count": 152,
   "metadata": {},
   "outputs": [],
   "source": [
    "# faz com que o gerador de numeros aleatorios sempre forneca os mesmos valores.\n",
    "seed = 42\n",
    "np.random.seed(seed) "
   ]
  },
  {
   "cell_type": "code",
   "execution_count": 153,
   "metadata": {},
   "outputs": [],
   "source": [
    "# define o número de amostras.\n",
    "N = 1000\n",
    "\n",
    "# gera os valores de x.\n",
    "x = np.linspace(-10, 10, N).reshape(N,1)\n",
    "\n",
    "# função original.\n",
    "y = 2 + 1.4 * np.sin(1.2*x) + 2.1 * np.cos(-2.2*x + 3)\n",
    "\n",
    "# adicionando ruido à função original.\n",
    "y_noise = y + np.random.randn(N,1)"
   ]
  },
  {
   "cell_type": "code",
   "execution_count": null,
   "metadata": {},
   "outputs": [],
   "source": [
    "# instancia um objeto da classe MLPRegressor.\n",
    "mlp = MLPRegressor(hidden_layer_sizes=(40,20,10), activation='tanh', solver='lbfgs', max_iter=4000, tol=1e-3, alpha=0.9, random_state=seed)\n",
    "\n",
    "# treina a rede neural para aproximar a função original com a rede neural.\n",
    "mlp.fit(x, y_noise.ravel())\n",
    "\n",
    "# realiza predições.\n",
    "yfit = mlp.predict(x)"
   ]
  },
  {
   "cell_type": "code",
   "execution_count": null,
   "metadata": {},
   "outputs": [],
   "source": [
    "plt.figure()\n",
    "plt.plot(x, y_noise, 'o', label = 'função original + ruido')\n",
    "plt.plot(x, y, 'k', label = 'função original')\n",
    "plt.plot(x, yfit, '-r', label = 'curva ajustada com MLP', zorder = 10)\n",
    "plt.legend()\n",
    "plt.xlabel('X')\n",
    "plt.ylabel('y')\n",
    "plt.grid()\n",
    "\n",
    "# salva figura em arquivo\n",
    "plt.savefig('mlp_regression.png')\n",
    "\n",
    "plt.show()"
   ]
  }
 ],
 "metadata": {
  "kernelspec": {
   "display_name": "Python 3",
   "language": "python",
   "name": "python3"
  },
  "language_info": {
   "codemirror_mode": {
    "name": "ipython",
    "version": 3
   },
   "file_extension": ".py",
   "mimetype": "text/x-python",
   "name": "python",
   "nbconvert_exporter": "python",
   "pygments_lexer": "ipython3",
   "version": "3.7.7"
  }
 },
 "nbformat": 4,
 "nbformat_minor": 4
}
